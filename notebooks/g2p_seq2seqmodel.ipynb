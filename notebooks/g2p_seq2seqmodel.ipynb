{
 "cells": [
  {
   "cell_type": "markdown",
   "metadata": {
    "id": "n2UC5X0evaSC"
   },
   "source": [
    "# Loading data"
   ]
  },
  {
   "cell_type": "code",
   "execution_count": 1,
   "metadata": {
    "colab": {
     "base_uri": "https://localhost:8080/"
    },
    "executionInfo": {
     "elapsed": 36642,
     "status": "ok",
     "timestamp": 1698319840149,
     "user": {
      "displayName": "Mohammad Reza Shahrestani",
      "userId": "10693113313433738905"
     },
     "user_tz": -210
    },
    "id": "4Ql5c0Cgu3qQ",
    "outputId": "a0d1e6e3-1678-4a84-f0bf-41a5d8990cd5"
   },
   "outputs": [],
   "source": [
    "# from google.colab import drive\n",
    "# drive.mount(\"/content/drive/\")"
   ]
  },
  {
   "cell_type": "code",
   "execution_count": 2,
   "metadata": {
    "colab": {
     "base_uri": "https://localhost:8080/",
     "height": 562
    },
    "executionInfo": {
     "elapsed": 14749,
     "status": "ok",
     "timestamp": 1698319854890,
     "user": {
      "displayName": "Mohammad Reza Shahrestani",
      "userId": "10693113313433738905"
     },
     "user_tz": -210
    },
    "id": "yj6NUTpKv-Qe",
    "outputId": "3f8b4936-7c8b-40ca-8269-c51a3f4cdf9a"
   },
   "outputs": [
    {
     "data": {
      "text/html": [
       "<div>\n",
       "<style scoped>\n",
       "    .dataframe tbody tr th:only-of-type {\n",
       "        vertical-align: middle;\n",
       "    }\n",
       "\n",
       "    .dataframe tbody tr th {\n",
       "        vertical-align: top;\n",
       "    }\n",
       "\n",
       "    .dataframe thead th {\n",
       "        text-align: right;\n",
       "    }\n",
       "</style>\n",
       "<table border=\"1\" class=\"dataframe\">\n",
       "  <thead>\n",
       "    <tr style=\"text-align: right;\">\n",
       "      <th></th>\n",
       "      <th>VERSE1</th>\n",
       "      <th>VERSE2</th>\n",
       "      <th>PROSODY</th>\n",
       "      <th>PROSODY_ID</th>\n",
       "      <th>VERSE1_phoneme</th>\n",
       "      <th>VERSE2_phoneme</th>\n",
       "      <th>PROSODY_phoneme</th>\n",
       "    </tr>\n",
       "  </thead>\n",
       "  <tbody>\n",
       "    <tr>\n",
       "      <th>0</th>\n",
       "      <td>‏ آتش آهم ز بس گلزار بی نم می شود</td>\n",
       "      <td>برگ گل سنگ ته دندان شبنم می شود</td>\n",
       "      <td>فاعلاتن فاعلاتن فاعلاتن فاعلن</td>\n",
       "      <td>12</td>\n",
       "      <td>‏ ātaš āham ze bas golzār bi nam mišavad</td>\n",
       "      <td>barg gol sang tah dandān šabnam mišavad</td>\n",
       "      <td>fā`elānt fā`elānt fā`elānt fā`elan</td>\n",
       "    </tr>\n",
       "    <tr>\n",
       "      <th>1</th>\n",
       "      <td>‏ بهیچوجه نیارم برید ازو که مرا</td>\n",
       "      <td>به دل محبت او چون صفاست با گوهر</td>\n",
       "      <td>مفاعلن فعلاتن مفاعلن فعلن</td>\n",
       "      <td>92</td>\n",
       "      <td>‏ bahyxube nayāram barid ozav ke marā</td>\n",
       "      <td>be del mohbat u čon sefāsat bā gohar</td>\n",
       "      <td>mafā`elen fal`ānt mafā`elen fe`lan</td>\n",
       "    </tr>\n",
       "    <tr>\n",
       "      <th>2</th>\n",
       "      <td>‏ بی تکلف ز شکر ریزی صائب جویا</td>\n",
       "      <td>طوطی نطق تو طرز سخن آموخته است</td>\n",
       "      <td>فعلاتن فعلاتن فعلاتن فعلن</td>\n",
       "      <td>45</td>\n",
       "      <td>‏ bi taklef ze šekar rizi sā`eb juyā</td>\n",
       "      <td>tuti notq to tarz soxan āmustened</td>\n",
       "      <td>fal`ānt fal`ānt fal`ānt fe`lan</td>\n",
       "    </tr>\n",
       "    <tr>\n",
       "      <th>3</th>\n",
       "      <td>‏ چنان کز شهد و شکر نقل نوشین می‌شود پیدا</td>\n",
       "      <td>چو لب بر لب گذاری جان شیرین می‌شود پیدا</td>\n",
       "      <td>مفاعیلن مفاعیلن مفاعیلن مفاعیلن</td>\n",
       "      <td>114</td>\n",
       "      <td>‏ čenān kez šahd va šekar naql nušin mišavad p...</td>\n",
       "      <td>čo lab bar lab gozāri jān širin mišavad peydā</td>\n",
       "      <td>mafā`eliyān mafā`eliyān mafā`eliyān mafā`eliyān</td>\n",
       "    </tr>\n",
       "    <tr>\n",
       "      <th>4</th>\n",
       "      <td>‏ خواهم که خدا روی به دولت بگشاید</td>\n",
       "      <td>زین درگه امید عرب را و عجم را</td>\n",
       "      <td>مفعول مفاعیل مفاعیل فعولن</td>\n",
       "      <td>163</td>\n",
       "      <td>‏ xāhomeko xodā ravi be dolat begošāyad</td>\n",
       "      <td>yzn dargah omid arab rā va ajam rā</td>\n",
       "      <td>maf`ul mafā`e`il mafā`e`il fe`olan</td>\n",
       "    </tr>\n",
       "    <tr>\n",
       "      <th>...</th>\n",
       "      <td>...</td>\n",
       "      <td>...</td>\n",
       "      <td>...</td>\n",
       "      <td>...</td>\n",
       "      <td>...</td>\n",
       "      <td>...</td>\n",
       "      <td>...</td>\n",
       "    </tr>\n",
       "    <tr>\n",
       "      <th>1339684</th>\n",
       "      <td>ییشش بخوانده ‌غاصب کالیسی‌‌</td>\n",
       "      <td>مستد برانه آیت ولّو را‌</td>\n",
       "      <td>مفعول فاعلات مفاعیلن</td>\n",
       "      <td>143</td>\n",
       "      <td>yeš`ege bexānde qa`asb kālisi</td>\n",
       "      <td>mostad berāne āyat velv rā`</td>\n",
       "      <td>maf`ul fā`elāt mafā`eliyān</td>\n",
       "    </tr>\n",
       "    <tr>\n",
       "      <th>1339685</th>\n",
       "      <td>ییش‌هر تختی یکی خوان ظریف</td>\n",
       "      <td>وندر آن گسترده دیبایی لطیف</td>\n",
       "      <td>فاعلاتن فاعلاتن فاعلن</td>\n",
       "      <td>16</td>\n",
       "      <td>ye^lang taxti ye^ki xān zarif</td>\n",
       "      <td>venedr ān gostarde dibā`i latif</td>\n",
       "      <td>fā`elānt fā`elānt fā`elan</td>\n",
       "    </tr>\n",
       "    <tr>\n",
       "      <th>1339686</th>\n",
       "      <td>ییشوایان بهر فردا گرم شور</td>\n",
       "      <td>هریکی گوبا به دیگرگونه طور</td>\n",
       "      <td>فاعلاتن فاعلاتن فاعلن</td>\n",
       "      <td>16</td>\n",
       "      <td>yejviyān ba^hre fardā garm šur</td>\n",
       "      <td>haryeki govā be digargune tor</td>\n",
       "      <td>fā`elānt fā`elānt fā`elan</td>\n",
       "    </tr>\n",
       "    <tr>\n",
       "      <th>1339687</th>\n",
       "      <td>ییک باره‌ای برنشسته سمند</td>\n",
       "      <td>بفتراک بربسته دارد کمند</td>\n",
       "      <td>فعولن فعولن فعولن فعل</td>\n",
       "      <td>54</td>\n",
       "      <td>yezak hāre`e barnešaste samand</td>\n",
       "      <td>beftārt barbaste dārad kamand</td>\n",
       "      <td>fe`olan fe`olan fe`olan fe`l</td>\n",
       "    </tr>\n",
       "    <tr>\n",
       "      <th>1339688</th>\n",
       "      <td>یین حق بود کین گفت از نهانی</td>\n",
       "      <td>نشان خود ز عین بی نشانی</td>\n",
       "      <td>مفاعیلن مفاعیلن فعولن</td>\n",
       "      <td>109</td>\n",
       "      <td>yanj haq bud kin goft az nahāni</td>\n",
       "      <td>nešān xud ze eyn bi nešāni</td>\n",
       "      <td>mafā`eliyān mafā`eliyān fe`olan</td>\n",
       "    </tr>\n",
       "  </tbody>\n",
       "</table>\n",
       "<p>1339689 rows × 7 columns</p>\n",
       "</div>"
      ],
      "text/plain": [
       "                                            VERSE1  \\\n",
       "0                ‏ آتش آهم ز بس گلزار بی نم می شود   \n",
       "1                  ‏ بهیچوجه نیارم برید ازو که مرا   \n",
       "2                   ‏ بی تکلف ز شکر ریزی صائب جویا   \n",
       "3        ‏ چنان کز شهد و شکر نقل نوشین می‌شود پیدا   \n",
       "4                ‏ خواهم که خدا روی به دولت بگشاید   \n",
       "...                                            ...   \n",
       "1339684                ییشش بخوانده ‌غاصب کالیسی‌‌   \n",
       "1339685                  ییش‌هر تختی یکی خوان ظریف   \n",
       "1339686                  ییشوایان بهر فردا گرم شور   \n",
       "1339687                   ییک باره‌ای برنشسته سمند   \n",
       "1339688                یین حق بود کین گفت از نهانی   \n",
       "\n",
       "                                          VERSE2  \\\n",
       "0                برگ گل سنگ ته دندان شبنم می شود   \n",
       "1                به دل محبت او چون صفاست با گوهر   \n",
       "2                 طوطی نطق تو طرز سخن آموخته است   \n",
       "3        چو لب بر لب گذاری جان شیرین می‌شود پیدا   \n",
       "4                  زین درگه امید عرب را و عجم را   \n",
       "...                                          ...   \n",
       "1339684                  مستد برانه آیت ولّو را‌   \n",
       "1339685               وندر آن گسترده دیبایی لطیف   \n",
       "1339686               هریکی گوبا به دیگرگونه طور   \n",
       "1339687                  بفتراک بربسته دارد کمند   \n",
       "1339688                  نشان خود ز عین بی نشانی   \n",
       "\n",
       "                                  PROSODY  PROSODY_ID  \\\n",
       "0          فاعلاتن فاعلاتن فاعلاتن فاعلن           12   \n",
       "1              مفاعلن فعلاتن مفاعلن فعلن           92   \n",
       "2              فعلاتن فعلاتن فعلاتن فعلن           45   \n",
       "3        مفاعیلن مفاعیلن مفاعیلن مفاعیلن          114   \n",
       "4              مفعول مفاعیل مفاعیل فعولن          163   \n",
       "...                                   ...         ...   \n",
       "1339684             مفعول فاعلات مفاعیلن          143   \n",
       "1339685            فاعلاتن فاعلاتن فاعلن           16   \n",
       "1339686            فاعلاتن فاعلاتن فاعلن           16   \n",
       "1339687            فعولن فعولن فعولن فعل           54   \n",
       "1339688            مفاعیلن مفاعیلن فعولن          109   \n",
       "\n",
       "                                            VERSE1_phoneme  \\\n",
       "0                 ‏ ātaš āham ze bas golzār bi nam mišavad   \n",
       "1                    ‏ bahyxube nayāram barid ozav ke marā   \n",
       "2                     ‏ bi taklef ze šekar rizi sā`eb juyā   \n",
       "3        ‏ čenān kez šahd va šekar naql nušin mišavad p...   \n",
       "4                  ‏ xāhomeko xodā ravi be dolat begošāyad   \n",
       "...                                                    ...   \n",
       "1339684                      yeš`ege bexānde qa`asb kālisi   \n",
       "1339685                      ye^lang taxti ye^ki xān zarif   \n",
       "1339686                     yejviyān ba^hre fardā garm šur   \n",
       "1339687                     yezak hāre`e barnešaste samand   \n",
       "1339688                    yanj haq bud kin goft az nahāni   \n",
       "\n",
       "                                        VERSE2_phoneme  \\\n",
       "0              barg gol sang tah dandān šabnam mišavad   \n",
       "1                 be del mohbat u čon sefāsat bā gohar   \n",
       "2                    tuti notq to tarz soxan āmustened   \n",
       "3        čo lab bar lab gozāri jān širin mišavad peydā   \n",
       "4                   yzn dargah omid arab rā va ajam rā   \n",
       "...                                                ...   \n",
       "1339684                    mostad berāne āyat velv rā`   \n",
       "1339685                venedr ān gostarde dibā`i latif   \n",
       "1339686                  haryeki govā be digargune tor   \n",
       "1339687                  beftārt barbaste dārad kamand   \n",
       "1339688                     nešān xud ze eyn bi nešāni   \n",
       "\n",
       "                                         PROSODY_phoneme  \n",
       "0                     fā`elānt fā`elānt fā`elānt fā`elan  \n",
       "1                     mafā`elen fal`ānt mafā`elen fe`lan  \n",
       "2                         fal`ānt fal`ānt fal`ānt fe`lan  \n",
       "3        mafā`eliyān mafā`eliyān mafā`eliyān mafā`eliyān  \n",
       "4                     maf`ul mafā`e`il mafā`e`il fe`olan  \n",
       "...                                                  ...  \n",
       "1339684                       maf`ul fā`elāt mafā`eliyān  \n",
       "1339685                        fā`elānt fā`elānt fā`elan  \n",
       "1339686                        fā`elānt fā`elānt fā`elan  \n",
       "1339687                     fe`olan fe`olan fe`olan fe`l  \n",
       "1339688                  mafā`eliyān mafā`eliyān fe`olan  \n",
       "\n",
       "[1339689 rows x 7 columns]"
      ]
     },
     "execution_count": 2,
     "metadata": {},
     "output_type": "execute_result"
    }
   ],
   "source": [
    "import pandas as pd\n",
    "wp = pd.read_csv('../weighted_phonemes.csv', encoding=\"utf-8\")\n",
    "wp.drop('Unnamed: 0', inplace=True, axis=1)\n",
    "wp"
   ]
  },
  {
   "cell_type": "markdown",
   "metadata": {
    "id": "r3x3Sxz8uHzW"
   },
   "source": [
    "# **Balance Sample**  \n",
    "2000 records  from each 55 popular prosodies."
   ]
  },
  {
   "cell_type": "code",
   "execution_count": 3,
   "metadata": {
    "colab": {
     "base_uri": "https://localhost:8080/"
    },
    "executionInfo": {
     "elapsed": 1047,
     "status": "ok",
     "timestamp": 1698319855843,
     "user": {
      "displayName": "Mohammad Reza Shahrestani",
      "userId": "10693113313433738905"
     },
     "user_tz": -210
    },
    "id": "C1Uf06AC5tIs",
    "outputId": "1f764bcb-ab8e-4227-d39e-b4347d01c604"
   },
   "outputs": [
    {
     "name": "stderr",
     "output_type": "stream",
     "text": [
      "C:\\Users\\Turbo\\AppData\\Local\\Temp\\ipykernel_13212\\3966078360.py:8: DeprecationWarning: DataFrameGroupBy.apply operated on the grouping columns. This behavior is deprecated, and in a future version of pandas the grouping columns will be excluded from the operation. Either pass `include_groups=False` to exclude the groupings or explicitly select the grouping columns after groupby to silence this warning.\n",
      "  bsmp = result.groupby('PROSODY_ID').apply(select_random_rows).reset_index(drop=True)\n"
     ]
    },
    {
     "data": {
      "text/plain": [
       "55"
      ]
     },
     "execution_count": 3,
     "metadata": {},
     "output_type": "execute_result"
    }
   ],
   "source": [
    "id_counts = wp.groupby('PROSODY_ID').size()\n",
    "filtered_ids = id_counts[id_counts >= 100]\n",
    "result = wp[wp['PROSODY_ID'].isin(filtered_ids.index)]\n",
    "\n",
    "def select_random_rows(group):\n",
    "    n = min(100, len(group))\n",
    "    return group.sample(n=n)\n",
    "bsmp = result.groupby('PROSODY_ID').apply(select_random_rows).reset_index(drop=True)\n",
    "numberclass = len(set(bsmp[\"PROSODY_ID\"]))\n",
    "numberclass"
   ]
  },
  {
   "cell_type": "markdown",
   "metadata": {
    "id": "DTswDk2quZqk"
   },
   "source": [
    "shuffling"
   ]
  },
  {
   "cell_type": "code",
   "execution_count": 4,
   "metadata": {
    "colab": {
     "base_uri": "https://localhost:8080/",
     "height": 562
    },
    "executionInfo": {
     "elapsed": 35,
     "status": "ok",
     "timestamp": 1698319855848,
     "user": {
      "displayName": "Mohammad Reza Shahrestani",
      "userId": "10693113313433738905"
     },
     "user_tz": -210
    },
    "id": "aJ89ZHLGDQPg",
    "outputId": "9e31702c-45b4-443a-a174-cbae29e6c490"
   },
   "outputs": [
    {
     "data": {
      "text/html": [
       "<div>\n",
       "<style scoped>\n",
       "    .dataframe tbody tr th:only-of-type {\n",
       "        vertical-align: middle;\n",
       "    }\n",
       "\n",
       "    .dataframe tbody tr th {\n",
       "        vertical-align: top;\n",
       "    }\n",
       "\n",
       "    .dataframe thead th {\n",
       "        text-align: right;\n",
       "    }\n",
       "</style>\n",
       "<table border=\"1\" class=\"dataframe\">\n",
       "  <thead>\n",
       "    <tr style=\"text-align: right;\">\n",
       "      <th></th>\n",
       "      <th>VERSE1</th>\n",
       "      <th>VERSE2</th>\n",
       "      <th>PROSODY</th>\n",
       "      <th>PROSODY_ID</th>\n",
       "      <th>VERSE1_phoneme</th>\n",
       "      <th>VERSE2_phoneme</th>\n",
       "      <th>PROSODY_phoneme</th>\n",
       "    </tr>\n",
       "  </thead>\n",
       "  <tbody>\n",
       "    <tr>\n",
       "      <th>0</th>\n",
       "      <td>نه قتیل تیغ جفا پدر</td>\n",
       "      <td>ننهی چرا قدس به سرم</td>\n",
       "      <td>متفاعلن متفاعلن متفاعلن متفاعلن</td>\n",
       "      <td>68</td>\n",
       "      <td>noh qatil tiq jafā pedar</td>\n",
       "      <td>nanehi čarā qods be soram</td>\n",
       "      <td>motefā`elan motefā`elan motefā`elan motefā`elan</td>\n",
       "    </tr>\n",
       "    <tr>\n",
       "      <th>1</th>\n",
       "      <td>ور جان ببری از دست غمش</td>\n",
       "      <td>از مرده خری، والله بتری</td>\n",
       "      <td>مستفعلتن مستفعلتن</td>\n",
       "      <td>70</td>\n",
       "      <td>var jān bebari az dast qamš</td>\n",
       "      <td>az morde xari ، vālele betari</td>\n",
       "      <td>mostaf`altan mostaf`altan</td>\n",
       "    </tr>\n",
       "    <tr>\n",
       "      <th>2</th>\n",
       "      <td>دارد به جز نبی بر ماسوا سبق</td>\n",
       "      <td>جوید عطارد از بهر ثناش رق</td>\n",
       "      <td>مفعول فاعلن مفعول فاعلن</td>\n",
       "      <td>151</td>\n",
       "      <td>dārad be joz nabi bar māsavā sabeq</td>\n",
       "      <td>juyad atārod az ba^hre sonāš raq</td>\n",
       "      <td>maf`ul fā`elan maf`ul fā`elan</td>\n",
       "    </tr>\n",
       "    <tr>\n",
       "      <th>3</th>\n",
       "      <td>چه ذوق دارند این چار اصل ز آمیزش</td>\n",
       "      <td>نبات و مردم و حیوان نتیجه این چار</td>\n",
       "      <td>مفاعلن فعلاتن مفاعلن فعلن</td>\n",
       "      <td>92</td>\n",
       "      <td>če zoq dārand in čār asl ze āmizeš</td>\n",
       "      <td>nabāt va mordam va heyvān natije in čār</td>\n",
       "      <td>mafā`elen fal`ānt mafā`elen fe`lan</td>\n",
       "    </tr>\n",
       "    <tr>\n",
       "      <th>4</th>\n",
       "      <td>همچو شهیدان تنش به خاک نپوسد</td>\n",
       "      <td>هر که به تیغ غم تو یافت شهادت</td>\n",
       "      <td>مفتعلن فاعلات مفتعلن فع</td>\n",
       "      <td>117</td>\n",
       "      <td>ha^mčo šahidān taneš be xāk napusad</td>\n",
       "      <td>har ke be tiq qam to yāft šahādat</td>\n",
       "      <td>meftal`on fā`elāt meftal`on fa`</td>\n",
       "    </tr>\n",
       "    <tr>\n",
       "      <th>...</th>\n",
       "      <td>...</td>\n",
       "      <td>...</td>\n",
       "      <td>...</td>\n",
       "      <td>...</td>\n",
       "      <td>...</td>\n",
       "      <td>...</td>\n",
       "      <td>...</td>\n",
       "    </tr>\n",
       "    <tr>\n",
       "      <th>5495</th>\n",
       "      <td>جهد آن کن که از این کان جهان جان را</td>\n",
       "      <td>برگذاری به خرد زین فلک گردان</td>\n",
       "      <td>فعلاتن فعلاتن فعلاتن فع</td>\n",
       "      <td>43</td>\n",
       "      <td>jahad ān kan ke az in kān jahān jān rā</td>\n",
       "      <td>bargozāri be xerad yzn falak gardān</td>\n",
       "      <td>fal`ānt fal`ānt fal`ānt fa`</td>\n",
       "    </tr>\n",
       "    <tr>\n",
       "      <th>5496</th>\n",
       "      <td>رشته مهرش دهد پیوند کالای روان</td>\n",
       "      <td>خود جدا از یکدگر، گر پود و تار آمد مرا</td>\n",
       "      <td>فاعلاتن فاعلاتن فاعلاتن فاعلن</td>\n",
       "      <td>12</td>\n",
       "      <td>rešte mehrešegi dahad peyvand kālāye ravān</td>\n",
       "      <td>xud jodā az yekdgar ، gar pud va tār āmad marā</td>\n",
       "      <td>fā`elānt fā`elānt fā`elānt fā`elan</td>\n",
       "    </tr>\n",
       "    <tr>\n",
       "      <th>5497</th>\n",
       "      <td>ای سال و ماه پیشهٔ تو رادی</td>\n",
       "      <td>در هر دلی ز رادی تو شادی</td>\n",
       "      <td>مفعول فاعلات مفاعیلن</td>\n",
       "      <td>143</td>\n",
       "      <td>ey sāl va māh pišod to rādi</td>\n",
       "      <td>dar har dali ze rādi to šādi</td>\n",
       "      <td>maf`ul fā`elāt mafā`eliyān</td>\n",
       "    </tr>\n",
       "    <tr>\n",
       "      <th>5498</th>\n",
       "      <td>روزم از شب تیره تر است</td>\n",
       "      <td>ای خود شب ما را روز بیا</td>\n",
       "      <td>متفاعلتن متفاعلتن</td>\n",
       "      <td>63</td>\n",
       "      <td>ruzam az šab teyreter ast</td>\n",
       "      <td>ey xud šab mā rā ruz biyā</td>\n",
       "      <td>motefā`eltan motefā`eltan</td>\n",
       "    </tr>\n",
       "    <tr>\n",
       "      <th>5499</th>\n",
       "      <td>ای حدوث تو همدم قدم</td>\n",
       "      <td>ای وجود تو سابق از عدم</td>\n",
       "      <td>فاعلات فع فاعلات فع</td>\n",
       "      <td>3</td>\n",
       "      <td>ey hodus to hamdam qadam</td>\n",
       "      <td>ey vojud to sābeq az adam</td>\n",
       "      <td>fā`elāt fa` fā`elāt fa`</td>\n",
       "    </tr>\n",
       "  </tbody>\n",
       "</table>\n",
       "<p>5500 rows × 7 columns</p>\n",
       "</div>"
      ],
      "text/plain": [
       "                                   VERSE1  \\\n",
       "0                     نه قتیل تیغ جفا پدر   \n",
       "1                  ور جان ببری از دست غمش   \n",
       "2             دارد به جز نبی بر ماسوا سبق   \n",
       "3        چه ذوق دارند این چار اصل ز آمیزش   \n",
       "4            همچو شهیدان تنش به خاک نپوسد   \n",
       "...                                   ...   \n",
       "5495  جهد آن کن که از این کان جهان جان را   \n",
       "5496       رشته مهرش دهد پیوند کالای روان   \n",
       "5497           ای سال و ماه پیشهٔ تو رادی   \n",
       "5498               روزم از شب تیره تر است   \n",
       "5499                  ای حدوث تو همدم قدم   \n",
       "\n",
       "                                      VERSE2                          PROSODY  \\\n",
       "0                        ننهی چرا قدس به سرم  متفاعلن متفاعلن متفاعلن متفاعلن   \n",
       "1                    از مرده خری، والله بتری                مستفعلتن مستفعلتن   \n",
       "2                  جوید عطارد از بهر ثناش رق          مفعول فاعلن مفعول فاعلن   \n",
       "3          نبات و مردم و حیوان نتیجه این چار       مفاعلن فعلاتن مفاعلن فعلن    \n",
       "4              هر که به تیغ غم تو یافت شهادت         مفتعلن فاعلات مفتعلن فع    \n",
       "...                                      ...                              ...   \n",
       "5495            برگذاری به خرد زین فلک گردان          فعلاتن فعلاتن فعلاتن فع   \n",
       "5496  خود جدا از یکدگر، گر پود و تار آمد مرا   فاعلاتن فاعلاتن فاعلاتن فاعلن    \n",
       "5497                در هر دلی ز رادی تو شادی            مفعول فاعلات مفاعیلن    \n",
       "5498                 ای خود شب ما را روز بیا                متفاعلتن متفاعلتن   \n",
       "5499                  ای وجود تو سابق از عدم              فاعلات فع فاعلات فع   \n",
       "\n",
       "      PROSODY_ID                              VERSE1_phoneme  \\\n",
       "0             68                    noh qatil tiq jafā pedar   \n",
       "1             70                 var jān bebari az dast qamš   \n",
       "2            151          dārad be joz nabi bar māsavā sabeq   \n",
       "3             92          če zoq dārand in čār asl ze āmizeš   \n",
       "4            117         ha^mčo šahidān taneš be xāk napusad   \n",
       "...          ...                                         ...   \n",
       "5495          43      jahad ān kan ke az in kān jahān jān rā   \n",
       "5496          12  rešte mehrešegi dahad peyvand kālāye ravān   \n",
       "5497         143                 ey sāl va māh pišod to rādi   \n",
       "5498          63                   ruzam az šab teyreter ast   \n",
       "5499           3                    ey hodus to hamdam qadam   \n",
       "\n",
       "                                      VERSE2_phoneme  \\\n",
       "0                          nanehi čarā qods be soram   \n",
       "1                      az morde xari ، vālele betari   \n",
       "2                   juyad atārod az ba^hre sonāš raq   \n",
       "3            nabāt va mordam va heyvān natije in čār   \n",
       "4                  har ke be tiq qam to yāft šahādat   \n",
       "...                                              ...   \n",
       "5495             bargozāri be xerad yzn falak gardān   \n",
       "5496  xud jodā az yekdgar ، gar pud va tār āmad marā   \n",
       "5497                    dar har dali ze rādi to šādi   \n",
       "5498                       ey xud šab mā rā ruz biyā   \n",
       "5499                       ey vojud to sābeq az adam   \n",
       "\n",
       "                                      PROSODY_phoneme  \n",
       "0     motefā`elan motefā`elan motefā`elan motefā`elan  \n",
       "1                           mostaf`altan mostaf`altan  \n",
       "2                       maf`ul fā`elan maf`ul fā`elan  \n",
       "3                  mafā`elen fal`ānt mafā`elen fe`lan  \n",
       "4                     meftal`on fā`elāt meftal`on fa`  \n",
       "...                                               ...  \n",
       "5495                      fal`ānt fal`ānt fal`ānt fa`  \n",
       "5496               fā`elānt fā`elānt fā`elānt fā`elan  \n",
       "5497                       maf`ul fā`elāt mafā`eliyān  \n",
       "5498                        motefā`eltan motefā`eltan  \n",
       "5499                          fā`elāt fa` fā`elāt fa`  \n",
       "\n",
       "[5500 rows x 7 columns]"
      ]
     },
     "execution_count": 4,
     "metadata": {},
     "output_type": "execute_result"
    }
   ],
   "source": [
    "from random import shuffle\n",
    "\n",
    "row_indices = bsmp.index.tolist()\n",
    "shuffle(row_indices)\n",
    "bsmp = bsmp.iloc[row_indices]\n",
    "bsmp = bsmp.reset_index(drop=True)\n",
    "bsmp"
   ]
  },
  {
   "cell_type": "code",
   "execution_count": 5,
   "metadata": {
    "colab": {
     "base_uri": "https://localhost:8080/",
     "height": 448
    },
    "executionInfo": {
     "elapsed": 36,
     "status": "ok",
     "timestamp": 1698319855852,
     "user": {
      "displayName": "Mohammad Reza Shahrestani",
      "userId": "10693113313433738905"
     },
     "user_tz": -210
    },
    "id": "wiY8_YexL8yK",
    "outputId": "7d707c04-4c44-4089-f73f-5bcc44e77779"
   },
   "outputs": [
    {
     "data": {
      "image/png": "[encoded data removed]",
      "text/plain": [
       "<Figure size 640x480 with 1 Axes>"
      ]
     },
     "metadata": {},
     "output_type": "display_data"
    },
    {
     "data": {
      "text/plain": [
       "5500"
      ]
     },
     "execution_count": 5,
     "metadata": {},
     "output_type": "execute_result"
    }
   ],
   "source": [
    "import matplotlib.pyplot as plt\n",
    "\n",
    "id_counts = bsmp['PROSODY_ID'].value_counts()\n",
    "id_counts_sorted = id_counts.sort_index()\n",
    "\n",
    "plt.bar(id_counts_sorted.index, id_counts_sorted)\n",
    "plt.show()\n",
    "records = len(bsmp)\n",
    "records"
   ]
  },
  {
   "cell_type": "markdown",
   "metadata": {
    "id": "OmqM_4ENxnid"
   },
   "source": [
    "## Splitting data to train,validation,test"
   ]
  },
  {
   "cell_type": "code",
   "execution_count": 6,
   "metadata": {
    "colab": {
     "base_uri": "https://localhost:8080/"
    },
    "executionInfo": {
     "elapsed": 35,
     "status": "ok",
     "timestamp": 1698319855853,
     "user": {
      "displayName": "Mohammad Reza Shahrestani",
      "userId": "10693113313433738905"
     },
     "user_tz": -210
    },
    "id": "yWiKfJLWw-j9",
    "outputId": "2386549e-3e6a-4734-874a-8382689cbae5"
   },
   "outputs": [
    {
     "data": {
      "text/plain": [
       "(11000, 11000)"
      ]
     },
     "execution_count": 6,
     "metadata": {},
     "output_type": "execute_result"
    }
   ],
   "source": [
    "verse1 = list(bsmp[\"VERSE1_phoneme\"])\n",
    "verse2 = list(bsmp[\"VERSE2_phoneme\"])\n",
    "verse = verse1 + verse2\n",
    "prosody = list(bsmp[\"PROSODY_phoneme\"]) + list(bsmp[\"PROSODY_phoneme\"])\n",
    "len(verse),len(prosody)"
   ]
  },
  {
   "cell_type": "code",
   "execution_count": 7,
   "metadata": {
    "id": "TCcKtJGSxe1k"
   },
   "outputs": [],
   "source": [
    "all_data=[]\n",
    "for i in range(len(verse)):\n",
    "  all_data.append((verse[i],prosody[i]))"
   ]
  },
  {
   "cell_type": "code",
   "execution_count": 8,
   "metadata": {
    "colab": {
     "base_uri": "https://localhost:8080/"
    },
    "executionInfo": {
     "elapsed": 21,
     "status": "ok",
     "timestamp": 1698319856325,
     "user": {
      "displayName": "Mohammad Reza Shahrestani",
      "userId": "10693113313433738905"
     },
     "user_tz": -210
    },
    "id": "xZGsj3AVx3Bn",
    "outputId": "9e4c4bc9-93ae-4bcb-ec3f-8079c0cd4133"
   },
   "outputs": [
    {
     "data": {
      "text/plain": [
       "(11000, ('lājaram rext begu` andar bonhāšd', 'fal`ānt fal`ānt fal`ānt fa`'))"
      ]
     },
     "execution_count": 8,
     "metadata": {},
     "output_type": "execute_result"
    }
   ],
   "source": [
    "len(all_data),all_data[500]"
   ]
  },
  {
   "cell_type": "code",
   "execution_count": 9,
   "metadata": {
    "id": "agJ7cV6lzOTw"
   },
   "outputs": [],
   "source": [
    "from sklearn.model_selection import train_test_split\n",
    "train_iter,test_iter=train_test_split(all_data,test_size=0.2,random_state=42,shuffle=True)"
   ]
  },
  {
   "cell_type": "code",
   "execution_count": 10,
   "metadata": {
    "colab": {
     "base_uri": "https://localhost:8080/"
    },
    "executionInfo": {
     "elapsed": 14,
     "status": "ok",
     "timestamp": 1698319856847,
     "user": {
      "displayName": "Mohammad Reza Shahrestani",
      "userId": "10693113313433738905"
     },
     "user_tz": -210
    },
    "id": "snc_SdNIzrKf",
    "outputId": "327b3351-930d-456c-c0c9-f8d82bdc1476"
   },
   "outputs": [
    {
     "data": {
      "text/plain": [
       "(8800, 2200)"
      ]
     },
     "execution_count": 10,
     "metadata": {},
     "output_type": "execute_result"
    }
   ],
   "source": [
    "len(train_iter),len(test_iter)"
   ]
  },
  {
   "cell_type": "markdown",
   "metadata": {
    "id": "ENgi18T7z7YB"
   },
   "source": [
    "# Tokenizer:\n",
    "Since both graphemes and phonemes have no space character we just list the string for tokenizer"
   ]
  },
  {
   "cell_type": "code",
   "execution_count": 11,
   "metadata": {
    "id": "VZRJlGNrzzRS"
   },
   "outputs": [],
   "source": [
    "def my_tokenizer(word: str):\n",
    "    return word.split(\" \")"
   ]
  },
  {
   "cell_type": "markdown",
   "metadata": {
    "id": "kIV-Q01A0iiW"
   },
   "source": [
    "# Building vocab and token transform"
   ]
  },
  {
   "cell_type": "code",
   "execution_count": 12,
   "metadata": {
    "id": "1WrTkS5e0Nuy"
   },
   "outputs": [],
   "source": [
    "from torchtext.vocab import build_vocab_from_iterator\n",
    "from typing import Iterable, List\n",
    "\n",
    "token_transform = {}\n",
    "vocab_transform = {}\n",
    "\n",
    "SRC_LANGUAGE = 'verse'\n",
    "TGT_LANGUAGE = 'prosody'\n",
    "\n",
    "token_transform[SRC_LANGUAGE] = my_tokenizer\n",
    "token_transform[TGT_LANGUAGE] = my_tokenizer\n",
    "\n",
    "# yield token for build_vocab_from_iterator function\n",
    "def yield_tokens(data_iter: Iterable, language: str) -> List[str]:\n",
    "    language_index = {SRC_LANGUAGE: 0, TGT_LANGUAGE: 1}\n",
    "\n",
    "    for data_sample in data_iter:\n",
    "        yield token_transform[language](data_sample[language_index[language]])\n",
    "\n",
    "#special symbols and indices\n",
    "UNK_IDX, PAD_IDX, BOS_IDX, EOS_IDX = 0, 1, 2, 3\n",
    "special_symbols = ['<unk>', '<pad>', '<bos>', '<eos>']\n",
    "\n",
    "for ln in [SRC_LANGUAGE, TGT_LANGUAGE]:\n",
    "    # Training data Iterator\n",
    "    all_iter=all_data\n",
    "    # Create torchtext's Vocab object\n",
    "    vocab_transform[ln] = build_vocab_from_iterator(yield_tokens(all_data, ln),\n",
    "                                                    min_freq=1,\n",
    "                                                    specials=special_symbols,\n",
    "                                                    special_first=True)"
   ]
  },
  {
   "cell_type": "markdown",
   "metadata": {
    "id": "1SeiGMi72ds2"
   },
   "source": [
    "# Creating Transformer Model"
   ]
  },
  {
   "cell_type": "code",
   "execution_count": 13,
   "metadata": {
    "colab": {
     "base_uri": "https://localhost:8080/"
    },
    "executionInfo": {
     "elapsed": 176,
     "status": "ok",
     "timestamp": 1698319863749,
     "user": {
      "displayName": "Mohammad Reza Shahrestani",
      "userId": "10693113313433738905"
     },
     "user_tz": -210
    },
    "id": "k5pQfLYx2Up9",
    "outputId": "fc26885c-7dc9-4b43-c7ea-dae1be5a95aa"
   },
   "outputs": [
    {
     "data": {
      "text/plain": [
       "device(type='cuda')"
      ]
     },
     "execution_count": 13,
     "metadata": {},
     "output_type": "execute_result"
    }
   ],
   "source": [
    "from torch import Tensor\n",
    "import torch\n",
    "import torch.nn as nn\n",
    "from torch.nn import Transformer\n",
    "import math\n",
    "DEVICE = torch.device('cuda' if torch.cuda.is_available() else 'cpu')\n",
    "DEVICE"
   ]
  },
  {
   "cell_type": "markdown",
   "metadata": {
    "id": "FCjFGhSn2oQK"
   },
   "source": [
    "## PositionalEncoding"
   ]
  },
  {
   "cell_type": "code",
   "execution_count": 14,
   "metadata": {
    "id": "9GvjQ0zS2ikk"
   },
   "outputs": [],
   "source": [
    "# helper Module that adds positional encoding to the token embedding to introduce a notion of word order.\n",
    "class PositionalEncoding(nn.Module):\n",
    "    def __init__(self,\n",
    "                 emb_size: int,\n",
    "                 dropout: float,\n",
    "                 maxlen: int = 5000):\n",
    "        super(PositionalEncoding, self).__init__()\n",
    "        den = torch.exp(- torch.arange(0, emb_size, 2)* math.log(10000) / emb_size)\n",
    "        pos = torch.arange(0, maxlen).reshape(maxlen, 1)\n",
    "        pos_embedding = torch.zeros((maxlen, emb_size))\n",
    "        pos_embedding[:, 0::2] = torch.sin(pos * den)\n",
    "        pos_embedding[:, 1::2] = torch.cos(pos * den)\n",
    "        pos_embedding = pos_embedding.unsqueeze(-2)\n",
    "\n",
    "        self.dropout = nn.Dropout(dropout)\n",
    "        self.register_buffer('pos_embedding', pos_embedding)\n",
    "\n",
    "    def forward(self, token_embedding: Tensor):\n",
    "        return self.dropout(token_embedding + self.pos_embedding[:token_embedding.size(0), :])\n"
   ]
  },
  {
   "cell_type": "markdown",
   "metadata": {
    "id": "rcWxTeAS2xF7"
   },
   "source": [
    "## TokenEmbedding"
   ]
  },
  {
   "cell_type": "code",
   "execution_count": 15,
   "metadata": {
    "id": "6FiiR2912wfk"
   },
   "outputs": [],
   "source": [
    "# helper Module to convert tensor of input indices into corresponding tensor of token embeddings\n",
    "class TokenEmbedding(nn.Module):\n",
    "    def __init__(self, vocab_size: int, emb_size):\n",
    "        super(TokenEmbedding, self).__init__()\n",
    "        self.embedding = nn.Embedding(vocab_size, emb_size)\n",
    "        self.emb_size = emb_size\n",
    "\n",
    "    def forward(self, tokens: Tensor):\n",
    "        return self.embedding(tokens.long()) * math.sqrt(self.emb_size)\n"
   ]
  },
  {
   "cell_type": "markdown",
   "metadata": {
    "id": "jTukhlxU26KP"
   },
   "source": [
    "## Seq2Seq Transformer model"
   ]
  },
  {
   "cell_type": "code",
   "execution_count": 16,
   "metadata": {
    "id": "d6T1y95v20Mj"
   },
   "outputs": [],
   "source": [
    "# Seq2Seq Network\n",
    "class Seq2SeqTransformer(nn.Module):\n",
    "    def __init__(self,\n",
    "                 num_encoder_layers: int,\n",
    "                 num_decoder_layers: int,\n",
    "                 emb_size: int,\n",
    "                 nhead: int,\n",
    "                 src_vocab_size: int,\n",
    "                 tgt_vocab_size: int,\n",
    "                 dim_feedforward: int = 512,\n",
    "                 dropout: float = 0.1):\n",
    "        super(Seq2SeqTransformer, self).__init__()\n",
    "        self.transformer = Transformer(d_model=emb_size,\n",
    "                                       nhead=nhead,\n",
    "                                       num_encoder_layers=num_encoder_layers,\n",
    "                                       num_decoder_layers=num_decoder_layers,\n",
    "                                       dim_feedforward=dim_feedforward,\n",
    "                                       dropout=dropout)\n",
    "        self.generator = nn.Linear(emb_size, tgt_vocab_size)\n",
    "        self.src_tok_emb = TokenEmbedding(src_vocab_size, emb_size)\n",
    "        self.tgt_tok_emb = TokenEmbedding(tgt_vocab_size, emb_size)\n",
    "        self.positional_encoding = PositionalEncoding(\n",
    "            emb_size, dropout=dropout)\n",
    "\n",
    "    def forward(self,\n",
    "                src: Tensor,\n",
    "                trg: Tensor,\n",
    "                src_mask: Tensor,\n",
    "                tgt_mask: Tensor,\n",
    "                src_padding_mask: Tensor,\n",
    "                tgt_padding_mask: Tensor,\n",
    "                memory_key_padding_mask: Tensor):\n",
    "        src_emb = self.positional_encoding(self.src_tok_emb(src))\n",
    "        tgt_emb = self.positional_encoding(self.tgt_tok_emb(trg))\n",
    "        outs = self.transformer(src_emb, tgt_emb, src_mask, tgt_mask, None,\n",
    "                                src_padding_mask, tgt_padding_mask, memory_key_padding_mask)\n",
    "        return self.generator(outs)\n",
    "\n",
    "    def encode(self, src: Tensor, src_mask: Tensor):\n",
    "        return self.transformer.encoder(self.positional_encoding(\n",
    "                            self.src_tok_emb(src)), src_mask)\n",
    "\n",
    "    def decode(self, tgt: Tensor, memory: Tensor, tgt_mask: Tensor):\n",
    "        return self.transformer.decoder(self.positional_encoding(\n",
    "                          self.tgt_tok_emb(tgt)), memory,\n",
    "                          tgt_mask)"
   ]
  },
  {
   "cell_type": "markdown",
   "metadata": {
    "id": "uhMLMRfP3Hjx"
   },
   "source": [
    "# Masking mechanism\n",
    "During training, we need a subsequent character mask that will prevent model to look into the future characters when making predictions. We will also need masks to hide source and target padding tokens. Below, let’s define a function that will take care of both.\n",
    "\n",
    "Reference : https://pytorch.org/tutorials/beginner/translation_transformer.html"
   ]
  },
  {
   "cell_type": "code",
   "execution_count": 17,
   "metadata": {
    "id": "hMOIgPG93AW8"
   },
   "outputs": [],
   "source": [
    "def generate_square_subsequent_mask(sz):\n",
    "    mask = (torch.triu(torch.ones((sz, sz), device=DEVICE)) == 1).transpose(0, 1)\n",
    "    mask = mask.float().masked_fill(mask == 0, float('-inf')).masked_fill(mask == 1, float(0.0))\n",
    "    return mask\n",
    "\n",
    "\n",
    "def create_mask(src, tgt):\n",
    "    src_seq_len = src.shape[0]\n",
    "    tgt_seq_len = tgt.shape[0]\n",
    "\n",
    "    tgt_mask = generate_square_subsequent_mask(tgt_seq_len)\n",
    "    src_mask = torch.zeros((src_seq_len, src_seq_len),device=DEVICE).type(torch.bool)\n",
    "\n",
    "    src_padding_mask = (src == PAD_IDX).transpose(0, 1)\n",
    "    tgt_padding_mask = (tgt == PAD_IDX).transpose(0, 1)\n",
    "    return src_mask, tgt_mask, src_padding_mask, tgt_padding_mask"
   ]
  },
  {
   "cell_type": "markdown",
   "metadata": {
    "id": "lhYmlTCH3oLB"
   },
   "source": [
    "# Building Model"
   ]
  },
  {
   "cell_type": "code",
   "execution_count": 18,
   "metadata": {
    "colab": {
     "base_uri": "https://localhost:8080/"
    },
    "executionInfo": {
     "elapsed": 1228,
     "status": "ok",
     "timestamp": 1698319864831,
     "user": {
      "displayName": "Mohammad Reza Shahrestani",
      "userId": "10693113313433738905"
     },
     "user_tz": -210
    },
    "id": "koVESPMY3kWX",
    "outputId": "f40e9dae-dbcf-42f5-f9cb-aebd21ffa27a"
   },
   "outputs": [
    {
     "name": "stderr",
     "output_type": "stream",
     "text": [
      "C:\\Users\\Turbo\\AppData\\Local\\Programs\\Python\\Python312\\Lib\\site-packages\\torch\\nn\\modules\\transformer.py:286: UserWarning: enable_nested_tensor is True, but self.use_nested_tensor is False because encoder_layer.self_attn.batch_first was not True(use batch_first for better inference performance)\n",
      "  warnings.warn(f\"enable_nested_tensor is True, but self.use_nested_tensor is False because {why_not_sparsity_fast_path}\")\n"
     ]
    }
   ],
   "source": [
    "torch.manual_seed(42)\n",
    "\n",
    "# Hyperparameters\n",
    "SRC_VOCAB_SIZE = len(vocab_transform[SRC_LANGUAGE])\n",
    "TGT_VOCAB_SIZE = len(vocab_transform[TGT_LANGUAGE])\n",
    "EMB_SIZE = 512\n",
    "NHEAD = 8\n",
    "FFN_HID_DIM = 512\n",
    "BATCH_SIZE = 128\n",
    "NUM_ENCODER_LAYERS = 5\n",
    "NUM_DECODER_LAYERS = 5\n",
    "\n",
    "weight_decay = float(0)\n",
    "lr = 1e-5\n",
    "\n",
    "# Instantiating Model\n",
    "g2p_s2s_model = Seq2SeqTransformer(NUM_ENCODER_LAYERS, NUM_DECODER_LAYERS, EMB_SIZE,\n",
    "                                 NHEAD, SRC_VOCAB_SIZE, TGT_VOCAB_SIZE, FFN_HID_DIM)\n",
    "\n",
    "# weights and biases initialization\n",
    "for p in g2p_s2s_model.parameters():\n",
    "    if p.dim() > 1:\n",
    "        nn.init.xavier_uniform_(p)\n",
    "\n",
    "g2p_s2s_model = g2p_s2s_model.to(DEVICE)\n",
    "\n",
    "# CrossEntropy Loss function\n",
    "loss_fn = torch.nn.CrossEntropyLoss(ignore_index=PAD_IDX)\n",
    "\n",
    "# AdamW optimizer\n",
    "optimizer = torch.optim.AdamW(g2p_s2s_model.parameters(), lr=lr, betas=(0.9, 0.98), eps=1e-9)"
   ]
  },
  {
   "cell_type": "code",
   "execution_count": 19,
   "metadata": {
    "colab": {
     "base_uri": "https://localhost:8080/"
    },
    "executionInfo": {
     "elapsed": 17929,
     "status": "ok",
     "timestamp": 1698319882744,
     "user": {
      "displayName": "Mohammad Reza Shahrestani",
      "userId": "10693113313433738905"
     },
     "user_tz": -210
    },
    "id": "DpDBWWh4v-wu",
    "outputId": "0ff5dfe7-ddcc-4e23-fa3e-7608371e2d02"
   },
   "outputs": [
    {
     "name": "stdout",
     "output_type": "stream",
     "text": [
      "Requirement already satisfied: transformers in c:\\users\\turbo\\appdata\\local\\programs\\python\\python312\\lib\\site-packages (4.38.2)\n",
      "Requirement already satisfied: filelock in c:\\users\\turbo\\appdata\\local\\programs\\python\\python312\\lib\\site-packages (from transformers) (3.9.0)\n",
      "Requirement already satisfied: huggingface-hub<1.0,>=0.19.3 in c:\\users\\turbo\\appdata\\local\\programs\\python\\python312\\lib\\site-packages (from transformers) (0.21.4)\n",
      "Requirement already satisfied: numpy>=1.17 in c:\\users\\turbo\\appdata\\local\\programs\\python\\python312\\lib\\site-packages (from transformers) (1.26.3)\n",
      "Requirement already satisfied: packaging>=20.0 in c:\\users\\turbo\\appdata\\local\\programs\\python\\python312\\lib\\site-packages (from transformers) (24.0)\n",
      "Requirement already satisfied: pyyaml>=5.1 in c:\\users\\turbo\\appdata\\local\\programs\\python\\python312\\lib\\site-packages (from transformers) (6.0.1)\n",
      "Requirement already satisfied: regex!=2019.12.17 in c:\\users\\turbo\\appdata\\local\\programs\\python\\python312\\lib\\site-packages (from transformers) (2023.12.25)\n",
      "Requirement already satisfied: requests in c:\\users\\turbo\\appdata\\local\\programs\\python\\python312\\lib\\site-packages (from transformers) (2.31.0)\n",
      "Requirement already satisfied: tokenizers<0.19,>=0.14 in c:\\users\\turbo\\appdata\\local\\programs\\python\\python312\\lib\\site-packages (from transformers) (0.15.2)\n",
      "Requirement already satisfied: safetensors>=0.4.1 in c:\\users\\turbo\\appdata\\local\\programs\\python\\python312\\lib\\site-packages (from transformers) (0.4.2)\n",
      "Requirement already satisfied: tqdm>=4.27 in c:\\users\\turbo\\appdata\\local\\programs\\python\\python312\\lib\\site-packages (from transformers) (4.66.2)\n",
      "Requirement already satisfied: fsspec>=2023.5.0 in c:\\users\\turbo\\appdata\\local\\programs\\python\\python312\\lib\\site-packages (from huggingface-hub<1.0,>=0.19.3->transformers) (2024.2.0)\n",
      "Requirement already satisfied: typing-extensions>=3.7.4.3 in c:\\users\\turbo\\appdata\\local\\programs\\python\\python312\\lib\\site-packages (from huggingface-hub<1.0,>=0.19.3->transformers) (4.8.0)\n",
      "Requirement already satisfied: colorama in c:\\users\\turbo\\appdata\\local\\programs\\python\\python312\\lib\\site-packages (from tqdm>=4.27->transformers) (0.4.6)\n",
      "Requirement already satisfied: charset-normalizer<4,>=2 in c:\\users\\turbo\\appdata\\local\\programs\\python\\python312\\lib\\site-packages (from requests->transformers) (3.3.2)\n",
      "Requirement already satisfied: idna<4,>=2.5 in c:\\users\\turbo\\appdata\\local\\programs\\python\\python312\\lib\\site-packages (from requests->transformers) (3.6)\n",
      "Requirement already satisfied: urllib3<3,>=1.21.1 in c:\\users\\turbo\\appdata\\local\\programs\\python\\python312\\lib\\site-packages (from requests->transformers) (2.2.1)\n",
      "Requirement already satisfied: certifi>=2017.4.17 in c:\\users\\turbo\\appdata\\local\\programs\\python\\python312\\lib\\site-packages (from requests->transformers) (2024.2.2)\n"
     ]
    }
   ],
   "source": [
    "!pip install transformers"
   ]
  },
  {
   "cell_type": "markdown",
   "metadata": {
    "id": "S6gMpVjS4yvf"
   },
   "source": [
    "# Collation\n",
    "our data iterator yields a pair of raw strings. We need to convert these string pairs into the batched tensors that can be processed by our Seq2Seq network defined previously. Below we define our collate function that convert batch of raw strings into batch tensors that can be fed directly into our model.\n",
    "\n",
    "Reference : https://pytorch.org/tutorials/beginner/translation_transformer.html"
   ]
  },
  {
   "cell_type": "code",
   "execution_count": 20,
   "metadata": {
    "id": "FUbvc6Sg4tb6"
   },
   "outputs": [],
   "source": [
    "from torch.nn.utils.rnn import pad_sequence\n",
    "\n",
    "# helper function to club together sequential operations\n",
    "def sequential_transforms(*transforms):\n",
    "    def func(txt_input):\n",
    "        for transform in transforms:\n",
    "            txt_input = transform(txt_input)\n",
    "        return txt_input\n",
    "    return func\n",
    "\n",
    "# function to add BOS/EOS and create tensor for input sequence indices\n",
    "def tensor_transform(token_ids: List[int]):\n",
    "    return torch.cat((torch.tensor([BOS_IDX]),\n",
    "                      torch.tensor(token_ids),\n",
    "                      torch.tensor([EOS_IDX])))\n",
    "\n",
    "# src and tgt language text transforms to convert raw strings into tensors indices\n",
    "text_transform = {}\n",
    "for ln in [SRC_LANGUAGE, TGT_LANGUAGE]:\n",
    "    text_transform[ln] = sequential_transforms(token_transform[ln], #Tokenization\n",
    "                                               vocab_transform[ln], #Numericalization\n",
    "                                               tensor_transform) # Add BOS/EOS and create tensor\n",
    "\n",
    "\n",
    "# function to collate data samples into batch tesors\n",
    "def collate_fn(batch):\n",
    "    src_batch, tgt_batch = [], []\n",
    "    for src_sample, tgt_sample in batch:\n",
    "        src_batch.append(text_transform[SRC_LANGUAGE](src_sample.rstrip(\"\\n\")))\n",
    "        tgt_batch.append(text_transform[TGT_LANGUAGE](tgt_sample.rstrip(\"\\n\")))\n",
    "\n",
    "    src_batch = pad_sequence(src_batch, padding_value=PAD_IDX)\n",
    "    tgt_batch = pad_sequence(tgt_batch, padding_value=PAD_IDX)\n",
    "    return src_batch, tgt_batch"
   ]
  },
  {
   "cell_type": "markdown",
   "metadata": {
    "id": "JWFor7mF50Rj"
   },
   "source": [
    "# Training"
   ]
  },
  {
   "cell_type": "code",
   "execution_count": 21,
   "metadata": {
    "id": "u6FASGE56CGZ"
   },
   "outputs": [],
   "source": [
    "from torch.utils.data import DataLoader"
   ]
  },
  {
   "cell_type": "markdown",
   "metadata": {
    "id": "g2Q8x6k955wk"
   },
   "source": [
    "## Training function"
   ]
  },
  {
   "cell_type": "code",
   "execution_count": 22,
   "metadata": {
    "id": "Yn6buel_5wKV"
   },
   "outputs": [],
   "source": [
    "\n",
    "def train_function(model, optimizer):\n",
    "    model.train()\n",
    "    losses = 0\n",
    "    train_dataloader = DataLoader(train_iter, batch_size=BATCH_SIZE, collate_fn=collate_fn)\n",
    "\n",
    "    for src, tgt in train_dataloader:\n",
    "        src = src.to(DEVICE)\n",
    "        tgt = tgt.to(DEVICE)\n",
    "\n",
    "        tgt_input = tgt[:-1, :]\n",
    "\n",
    "        src_mask, tgt_mask, src_padding_mask, tgt_padding_mask = create_mask(src, tgt_input)\n",
    "\n",
    "        logits = model(src, tgt_input, src_mask, tgt_mask,src_padding_mask, tgt_padding_mask, src_padding_mask)\n",
    "\n",
    "        optimizer.zero_grad()\n",
    "\n",
    "        tgt_out = tgt[1:, :]\n",
    "        loss = loss_fn(logits.reshape(-1, logits.shape[-1]), tgt_out.reshape(-1))\n",
    "        loss.backward()\n",
    "\n",
    "        optimizer.step()\n",
    "\n",
    "        losses += loss.item()\n",
    "\n",
    "    return losses / len(train_dataloader)"
   ]
  },
  {
   "cell_type": "markdown",
   "metadata": {
    "id": "7tu1KMvH6jSa"
   },
   "source": [
    "## Evaluating function"
   ]
  },
  {
   "cell_type": "code",
   "execution_count": 23,
   "metadata": {
    "id": "4Uq5tsC16irJ"
   },
   "outputs": [],
   "source": [
    "def evaluate_function(model):\n",
    "    model.eval()\n",
    "    losses = 0\n",
    "\n",
    "    val_iter=test_iter\n",
    "    val_dataloader = DataLoader(val_iter, batch_size=BATCH_SIZE, collate_fn=collate_fn)\n",
    "\n",
    "    for src, tgt in val_dataloader:\n",
    "        src = src.to(DEVICE)\n",
    "        tgt = tgt.to(DEVICE)\n",
    "\n",
    "        tgt_input = tgt[:-1, :]\n",
    "\n",
    "        src_mask, tgt_mask, src_padding_mask, tgt_padding_mask = create_mask(src, tgt_input)\n",
    "\n",
    "        logits = model(src, tgt_input, src_mask, tgt_mask,src_padding_mask, tgt_padding_mask, src_padding_mask)\n",
    "\n",
    "        tgt_out = tgt[1:, :]\n",
    "        loss = loss_fn(logits.reshape(-1, logits.shape[-1]), tgt_out.reshape(-1))\n",
    "        losses += loss.item()\n",
    "\n",
    "    return losses / len(val_dataloader)"
   ]
  },
  {
   "cell_type": "markdown",
   "metadata": {
    "id": "i0QR4D2e648V"
   },
   "source": [
    "## Train model for N epochs"
   ]
  },
  {
   "cell_type": "code",
   "execution_count": 24,
   "metadata": {
    "colab": {
     "base_uri": "https://localhost:8080/"
    },
    "id": "u6vXLjQh61Xw",
    "outputId": "2f31e533-8135-41c2-b46a-9661a1c1e60b"
   },
   "outputs": [
    {
     "name": "stderr",
     "output_type": "stream",
     "text": [
      "C:\\Users\\Turbo\\AppData\\Local\\Programs\\Python\\Python312\\Lib\\site-packages\\torch\\nn\\functional.py:5476: UserWarning: 1Torch was not compiled with flash attention. (Triggered internally at ..\\aten\\src\\ATen\\native\\transformers\\cuda\\sdp_utils.cpp:263.)\n",
      "  attn_output = scaled_dot_product_attention(q, k, v, attn_mask, dropout_p, is_causal)\n",
      "C:\\Users\\Turbo\\AppData\\Local\\Programs\\Python\\Python312\\Lib\\site-packages\\torch\\nn\\functional.py:5109: UserWarning: Support for mismatched key_padding_mask and attn_mask is deprecated. Use same type for both instead.\n",
      "  warnings.warn(\n"
     ]
    },
    {
     "name": "stdout",
     "output_type": "stream",
     "text": [
      "Epoch: 0, Train loss: 2.595, Val loss: 1.806, Epoch time = 3.989s\n",
      "Epoch: 1, Train loss: 1.826, Val loss: 1.315, Epoch time = 2.508s\n",
      "Epoch: 2, Train loss: 1.465, Val loss: 1.065, Epoch time = 2.522s\n",
      "Epoch: 3, Train loss: 1.299, Val loss: 0.982, Epoch time = 2.435s\n",
      "Epoch: 4, Train loss: 1.196, Val loss: 0.924, Epoch time = 2.445s\n",
      "Epoch: 5, Train loss: 1.131, Val loss: 0.893, Epoch time = 2.447s\n",
      "Epoch: 6, Train loss: 1.090, Val loss: 0.881, Epoch time = 2.461s\n",
      "Epoch: 7, Train loss: 1.049, Val loss: 0.866, Epoch time = 2.402s\n",
      "Epoch: 8, Train loss: 1.025, Val loss: 0.863, Epoch time = 2.410s\n",
      "Epoch: 9, Train loss: 1.001, Val loss: 0.843, Epoch time = 2.398s\n",
      "Epoch: 10, Train loss: 0.979, Val loss: 0.832, Epoch time = 2.388s\n",
      "Epoch: 11, Train loss: 0.960, Val loss: 0.834, Epoch time = 2.398s\n",
      "Epoch: 12, Train loss: 0.947, Val loss: 0.826, Epoch time = 2.409s\n",
      "Epoch: 13, Train loss: 0.930, Val loss: 0.818, Epoch time = 2.402s\n",
      "Epoch: 14, Train loss: 0.911, Val loss: 0.808, Epoch time = 2.432s\n",
      "Epoch: 15, Train loss: 0.894, Val loss: 0.807, Epoch time = 2.423s\n",
      "Epoch: 16, Train loss: 0.879, Val loss: 0.800, Epoch time = 2.422s\n",
      "Epoch: 17, Train loss: 0.867, Val loss: 0.804, Epoch time = 2.435s\n",
      "Epoch: 18, Train loss: 0.852, Val loss: 0.797, Epoch time = 2.432s\n",
      "Epoch: 19, Train loss: 0.839, Val loss: 0.792, Epoch time = 2.438s\n"
     ]
    }
   ],
   "source": [
    "from timeit import default_timer as timer\n",
    "epoch_times = []\n",
    "NUM_EPOCHS = 20\n",
    "\n",
    "stats_for_plotting={\"train_losses\":[],\"test_losses\":[]}\n",
    "for epoch in range(NUM_EPOCHS):\n",
    "    start_time = timer()\n",
    "    train_loss = train_function(g2p_s2s_model, optimizer)\n",
    "    end_time = timer()\n",
    "    val_loss = evaluate_function(g2p_s2s_model)\n",
    "    et = end_time - start_time\n",
    "    epoch_times.append(et)\n",
    "    print((f\"Epoch: {epoch}, Train loss: {train_loss:.3f}, Val loss: {val_loss:.3f}, \"f\"Epoch time = {et:.3f}s\"))\n",
    "    stats_for_plotting[\"train_losses\"].append(train_loss)\n",
    "    stats_for_plotting[\"test_losses\"].append(val_loss)\n",
    "torch.save(g2p_s2s_model.state_dict(), f\"g2p_s2s-{records}-{NUM_EPOCHS}e.pth\")"
   ]
  },
  {
   "cell_type": "markdown",
   "metadata": {
    "id": "26iDyq_lL61Q"
   },
   "source": [
    "## Plotting stats"
   ]
  },
  {
   "cell_type": "code",
   "execution_count": 25,
   "metadata": {
    "id": "JntFHyhBMTDN"
   },
   "outputs": [],
   "source": [
    "from matplotlib import pyplot as plt"
   ]
  },
  {
   "cell_type": "code",
   "execution_count": 26,
   "metadata": {
    "id": "G4NKYn7TL9xI"
   },
   "outputs": [
    {
     "data": {
      "image/png": "[encoded data removed]",
      "text/plain": [
       "<Figure size 640x480 with 1 Axes>"
      ]
     },
     "metadata": {},
     "output_type": "display_data"
    }
   ],
   "source": [
    "plt.plot(stats_for_plotting[\"train_losses\"],label=\"train\")\n",
    "plt.plot(stats_for_plotting[\"test_losses\"],label=\"validation\")\n",
    "plt.legend(loc=\"upper right\")\n",
    "plt.xlabel(\"Epoch\")\n",
    "plt.ylabel(\"Loss\")\n",
    "plt.show()"
   ]
  },
  {
   "cell_type": "code",
   "execution_count": 27,
   "metadata": {
    "id": "iPU63r-eGzkc"
   },
   "outputs": [
    {
     "name": "stdout",
     "output_type": "stream",
     "text": [
      "Requirement already satisfied: jiwer in c:\\users\\turbo\\appdata\\local\\programs\\python\\python312\\lib\\site-packages (3.0.3)\n",
      "Requirement already satisfied: click<9.0.0,>=8.1.3 in c:\\users\\turbo\\appdata\\local\\programs\\python\\python312\\lib\\site-packages (from jiwer) (8.1.7)\n",
      "Requirement already satisfied: rapidfuzz<4,>=3 in c:\\users\\turbo\\appdata\\local\\programs\\python\\python312\\lib\\site-packages (from jiwer) (3.6.2)\n",
      "Requirement already satisfied: colorama in c:\\users\\turbo\\appdata\\local\\programs\\python\\python312\\lib\\site-packages (from click<9.0.0,>=8.1.3->jiwer) (0.4.6)\n"
     ]
    }
   ],
   "source": [
    "!pip install jiwer"
   ]
  },
  {
   "cell_type": "markdown",
   "metadata": {
    "id": "0nKRNNr37A7F"
   },
   "source": [
    "# Inference"
   ]
  },
  {
   "cell_type": "markdown",
   "metadata": {
    "id": "kPfQE_Hv7LV_"
   },
   "source": [
    "## decoder function\n",
    "it is called greedy decoder because we don't do any beam search for results"
   ]
  },
  {
   "cell_type": "code",
   "execution_count": 28,
   "metadata": {
    "id": "z7LXAnFH7CCQ"
   },
   "outputs": [],
   "source": [
    "# function to generate output sequence\n",
    "def greedy_decode(model, src, src_mask, max_len, start_symbol):\n",
    "    src = src.to(DEVICE)\n",
    "    src_mask = src_mask.to(DEVICE)\n",
    "\n",
    "    memory = model.encode(src, src_mask)\n",
    "    ys = torch.ones(1, 1).fill_(start_symbol).type(torch.long).to(DEVICE)\n",
    "    for i in range(max_len-1):\n",
    "        memory = memory.to(DEVICE)\n",
    "        tgt_mask = (generate_square_subsequent_mask(ys.size(0))\n",
    "                    .type(torch.bool)).to(DEVICE)\n",
    "        out = model.decode(ys, memory, tgt_mask)\n",
    "        out = out.transpose(0, 1)\n",
    "        prob = model.generator(out[:, -1])\n",
    "        _, next_word = torch.max(prob, dim=1)\n",
    "        next_word = next_word.item()\n",
    "\n",
    "        ys = torch.cat([ys,\n",
    "                        torch.ones(1, 1).type_as(src.data).fill_(next_word)], dim=0)\n",
    "        if next_word == EOS_IDX:\n",
    "            break\n",
    "    return ys\n"
   ]
  },
  {
   "cell_type": "markdown",
   "metadata": {
    "id": "IxGW_FeW7iOc"
   },
   "source": [
    "## Inference function\n",
    "gives a grapheme and outputs the phoneme"
   ]
  },
  {
   "cell_type": "code",
   "execution_count": 29,
   "metadata": {
    "id": "l1CcrIQE7c1E"
   },
   "outputs": [],
   "source": [
    "def inference(model: torch.nn.Module, src_sentence: str):\n",
    "    model.eval()\n",
    "    src = text_transform[SRC_LANGUAGE](src_sentence).view(-1, 1)\n",
    "    num_tokens = src.shape[0]\n",
    "    src_mask = (torch.zeros(num_tokens, num_tokens)).type(torch.bool)\n",
    "    tgt_tokens = greedy_decode(\n",
    "        model,  src, src_mask, max_len=num_tokens + 5, start_symbol=BOS_IDX).flatten()\n",
    "    return \" \".join(vocab_transform[TGT_LANGUAGE].lookup_tokens(list(tgt_tokens.cpu().numpy()))).replace(\"<bos>\", \"\").replace(\"<eos>\", \"\")"
   ]
  },
  {
   "cell_type": "markdown",
   "metadata": {
    "id": "iUYHHLFURoyb"
   },
   "source": [
    "# Evaluating model last checkpoint"
   ]
  },
  {
   "cell_type": "markdown",
   "metadata": {
    "id": "XFgpPuo2RvCW"
   },
   "source": [
    "## 1.Saving all predictions"
   ]
  },
  {
   "cell_type": "code",
   "execution_count": 30,
   "metadata": {
    "id": "h-ro0MFg-LQI"
   },
   "outputs": [
    {
     "name": "stderr",
     "output_type": "stream",
     "text": [
      "100%|██████████████████████████████████████████████████████████████████████████████| 2200/2200 [00:57<00:00, 38.06it/s]\n"
     ]
    }
   ],
   "source": [
    "from tqdm import tqdm\n",
    "all_preds=[]\n",
    "for gs,ps in tqdm(test_iter):\n",
    "  ground_truth=ps\n",
    "  myoutput=inference(g2p_s2s_model,gs)\n",
    "  all_preds.append(myoutput.replace(\" \",\"\"))"
   ]
  },
  {
   "cell_type": "markdown",
   "metadata": {
    "id": "9ErrVOkfR3cL"
   },
   "source": [
    "## 2.Calculating WER and PER\n",
    "WER : Word error rate\n",
    "\n",
    "PER : Phoneme error rate"
   ]
  },
  {
   "cell_type": "code",
   "execution_count": 31,
   "metadata": {
    "id": "T2JbrYTGG_Gh"
   },
   "outputs": [],
   "source": [
    "from jiwer import cer,wer"
   ]
  },
  {
   "cell_type": "code",
   "execution_count": 32,
   "metadata": {
    "id": "2xZhmT9M-LJJ"
   },
   "outputs": [
    {
     "name": "stdout",
     "output_type": "stream",
     "text": [
      "Exact Accuracy : 0.06181818181818182\n",
      "PER : 0.5553636168743189\n",
      "WER : 0.9381818181818182\n"
     ]
    }
   ],
   "source": [
    "trues=0\n",
    "all_num=0\n",
    "average_cer=0\n",
    "average_wer=0\n",
    "for i in range(len(all_preds)):\n",
    "  if all_preds[i]==test_iter[i][1].replace(\" \",\"\"):\n",
    "    trues+=1\n",
    "  all_num+=1\n",
    "  average_cer+=cer(test_iter[i][1].replace(\" \",\"\"),all_preds[i])\n",
    "  average_wer+=wer(test_iter[i][1].replace(\" \",\"\"),all_preds[i])\n",
    "average_cer/=len(all_preds)\n",
    "average_wer/=len(all_preds)\n",
    "exact_accuracy=trues/all_num\n",
    "print(f\"Exact Accuracy : {exact_accuracy}\")\n",
    "print(f\"PER : {average_cer}\")\n",
    "print(f\"WER : {average_wer}\")"
   ]
  },
  {
   "cell_type": "code",
   "execution_count": 33,
   "metadata": {
    "id": "iHR1IpVQwm-z"
   },
   "outputs": [
    {
     "name": "stdout",
     "output_type": "stream",
     "text": [
      "Exact Accuracy : 0.06181818181818182\n",
      "Epoch: 20, Train loss: 0.839, Val loss: 0.792, Epoch time = 2.438s\n",
      "train time = 50.19568310014438\n",
      "Exact Accuracy : 0.06181818181818182\n",
      "PER : 0.5553636168743189\n",
      "WER : 0.9381818181818182\n",
      "F1 Score: 0.028116548813812474\n",
      "Precision: 0.06132528869165816\n",
      "Recall: 0.048879926716028935\n",
      "Confusion Matrix:\n",
      "[[0 0 0 ... 0 0 0]\n",
      " [0 2 0 ... 0 0 0]\n",
      " [0 3 0 ... 0 0 0]\n",
      " ...\n",
      " [0 0 0 ... 0 0 0]\n",
      " [1 0 0 ... 0 6 0]\n",
      " [0 0 0 ... 0 0 0]]\n"
     ]
    },
    {
     "name": "stderr",
     "output_type": "stream",
     "text": [
      "C:\\Users\\Turbo\\AppData\\Local\\Programs\\Python\\Python312\\Lib\\site-packages\\sklearn\\metrics\\_classification.py:1509: UndefinedMetricWarning: Precision is ill-defined and being set to 0.0 in labels with no predicted samples. Use `zero_division` parameter to control this behavior.\n",
      "  _warn_prf(average, modifier, f\"{metric.capitalize()} is\", len(result))\n",
      "C:\\Users\\Turbo\\AppData\\Local\\Programs\\Python\\Python312\\Lib\\site-packages\\sklearn\\metrics\\_classification.py:1509: UndefinedMetricWarning: Recall is ill-defined and being set to 0.0 in labels with no true samples. Use `zero_division` parameter to control this behavior.\n",
      "  _warn_prf(average, modifier, f\"{metric.capitalize()} is\", len(result))\n"
     ]
    }
   ],
   "source": [
    "from sklearn.metrics import confusion_matrix, f1_score, precision_score, recall_score\n",
    "trues=0\n",
    "all_num=0\n",
    "average_cer=0\n",
    "average_wer=0\n",
    "for i in range(len(all_preds)):\n",
    "  if all_preds[i]==test_iter[i][1].replace(\" \",\"\"):\n",
    "    trues+=1\n",
    "  all_num+=1\n",
    "  average_cer+=cer(test_iter[i][1].replace(\" \",\"\"),all_preds[i])\n",
    "  average_wer+=wer(test_iter[i][1].replace(\" \",\"\"),all_preds[i])\n",
    "average_cer/=len(all_preds)\n",
    "average_wer/=len(all_preds)\n",
    "exact_accuracy=trues/all_num\n",
    "print(f\"Exact Accuracy : {exact_accuracy}\")\n",
    "\n",
    "true_labels = [data[1].replace(\" \",\"\") for data in test_iter]\n",
    "pred_labels = all_preds\n",
    "\n",
    "# Calculate confusion matrix\n",
    "cm = confusion_matrix(true_labels, pred_labels)\n",
    "\n",
    "# Calculate precision, recall, and f1-score\n",
    "precision = precision_score(true_labels, pred_labels, average='macro')\n",
    "recall = recall_score(true_labels, pred_labels, average='macro')\n",
    "f1 = f1_score(true_labels, pred_labels, average='macro')\n",
    "\n",
    "# Print the results\n",
    "print((f\"Epoch: {epoch+1}, Train loss: {train_loss:.3f}, Val loss: {val_loss:.3f}, \"f\"Epoch time = {(end_time - start_time):.3f}s\"))\n",
    "print(f'train time = {sum(epoch_times)}')\n",
    "print(f\"Exact Accuracy : {exact_accuracy}\")\n",
    "print(f\"PER : {average_cer}\")\n",
    "print(f\"WER : {average_wer}\")\n",
    "print(f\"F1 Score: {f1}\")\n",
    "print(f\"Precision: {precision}\")\n",
    "print(f\"Recall: {recall}\")\n",
    "print(\"Confusion Matrix:\")\n",
    "print(cm)"
   ]
  },
  {
   "cell_type": "markdown",
   "metadata": {
    "id": "C6aO6KBM8G9K"
   },
   "source": [
    "## Some examples:\n",
    "\n",
    "\n"
   ]
  },
  {
   "cell_type": "code",
   "execution_count": 34,
   "metadata": {
    "id": "xC1cACQr72dK"
   },
   "outputs": [
    {
     "data": {
      "text/html": [
       "<div>\n",
       "<style scoped>\n",
       "    .dataframe tbody tr th:only-of-type {\n",
       "        vertical-align: middle;\n",
       "    }\n",
       "\n",
       "    .dataframe tbody tr th {\n",
       "        vertical-align: top;\n",
       "    }\n",
       "\n",
       "    .dataframe thead th {\n",
       "        text-align: right;\n",
       "    }\n",
       "</style>\n",
       "<table border=\"1\" class=\"dataframe\">\n",
       "  <thead>\n",
       "    <tr style=\"text-align: right;\">\n",
       "      <th></th>\n",
       "      <th>Verse Phoneme</th>\n",
       "      <th>Predicted Prosody Phoneme</th>\n",
       "      <th>Correct Prosody Phoneme</th>\n",
       "    </tr>\n",
       "  </thead>\n",
       "  <tbody>\n",
       "    <tr>\n",
       "      <th>0</th>\n",
       "      <td>čunmāhi az bigānegi har yek gorizān dideam</td>\n",
       "      <td>maf`ul fā`elāt mafā`e`il fā`elānt</td>\n",
       "      <td>meftal`on meftal`on fa` meftal`on meftal`on fa`</td>\n",
       "    </tr>\n",
       "    <tr>\n",
       "      <th>1</th>\n",
       "      <td>mimahr dar sāqar zar belarzad</td>\n",
       "      <td>maf`ul fā`elāt mafā`eliyān</td>\n",
       "      <td>fe`olan fe`olan fe`olan fe`olan</td>\n",
       "    </tr>\n",
       "    <tr>\n",
       "      <th>2</th>\n",
       "      <td>be aql nāzi hakim tā key be fekrat in rah nemi...</td>\n",
       "      <td>mafā`elen fa` mafā`elen fa` mafā`elen fa` maf...</td>\n",
       "      <td>mafā`elen fa` mafā`elen fa` mafā`elen fa` mafā...</td>\n",
       "    </tr>\n",
       "    <tr>\n",
       "      <th>3</th>\n",
       "      <td>kāštāns malāyek va ruh</td>\n",
       "      <td>maf`ul fā`elāt mafā`eliyān</td>\n",
       "      <td>mafā`elen fa` mafā`elen fa`</td>\n",
       "    </tr>\n",
       "    <tr>\n",
       "      <th>4</th>\n",
       "      <td>zir lab dādan došnām ke če</td>\n",
       "      <td>maf`ul mafā`e`il mafā`e`il fe`l</td>\n",
       "      <td>fal`ānt fal`ānt fe`lan</td>\n",
       "    </tr>\n",
       "    <tr>\n",
       "      <th>5</th>\n",
       "      <td>kučkadtand bar dam sarv rohi če xandad ؟</td>\n",
       "      <td>maf`ul fā`elāt mafā`e`il fā`elānt</td>\n",
       "      <td>maf`ul fā`elāt mafā`e`il fā`elānt</td>\n",
       "    </tr>\n",
       "    <tr>\n",
       "      <th>6</th>\n",
       "      <td>melk rā farbe kanad kalak nezārat</td>\n",
       "      <td>maf`ul fā`elāt mafā`e`il fa`</td>\n",
       "      <td>fā`elānt fā`elānt fā`elānt</td>\n",
       "    </tr>\n",
       "    <tr>\n",
       "      <th>7</th>\n",
       "      <td>bedešyān nabad yād timār va qam</td>\n",
       "      <td>maf`ul fā`elāt mafā`e`il fa`</td>\n",
       "      <td>fe`olan fe`olan fe`olan fe`l</td>\n",
       "    </tr>\n",
       "    <tr>\n",
       "      <th>8</th>\n",
       "      <td>xabar nadāram man az del xud</td>\n",
       "      <td>maf`ul fā`elāt mafā`eliyān</td>\n",
       "      <td>mafā`elen fa` mafā`elen fa`</td>\n",
       "    </tr>\n",
       "    <tr>\n",
       "      <th>9</th>\n",
       "      <td>šā^yad ke zir pāy farāqat malul tab`am</td>\n",
       "      <td>maf`ul fā`elāt mafā`e`il fā`elānt</td>\n",
       "      <td>maf`ul fā`elāt mafā`e`il fā`elānt</td>\n",
       "    </tr>\n",
       "    <tr>\n",
       "      <th>10</th>\n",
       "      <td>bebin čon ke birun berand az jahānam</td>\n",
       "      <td>maf`ul fā`elāt mafā`e`il fa`</td>\n",
       "      <td>mafā`e`il fe`olan mafā`e`il fe`olan</td>\n",
       "    </tr>\n",
       "    <tr>\n",
       "      <th>11</th>\n",
       "      <td>dur bādan buy golxan az sabā</td>\n",
       "      <td>maf`ul mafā`e`il mafā`e`il fe`olan</td>\n",
       "      <td>fā`elānt fā`elānt fā`elan</td>\n",
       "    </tr>\n",
       "    <tr>\n",
       "      <th>12</th>\n",
       "      <td>ke tavānad negāšt dar ādam</td>\n",
       "      <td>maf`ul fā`elāt mafā`eliyān</td>\n",
       "      <td>fal`ānt mafā`elen fe`lan</td>\n",
       "    </tr>\n",
       "    <tr>\n",
       "      <th>13</th>\n",
       "      <td>soxan qabul kan az mā ، biyā bahreket a`la`</td>\n",
       "      <td>meftal`on meftal`on meftal`on meftal`on</td>\n",
       "      <td>mafā`elen fal`ānt mafā`elen fal`ānt</td>\n",
       "    </tr>\n",
       "    <tr>\n",
       "      <th>14</th>\n",
       "      <td>dāram ze hayāt ، hezār malāl</td>\n",
       "      <td>maf`ul fā`elāt mafā`e`il fa`</td>\n",
       "      <td>motefā`eltan motefā`eltan</td>\n",
       "    </tr>\n",
       "    <tr>\n",
       "      <th>15</th>\n",
       "      <td>be hendesi sofuf xošnamāyi u</td>\n",
       "      <td>mafā`elen mafā`elen mafā`elen</td>\n",
       "      <td>mafā`elen mafā`elen mafā`elen</td>\n",
       "    </tr>\n",
       "    <tr>\n",
       "      <th>16</th>\n",
       "      <td>mā rā be rāygān bexar az mā va dāq berene</td>\n",
       "      <td>mosta`felan mosta`felan mosta`felan mosta`felan</td>\n",
       "      <td>maf`ul fā`elāt mafā`e`il fā`elānt</td>\n",
       "    </tr>\n",
       "    <tr>\n",
       "      <th>17</th>\n",
       "      <td>čo xāk xošk va xašn čo bād sorad va gazā</td>\n",
       "      <td>mafā`elen fal`ānt mafā`elen fal`ānt</td>\n",
       "      <td>mosta`felan fe`lan mosta`felan fe`lan</td>\n",
       "    </tr>\n",
       "    <tr>\n",
       "      <th>18</th>\n",
       "      <td>man ba`d mā sahanarā va elā`idi fi al`afān</td>\n",
       "      <td>meftal`on meftal`on meftal`on meftal`on</td>\n",
       "      <td>maf`ul fā`elānt maf`ul fā`elānt</td>\n",
       "    </tr>\n",
       "    <tr>\n",
       "      <th>19</th>\n",
       "      <td>bas češme delkaš zolāl āyad</td>\n",
       "      <td>maf`ul mafā`e`il fā`elan</td>\n",
       "      <td>maf`ul mafā`elen mafā`eliyān</td>\n",
       "    </tr>\n",
       "  </tbody>\n",
       "</table>\n",
       "</div>"
      ],
      "text/plain": [
       "                                        Verse Phoneme  \\\n",
       "0          čunmāhi az bigānegi har yek gorizān dideam   \n",
       "1                       mimahr dar sāqar zar belarzad   \n",
       "2   be aql nāzi hakim tā key be fekrat in rah nemi...   \n",
       "3                              kāštāns malāyek va ruh   \n",
       "4                          zir lab dādan došnām ke če   \n",
       "5            kučkadtand bar dam sarv rohi če xandad ؟   \n",
       "6                   melk rā farbe kanad kalak nezārat   \n",
       "7                     bedešyān nabad yād timār va qam   \n",
       "8                        xabar nadāram man az del xud   \n",
       "9              šā^yad ke zir pāy farāqat malul tab`am   \n",
       "10               bebin čon ke birun berand az jahānam   \n",
       "11                       dur bādan buy golxan az sabā   \n",
       "12                         ke tavānad negāšt dar ādam   \n",
       "13        soxan qabul kan az mā ، biyā bahreket a`la`   \n",
       "14                       dāram ze hayāt ، hezār malāl   \n",
       "15                       be hendesi sofuf xošnamāyi u   \n",
       "16          mā rā be rāygān bexar az mā va dāq berene   \n",
       "17           čo xāk xošk va xašn čo bād sorad va gazā   \n",
       "18         man ba`d mā sahanarā va elā`idi fi al`afān   \n",
       "19                        bas češme delkaš zolāl āyad   \n",
       "\n",
       "                            Predicted Prosody Phoneme  \\\n",
       "0                  maf`ul fā`elāt mafā`e`il fā`elānt    \n",
       "1                         maf`ul fā`elāt mafā`eliyān    \n",
       "2    mafā`elen fa` mafā`elen fa` mafā`elen fa` maf...   \n",
       "3                         maf`ul fā`elāt mafā`eliyān    \n",
       "4                    maf`ul mafā`e`il mafā`e`il fe`l    \n",
       "5                  maf`ul fā`elāt mafā`e`il fā`elānt    \n",
       "6                       maf`ul fā`elāt mafā`e`il fa`    \n",
       "7                       maf`ul fā`elāt mafā`e`il fa`    \n",
       "8                         maf`ul fā`elāt mafā`eliyān    \n",
       "9                  maf`ul fā`elāt mafā`e`il fā`elānt    \n",
       "10                      maf`ul fā`elāt mafā`e`il fa`    \n",
       "11                maf`ul mafā`e`il mafā`e`il fe`olan    \n",
       "12                        maf`ul fā`elāt mafā`eliyān    \n",
       "13           meftal`on meftal`on meftal`on meftal`on    \n",
       "14                      maf`ul fā`elāt mafā`e`il fa`    \n",
       "15                     mafā`elen mafā`elen mafā`elen    \n",
       "16   mosta`felan mosta`felan mosta`felan mosta`felan    \n",
       "17               mafā`elen fal`ānt mafā`elen fal`ānt    \n",
       "18           meftal`on meftal`on meftal`on meftal`on    \n",
       "19                          maf`ul mafā`e`il fā`elan    \n",
       "\n",
       "                              Correct Prosody Phoneme  \n",
       "0     meftal`on meftal`on fa` meftal`on meftal`on fa`  \n",
       "1                     fe`olan fe`olan fe`olan fe`olan  \n",
       "2   mafā`elen fa` mafā`elen fa` mafā`elen fa` mafā...  \n",
       "3                         mafā`elen fa` mafā`elen fa`  \n",
       "4                              fal`ānt fal`ānt fe`lan  \n",
       "5                   maf`ul fā`elāt mafā`e`il fā`elānt  \n",
       "6                          fā`elānt fā`elānt fā`elānt  \n",
       "7                        fe`olan fe`olan fe`olan fe`l  \n",
       "8                         mafā`elen fa` mafā`elen fa`  \n",
       "9                   maf`ul fā`elāt mafā`e`il fā`elānt  \n",
       "10                mafā`e`il fe`olan mafā`e`il fe`olan  \n",
       "11                          fā`elānt fā`elānt fā`elan  \n",
       "12                           fal`ānt mafā`elen fe`lan  \n",
       "13                mafā`elen fal`ānt mafā`elen fal`ānt  \n",
       "14                          motefā`eltan motefā`eltan  \n",
       "15                      mafā`elen mafā`elen mafā`elen  \n",
       "16                  maf`ul fā`elāt mafā`e`il fā`elānt  \n",
       "17              mosta`felan fe`lan mosta`felan fe`lan  \n",
       "18                    maf`ul fā`elānt maf`ul fā`elānt  \n",
       "19                       maf`ul mafā`elen mafā`eliyān  "
      ]
     },
     "execution_count": 34,
     "metadata": {},
     "output_type": "execute_result"
    }
   ],
   "source": [
    "import random\n",
    "some_example_df=pd.DataFrame(columns=['Verse Phoneme','Predicted Prosody Phoneme','Correct Prosody Phoneme'])\n",
    "some_examples=random.sample(test_iter, 20)\n",
    "example_gs=[]\n",
    "example_gt_prosody=[]\n",
    "example_pred_prosody=[]\n",
    "for example in some_examples:\n",
    "  example_gs.append(example[0])\n",
    "  example_gt_prosody.append(example[1])\n",
    "  example_pred_prosody.append(inference(g2p_s2s_model,example[0]))\n",
    "some_example_df[\"Verse Phoneme\"]=example_gs\n",
    "some_example_df[\"Predicted Prosody Phoneme\"]=example_pred_prosody\n",
    "some_example_df[\"Correct Prosody Phoneme\"]=example_gt_prosody\n",
    "some_example_df"
   ]
  },
  {
   "cell_type": "markdown",
   "metadata": {
    "id": "Yc9ccPuApXpo"
   },
   "source": [
    "## Custom grapheme"
   ]
  },
  {
   "cell_type": "code",
   "execution_count": null,
   "metadata": {
    "id": "kytNq8vig1oV"
   },
   "outputs": [],
   "source": [
    "inference(g2p_s2s_model,\"salam\")"
   ]
  },
  {
   "cell_type": "code",
   "execution_count": null,
   "metadata": {},
   "outputs": [],
   "source": []
  }
 ],
 "metadata": {
  "accelerator": "GPU",
  "colab": {
   "provenance": []
  },
  "kernelspec": {
   "display_name": "Python 3 (ipykernel)",
   "language": "python",
   "name": "python3"
  },
  "language_info": {
   "codemirror_mode": {
    "name": "ipython",
    "version": 3
   },
   "file_extension": ".py",
   "mimetype": "text/x-python",
   "name": "python",
   "nbconvert_exporter": "python",
   "pygments_lexer": "ipython3",
   "version": "3.12.2"
  }
 },
 "nbformat": 4,
 "nbformat_minor": 4
}
