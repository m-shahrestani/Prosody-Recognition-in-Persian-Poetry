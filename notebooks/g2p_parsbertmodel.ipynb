{
 "cells": [
  {
   "cell_type": "code",
   "execution_count": 1,
   "metadata": {
    "id": "WA_C0axGlhQz"
   },
   "outputs": [],
   "source": [
    "# from google.colab import drive\n",
    "# drive.mount(\"/content/drive/\")"
   ]
  },
  {
   "cell_type": "code",
   "execution_count": 2,
   "metadata": {
    "id": "e1JMhm5xlhcL"
   },
   "outputs": [
    {
     "data": {
      "text/html": [
       "<div>\n",
       "<style scoped>\n",
       "    .dataframe tbody tr th:only-of-type {\n",
       "        vertical-align: middle;\n",
       "    }\n",
       "\n",
       "    .dataframe tbody tr th {\n",
       "        vertical-align: top;\n",
       "    }\n",
       "\n",
       "    .dataframe thead th {\n",
       "        text-align: right;\n",
       "    }\n",
       "</style>\n",
       "<table border=\"1\" class=\"dataframe\">\n",
       "  <thead>\n",
       "    <tr style=\"text-align: right;\">\n",
       "      <th></th>\n",
       "      <th>VERSE1</th>\n",
       "      <th>VERSE2</th>\n",
       "      <th>PROSODY</th>\n",
       "      <th>PROSODY_ID</th>\n",
       "      <th>VERSE1_phoneme</th>\n",
       "      <th>VERSE2_phoneme</th>\n",
       "      <th>PROSODY_phoneme</th>\n",
       "    </tr>\n",
       "  </thead>\n",
       "  <tbody>\n",
       "    <tr>\n",
       "      <th>0</th>\n",
       "      <td>‏ آتش آهم ز بس گلزار بی نم می شود</td>\n",
       "      <td>برگ گل سنگ ته دندان شبنم می شود</td>\n",
       "      <td>فاعلاتن فاعلاتن فاعلاتن فاعلن</td>\n",
       "      <td>12</td>\n",
       "      <td>‏ ātaš āham ze bas golzār bi nam mišavad</td>\n",
       "      <td>barg gol sang tah dandān šabnam mišavad</td>\n",
       "      <td>fā`elānt fā`elānt fā`elānt fā`elan</td>\n",
       "    </tr>\n",
       "    <tr>\n",
       "      <th>1</th>\n",
       "      <td>‏ بهیچوجه نیارم برید ازو که مرا</td>\n",
       "      <td>به دل محبت او چون صفاست با گوهر</td>\n",
       "      <td>مفاعلن فعلاتن مفاعلن فعلن</td>\n",
       "      <td>92</td>\n",
       "      <td>‏ bahyxube nayāram barid ozav ke marā</td>\n",
       "      <td>be del mohbat u čon sefāsat bā gohar</td>\n",
       "      <td>mafā`elen fal`ānt mafā`elen fe`lan</td>\n",
       "    </tr>\n",
       "    <tr>\n",
       "      <th>2</th>\n",
       "      <td>‏ بی تکلف ز شکر ریزی صائب جویا</td>\n",
       "      <td>طوطی نطق تو طرز سخن آموخته است</td>\n",
       "      <td>فعلاتن فعلاتن فعلاتن فعلن</td>\n",
       "      <td>45</td>\n",
       "      <td>‏ bi taklef ze šekar rizi sā`eb juyā</td>\n",
       "      <td>tuti notq to tarz soxan āmustened</td>\n",
       "      <td>fal`ānt fal`ānt fal`ānt fe`lan</td>\n",
       "    </tr>\n",
       "    <tr>\n",
       "      <th>3</th>\n",
       "      <td>‏ چنان کز شهد و شکر نقل نوشین می‌شود پیدا</td>\n",
       "      <td>چو لب بر لب گذاری جان شیرین می‌شود پیدا</td>\n",
       "      <td>مفاعیلن مفاعیلن مفاعیلن مفاعیلن</td>\n",
       "      <td>114</td>\n",
       "      <td>‏ čenān kez šahd va šekar naql nušin mišavad p...</td>\n",
       "      <td>čo lab bar lab gozāri jān širin mišavad peydā</td>\n",
       "      <td>mafā`eliyān mafā`eliyān mafā`eliyān mafā`eliyān</td>\n",
       "    </tr>\n",
       "    <tr>\n",
       "      <th>4</th>\n",
       "      <td>‏ خواهم که خدا روی به دولت بگشاید</td>\n",
       "      <td>زین درگه امید عرب را و عجم را</td>\n",
       "      <td>مفعول مفاعیل مفاعیل فعولن</td>\n",
       "      <td>163</td>\n",
       "      <td>‏ xāhomeko xodā ravi be dolat begošāyad</td>\n",
       "      <td>yzn dargah omid arab rā va ajam rā</td>\n",
       "      <td>maf`ul mafā`e`il mafā`e`il fe`olan</td>\n",
       "    </tr>\n",
       "    <tr>\n",
       "      <th>...</th>\n",
       "      <td>...</td>\n",
       "      <td>...</td>\n",
       "      <td>...</td>\n",
       "      <td>...</td>\n",
       "      <td>...</td>\n",
       "      <td>...</td>\n",
       "      <td>...</td>\n",
       "    </tr>\n",
       "    <tr>\n",
       "      <th>1339684</th>\n",
       "      <td>ییشش بخوانده ‌غاصب کالیسی‌‌</td>\n",
       "      <td>مستد برانه آیت ولّو را‌</td>\n",
       "      <td>مفعول فاعلات مفاعیلن</td>\n",
       "      <td>143</td>\n",
       "      <td>yeš`ege bexānde qa`asb kālisi</td>\n",
       "      <td>mostad berāne āyat velv rā`</td>\n",
       "      <td>maf`ul fā`elāt mafā`eliyān</td>\n",
       "    </tr>\n",
       "    <tr>\n",
       "      <th>1339685</th>\n",
       "      <td>ییش‌هر تختی یکی خوان ظریف</td>\n",
       "      <td>وندر آن گسترده دیبایی لطیف</td>\n",
       "      <td>فاعلاتن فاعلاتن فاعلن</td>\n",
       "      <td>16</td>\n",
       "      <td>ye^lang taxti ye^ki xān zarif</td>\n",
       "      <td>venedr ān gostarde dibā`i latif</td>\n",
       "      <td>fā`elānt fā`elānt fā`elan</td>\n",
       "    </tr>\n",
       "    <tr>\n",
       "      <th>1339686</th>\n",
       "      <td>ییشوایان بهر فردا گرم شور</td>\n",
       "      <td>هریکی گوبا به دیگرگونه طور</td>\n",
       "      <td>فاعلاتن فاعلاتن فاعلن</td>\n",
       "      <td>16</td>\n",
       "      <td>yejviyān ba^hre fardā garm šur</td>\n",
       "      <td>haryeki govā be digargune tor</td>\n",
       "      <td>fā`elānt fā`elānt fā`elan</td>\n",
       "    </tr>\n",
       "    <tr>\n",
       "      <th>1339687</th>\n",
       "      <td>ییک باره‌ای برنشسته سمند</td>\n",
       "      <td>بفتراک بربسته دارد کمند</td>\n",
       "      <td>فعولن فعولن فعولن فعل</td>\n",
       "      <td>54</td>\n",
       "      <td>yezak hāre`e barnešaste samand</td>\n",
       "      <td>beftārt barbaste dārad kamand</td>\n",
       "      <td>fe`olan fe`olan fe`olan fe`l</td>\n",
       "    </tr>\n",
       "    <tr>\n",
       "      <th>1339688</th>\n",
       "      <td>یین حق بود کین گفت از نهانی</td>\n",
       "      <td>نشان خود ز عین بی نشانی</td>\n",
       "      <td>مفاعیلن مفاعیلن فعولن</td>\n",
       "      <td>109</td>\n",
       "      <td>yanj haq bud kin goft az nahāni</td>\n",
       "      <td>nešān xud ze eyn bi nešāni</td>\n",
       "      <td>mafā`eliyān mafā`eliyān fe`olan</td>\n",
       "    </tr>\n",
       "  </tbody>\n",
       "</table>\n",
       "<p>1339689 rows × 7 columns</p>\n",
       "</div>"
      ],
      "text/plain": [
       "                                            VERSE1  \\\n",
       "0                ‏ آتش آهم ز بس گلزار بی نم می شود   \n",
       "1                  ‏ بهیچوجه نیارم برید ازو که مرا   \n",
       "2                   ‏ بی تکلف ز شکر ریزی صائب جویا   \n",
       "3        ‏ چنان کز شهد و شکر نقل نوشین می‌شود پیدا   \n",
       "4                ‏ خواهم که خدا روی به دولت بگشاید   \n",
       "...                                            ...   \n",
       "1339684                ییشش بخوانده ‌غاصب کالیسی‌‌   \n",
       "1339685                  ییش‌هر تختی یکی خوان ظریف   \n",
       "1339686                  ییشوایان بهر فردا گرم شور   \n",
       "1339687                   ییک باره‌ای برنشسته سمند   \n",
       "1339688                یین حق بود کین گفت از نهانی   \n",
       "\n",
       "                                          VERSE2  \\\n",
       "0                برگ گل سنگ ته دندان شبنم می شود   \n",
       "1                به دل محبت او چون صفاست با گوهر   \n",
       "2                 طوطی نطق تو طرز سخن آموخته است   \n",
       "3        چو لب بر لب گذاری جان شیرین می‌شود پیدا   \n",
       "4                  زین درگه امید عرب را و عجم را   \n",
       "...                                          ...   \n",
       "1339684                  مستد برانه آیت ولّو را‌   \n",
       "1339685               وندر آن گسترده دیبایی لطیف   \n",
       "1339686               هریکی گوبا به دیگرگونه طور   \n",
       "1339687                  بفتراک بربسته دارد کمند   \n",
       "1339688                  نشان خود ز عین بی نشانی   \n",
       "\n",
       "                                  PROSODY  PROSODY_ID  \\\n",
       "0          فاعلاتن فاعلاتن فاعلاتن فاعلن           12   \n",
       "1              مفاعلن فعلاتن مفاعلن فعلن           92   \n",
       "2              فعلاتن فعلاتن فعلاتن فعلن           45   \n",
       "3        مفاعیلن مفاعیلن مفاعیلن مفاعیلن          114   \n",
       "4              مفعول مفاعیل مفاعیل فعولن          163   \n",
       "...                                   ...         ...   \n",
       "1339684             مفعول فاعلات مفاعیلن          143   \n",
       "1339685            فاعلاتن فاعلاتن فاعلن           16   \n",
       "1339686            فاعلاتن فاعلاتن فاعلن           16   \n",
       "1339687            فعولن فعولن فعولن فعل           54   \n",
       "1339688            مفاعیلن مفاعیلن فعولن          109   \n",
       "\n",
       "                                            VERSE1_phoneme  \\\n",
       "0                 ‏ ātaš āham ze bas golzār bi nam mišavad   \n",
       "1                    ‏ bahyxube nayāram barid ozav ke marā   \n",
       "2                     ‏ bi taklef ze šekar rizi sā`eb juyā   \n",
       "3        ‏ čenān kez šahd va šekar naql nušin mišavad p...   \n",
       "4                  ‏ xāhomeko xodā ravi be dolat begošāyad   \n",
       "...                                                    ...   \n",
       "1339684                      yeš`ege bexānde qa`asb kālisi   \n",
       "1339685                      ye^lang taxti ye^ki xān zarif   \n",
       "1339686                     yejviyān ba^hre fardā garm šur   \n",
       "1339687                     yezak hāre`e barnešaste samand   \n",
       "1339688                    yanj haq bud kin goft az nahāni   \n",
       "\n",
       "                                        VERSE2_phoneme  \\\n",
       "0              barg gol sang tah dandān šabnam mišavad   \n",
       "1                 be del mohbat u čon sefāsat bā gohar   \n",
       "2                    tuti notq to tarz soxan āmustened   \n",
       "3        čo lab bar lab gozāri jān širin mišavad peydā   \n",
       "4                   yzn dargah omid arab rā va ajam rā   \n",
       "...                                                ...   \n",
       "1339684                    mostad berāne āyat velv rā`   \n",
       "1339685                venedr ān gostarde dibā`i latif   \n",
       "1339686                  haryeki govā be digargune tor   \n",
       "1339687                  beftārt barbaste dārad kamand   \n",
       "1339688                     nešān xud ze eyn bi nešāni   \n",
       "\n",
       "                                         PROSODY_phoneme  \n",
       "0                     fā`elānt fā`elānt fā`elānt fā`elan  \n",
       "1                     mafā`elen fal`ānt mafā`elen fe`lan  \n",
       "2                         fal`ānt fal`ānt fal`ānt fe`lan  \n",
       "3        mafā`eliyān mafā`eliyān mafā`eliyān mafā`eliyān  \n",
       "4                     maf`ul mafā`e`il mafā`e`il fe`olan  \n",
       "...                                                  ...  \n",
       "1339684                       maf`ul fā`elāt mafā`eliyān  \n",
       "1339685                        fā`elānt fā`elānt fā`elan  \n",
       "1339686                        fā`elānt fā`elānt fā`elan  \n",
       "1339687                     fe`olan fe`olan fe`olan fe`l  \n",
       "1339688                  mafā`eliyān mafā`eliyān fe`olan  \n",
       "\n",
       "[1339689 rows x 7 columns]"
      ]
     },
     "execution_count": 2,
     "metadata": {},
     "output_type": "execute_result"
    }
   ],
   "source": [
    "import pandas as pd\n",
    "wp = pd.read_csv('../weighted_phonemes.csv')\n",
    "wp.drop('Unnamed: 0', inplace=True, axis=1)\n",
    "wp"
   ]
  },
  {
   "cell_type": "markdown",
   "metadata": {
    "id": "r3x3Sxz8uHzW"
   },
   "source": [
    "# **Balance Sample**  \n",
    "2000 records  from each 55 popular prosodies."
   ]
  },
  {
   "cell_type": "code",
   "execution_count": 3,
   "metadata": {
    "id": "C1Uf06AC5tIs"
   },
   "outputs": [
    {
     "name": "stderr",
     "output_type": "stream",
     "text": [
      "C:\\Users\\Turbo\\AppData\\Local\\Temp\\ipykernel_4484\\36628110.py:8: DeprecationWarning: DataFrameGroupBy.apply operated on the grouping columns. This behavior is deprecated, and in a future version of pandas the grouping columns will be excluded from the operation. Either pass `include_groups=False` to exclude the groupings or explicitly select the grouping columns after groupby to silence this warning.\n",
      "  bsmp = result.groupby('PROSODY_ID').apply(select_random_rows).reset_index(drop=True)\n"
     ]
    },
    {
     "data": {
      "text/plain": [
       "55"
      ]
     },
     "execution_count": 3,
     "metadata": {},
     "output_type": "execute_result"
    }
   ],
   "source": [
    "id_counts = wp.groupby('PROSODY_ID').size()\n",
    "filtered_ids = id_counts[id_counts >= 100]\n",
    "result = wp[wp['PROSODY_ID'].isin(filtered_ids.index)]\n",
    "\n",
    "def select_random_rows(group):\n",
    "    n = min(500, len(group))\n",
    "    return group.sample(n=n)\n",
    "bsmp = result.groupby('PROSODY_ID').apply(select_random_rows).reset_index(drop=True)\n",
    "numberclass = len(set(bsmp[\"PROSODY_ID\"]))\n",
    "numberclass"
   ]
  },
  {
   "cell_type": "markdown",
   "metadata": {
    "id": "DTswDk2quZqk"
   },
   "source": [
    "shuffling"
   ]
  },
  {
   "cell_type": "code",
   "execution_count": 4,
   "metadata": {
    "id": "aJ89ZHLGDQPg"
   },
   "outputs": [
    {
     "data": {
      "text/html": [
       "<div>\n",
       "<style scoped>\n",
       "    .dataframe tbody tr th:only-of-type {\n",
       "        vertical-align: middle;\n",
       "    }\n",
       "\n",
       "    .dataframe tbody tr th {\n",
       "        vertical-align: top;\n",
       "    }\n",
       "\n",
       "    .dataframe thead th {\n",
       "        text-align: right;\n",
       "    }\n",
       "</style>\n",
       "<table border=\"1\" class=\"dataframe\">\n",
       "  <thead>\n",
       "    <tr style=\"text-align: right;\">\n",
       "      <th></th>\n",
       "      <th>VERSE1</th>\n",
       "      <th>VERSE2</th>\n",
       "      <th>PROSODY</th>\n",
       "      <th>PROSODY_ID</th>\n",
       "      <th>VERSE1_phoneme</th>\n",
       "      <th>VERSE2_phoneme</th>\n",
       "      <th>PROSODY_phoneme</th>\n",
       "    </tr>\n",
       "  </thead>\n",
       "  <tbody>\n",
       "    <tr>\n",
       "      <th>0</th>\n",
       "      <td>سروی ز بستان ارم، شمع شبستان حرم</td>\n",
       "      <td>رویش گلستان عجم کویش دلستان دیده‌ام</td>\n",
       "      <td>مستفعلن مستفعلن مستفعلن مستفعلن</td>\n",
       "      <td>83</td>\n",
       "      <td>soruy ze besetān aram ، šam` šabestān haram</td>\n",
       "      <td>ruyeš golestān ajam keyoš dolsāne dideam</td>\n",
       "      <td>mosta`felan mosta`felan mosta`felan mosta`felan</td>\n",
       "    </tr>\n",
       "    <tr>\n",
       "      <th>1</th>\n",
       "      <td>پس فضل فاضلان نه به اعراض است</td>\n",
       "      <td>ای مرد، نه مگر به قد و بالا</td>\n",
       "      <td>مفعول فاعلات مفاعیلن</td>\n",
       "      <td>143</td>\n",
       "      <td>pas fazl fāzelān noh be e`rāz ast</td>\n",
       "      <td>ey mard ، noh magar be qad va bālā</td>\n",
       "      <td>maf`ul fā`elāt mafā`eliyān</td>\n",
       "    </tr>\n",
       "    <tr>\n",
       "      <th>2</th>\n",
       "      <td>اندر شبان تاریک جیحون دو چیز خواهد</td>\n",
       "      <td>هم روی ماهتابی هم ماهتاب روئی</td>\n",
       "      <td>مفعول فاعلاتن مفعول فاعلاتن</td>\n",
       "      <td>147</td>\n",
       "      <td>andar šobān tārik jeyhun do čiz</td>\n",
       "      <td>ham ravi māhtābi ham māhtāb ru`i</td>\n",
       "      <td>maf`ul fā`elānt maf`ul fā`elānt</td>\n",
       "    </tr>\n",
       "    <tr>\n",
       "      <th>3</th>\n",
       "      <td>در سماع عشق، محفل گرم بود</td>\n",
       "      <td>چون سپند از جای جستم یللی</td>\n",
       "      <td>مستفعلتن مستفعلتن</td>\n",
       "      <td>70</td>\n",
       "      <td>dar samā` ešq ، mahfel garm bud</td>\n",
       "      <td>čon sepand az jāy jostam ylyli</td>\n",
       "      <td>mostaf`altan mostaf`altan</td>\n",
       "    </tr>\n",
       "    <tr>\n",
       "      <th>4</th>\n",
       "      <td>سالارشان را نیکو بودکار</td>\n",
       "      <td>احرار را نیز دل باد بیدار</td>\n",
       "      <td>مستفعلن فع مستفعلن فع</td>\n",
       "      <td>72</td>\n",
       "      <td>sālāršān rā niku budkār</td>\n",
       "      <td>ahrār rā niz del bād bidār</td>\n",
       "      <td>mosta`felan fa` mosta`felan fa`</td>\n",
       "    </tr>\n",
       "    <tr>\n",
       "      <th>...</th>\n",
       "      <td>...</td>\n",
       "      <td>...</td>\n",
       "      <td>...</td>\n",
       "      <td>...</td>\n",
       "      <td>...</td>\n",
       "      <td>...</td>\n",
       "      <td>...</td>\n",
       "    </tr>\n",
       "    <tr>\n",
       "      <th>21467</th>\n",
       "      <td>ره پر شکن است پر بیفکن</td>\n",
       "      <td>تیغ است قوی سپر بیفکن</td>\n",
       "      <td>مفعول مفاعلن فعولن</td>\n",
       "      <td>154</td>\n",
       "      <td>rah por šekan ast por biyāfkan</td>\n",
       "      <td>tiq ast qavi separ biyāfkan</td>\n",
       "      <td>maf`ul mafā`elen fe`olan</td>\n",
       "    </tr>\n",
       "    <tr>\n",
       "      <th>21468</th>\n",
       "      <td>کنون از شکوفه‌ام شک افتاده در ضمیر</td>\n",
       "      <td>که گر شیرخواره‌است به صورت چراست پیر</td>\n",
       "      <td>فعولن مفاعلن فعولن مفاعلن</td>\n",
       "      <td>59</td>\n",
       "      <td>konun az šokufate šak oftāde dar zamir</td>\n",
       "      <td>kahger širxārestād be surat čarāsat pir</td>\n",
       "      <td>fe`olan mafā`elen fe`olan mafā`elen</td>\n",
       "    </tr>\n",
       "    <tr>\n",
       "      <th>21469</th>\n",
       "      <td>گوئی که رسی به مرگ از هجرم</td>\n",
       "      <td>هجر تو ز مرگ وا نمیمٰاند</td>\n",
       "      <td>مفعول مفاعلن مفاعیلن</td>\n",
       "      <td>156</td>\n",
       "      <td>go`i ke rasi be marg az hejrm</td>\n",
       "      <td>hejr to ze marg vā nemimānad</td>\n",
       "      <td>maf`ul mafā`elen mafā`eliyān</td>\n",
       "    </tr>\n",
       "    <tr>\n",
       "      <th>21470</th>\n",
       "      <td>چو پیچد به نسرین او شاخ سنبل</td>\n",
       "      <td>ز مرآت، مرئی شود نقش جوهر</td>\n",
       "      <td>فعولن فعولن فعولن فعولن</td>\n",
       "      <td>55</td>\n",
       "      <td>čo pičad be nasrin u šāx sonbol</td>\n",
       "      <td>ze mar`āt ، marā`i šavad naqš johar</td>\n",
       "      <td>fe`olan fe`olan fe`olan fe`olan</td>\n",
       "    </tr>\n",
       "    <tr>\n",
       "      <th>21471</th>\n",
       "      <td>بدین خدمت مرا از عالم پیر</td>\n",
       "      <td>امید دولت از بخت جوان است</td>\n",
       "      <td>مفعول مفاعلن مفاعیلن</td>\n",
       "      <td>156</td>\n",
       "      <td>bedin xedmat marā az ālam pir</td>\n",
       "      <td>omid dolat az baxt javān ast</td>\n",
       "      <td>maf`ul mafā`elen mafā`eliyān</td>\n",
       "    </tr>\n",
       "  </tbody>\n",
       "</table>\n",
       "<p>21472 rows × 7 columns</p>\n",
       "</div>"
      ],
      "text/plain": [
       "                                   VERSE1  \\\n",
       "0        سروی ز بستان ارم، شمع شبستان حرم   \n",
       "1           پس فضل فاضلان نه به اعراض است   \n",
       "2      اندر شبان تاریک جیحون دو چیز خواهد   \n",
       "3               در سماع عشق، محفل گرم بود   \n",
       "4                 سالارشان را نیکو بودکار   \n",
       "...                                   ...   \n",
       "21467              ره پر شکن است پر بیفکن   \n",
       "21468  کنون از شکوفه‌ام شک افتاده در ضمیر   \n",
       "21469          گوئی که رسی به مرگ از هجرم   \n",
       "21470        چو پیچد به نسرین او شاخ سنبل   \n",
       "21471           بدین خدمت مرا از عالم پیر   \n",
       "\n",
       "                                     VERSE2                           PROSODY  \\\n",
       "0       رویش گلستان عجم کویش دلستان دیده‌ام  مستفعلن مستفعلن مستفعلن مستفعلن    \n",
       "1               ای مرد، نه مگر به قد و بالا             مفعول فاعلات مفاعیلن    \n",
       "2             هم روی ماهتابی هم ماهتاب روئی      مفعول فاعلاتن مفعول فاعلاتن    \n",
       "3                 چون سپند از جای جستم یللی                 مستفعلتن مستفعلتن   \n",
       "4                 احرار را نیز دل باد بیدار            مستفعلن فع مستفعلن فع    \n",
       "...                                     ...                               ...   \n",
       "21467                 تیغ است قوی سپر بیفکن               مفعول مفاعلن فعولن    \n",
       "21468  که گر شیرخواره‌است به صورت چراست پیر         فعولن مفاعلن فعولن مفاعلن   \n",
       "21469              هجر تو ز مرگ وا نمیمٰاند             مفعول مفاعلن مفاعیلن    \n",
       "21470             ز مرآت، مرئی شود نقش جوهر          فعولن فعولن فعولن فعولن    \n",
       "21471             امید دولت از بخت جوان است             مفعول مفاعلن مفاعیلن    \n",
       "\n",
       "       PROSODY_ID                               VERSE1_phoneme  \\\n",
       "0              83  soruy ze besetān aram ، šam` šabestān haram   \n",
       "1             143            pas fazl fāzelān noh be e`rāz ast   \n",
       "2             147              andar šobān tārik jeyhun do čiz   \n",
       "3              70              dar samā` ešq ، mahfel garm bud   \n",
       "4              72                      sālāršān rā niku budkār   \n",
       "...           ...                                          ...   \n",
       "21467         154               rah por šekan ast por biyāfkan   \n",
       "21468          59       konun az šokufate šak oftāde dar zamir   \n",
       "21469         156                go`i ke rasi be marg az hejrm   \n",
       "21470          55              čo pičad be nasrin u šāx sonbol   \n",
       "21471         156                bedin xedmat marā az ālam pir   \n",
       "\n",
       "                                 VERSE2_phoneme  \\\n",
       "0      ruyeš golestān ajam keyoš dolsāne dideam   \n",
       "1            ey mard ، noh magar be qad va bālā   \n",
       "2              ham ravi māhtābi ham māhtāb ru`i   \n",
       "3                čon sepand az jāy jostam ylyli   \n",
       "4                    ahrār rā niz del bād bidār   \n",
       "...                                         ...   \n",
       "21467               tiq ast qavi separ biyāfkan   \n",
       "21468   kahger širxārestād be surat čarāsat pir   \n",
       "21469              hejr to ze marg vā nemimānad   \n",
       "21470       ze mar`āt ، marā`i šavad naqš johar   \n",
       "21471              omid dolat az baxt javān ast   \n",
       "\n",
       "                                       PROSODY_phoneme  \n",
       "0      mosta`felan mosta`felan mosta`felan mosta`felan  \n",
       "1                           maf`ul fā`elāt mafā`eliyān  \n",
       "2                      maf`ul fā`elānt maf`ul fā`elānt  \n",
       "3                            mostaf`altan mostaf`altan  \n",
       "4                      mosta`felan fa` mosta`felan fa`  \n",
       "...                                                ...  \n",
       "21467                         maf`ul mafā`elen fe`olan  \n",
       "21468              fe`olan mafā`elen fe`olan mafā`elen  \n",
       "21469                     maf`ul mafā`elen mafā`eliyān  \n",
       "21470                  fe`olan fe`olan fe`olan fe`olan  \n",
       "21471                     maf`ul mafā`elen mafā`eliyān  \n",
       "\n",
       "[21472 rows x 7 columns]"
      ]
     },
     "execution_count": 4,
     "metadata": {},
     "output_type": "execute_result"
    }
   ],
   "source": [
    "from random import shuffle\n",
    "\n",
    "row_indices = bsmp.index.tolist()\n",
    "shuffle(row_indices)\n",
    "bsmp = bsmp.iloc[row_indices]\n",
    "bsmp = bsmp.reset_index(drop=True)\n",
    "bsmp"
   ]
  },
  {
   "cell_type": "code",
   "execution_count": 5,
   "metadata": {
    "id": "wiY8_YexL8yK"
   },
   "outputs": [
    {
     "data": {
      "image/png": "[encoded data removed]",
      "text/plain": [
       "<Figure size 640x480 with 1 Axes>"
      ]
     },
     "metadata": {},
     "output_type": "display_data"
    },
    {
     "data": {
      "text/plain": [
       "21472"
      ]
     },
     "execution_count": 5,
     "metadata": {},
     "output_type": "execute_result"
    }
   ],
   "source": [
    "import matplotlib.pyplot as plt\n",
    "\n",
    "id_counts = bsmp['PROSODY_ID'].value_counts()\n",
    "id_counts_sorted = id_counts.sort_index()\n",
    "\n",
    "plt.bar(id_counts_sorted.index, id_counts_sorted)\n",
    "plt.show()\n",
    "records = len(bsmp)\n",
    "records"
   ]
  },
  {
   "cell_type": "markdown",
   "metadata": {
    "id": "vTXKXcatbQTZ"
   },
   "source": [
    "#Model"
   ]
  },
  {
   "cell_type": "code",
   "execution_count": 6,
   "metadata": {
    "id": "nCyukmNkbO8C"
   },
   "outputs": [
    {
     "name": "stdout",
     "output_type": "stream",
     "text": [
      "Requirement already satisfied: transformers in c:\\users\\turbo\\appdata\\local\\programs\\python\\python312\\lib\\site-packages (4.38.2)\n",
      "Requirement already satisfied: filelock in c:\\users\\turbo\\appdata\\local\\programs\\python\\python312\\lib\\site-packages (from transformers) (3.9.0)\n",
      "Requirement already satisfied: huggingface-hub<1.0,>=0.19.3 in c:\\users\\turbo\\appdata\\local\\programs\\python\\python312\\lib\\site-packages (from transformers) (0.21.4)\n",
      "Requirement already satisfied: numpy>=1.17 in c:\\users\\turbo\\appdata\\local\\programs\\python\\python312\\lib\\site-packages (from transformers) (1.26.3)\n",
      "Requirement already satisfied: packaging>=20.0 in c:\\users\\turbo\\appdata\\local\\programs\\python\\python312\\lib\\site-packages (from transformers) (24.0)\n",
      "Requirement already satisfied: pyyaml>=5.1 in c:\\users\\turbo\\appdata\\local\\programs\\python\\python312\\lib\\site-packages (from transformers) (6.0.1)\n",
      "Requirement already satisfied: regex!=2019.12.17 in c:\\users\\turbo\\appdata\\local\\programs\\python\\python312\\lib\\site-packages (from transformers) (2023.12.25)\n",
      "Requirement already satisfied: requests in c:\\users\\turbo\\appdata\\local\\programs\\python\\python312\\lib\\site-packages (from transformers) (2.31.0)\n",
      "Requirement already satisfied: tokenizers<0.19,>=0.14 in c:\\users\\turbo\\appdata\\local\\programs\\python\\python312\\lib\\site-packages (from transformers) (0.15.2)\n",
      "Requirement already satisfied: safetensors>=0.4.1 in c:\\users\\turbo\\appdata\\local\\programs\\python\\python312\\lib\\site-packages (from transformers) (0.4.2)\n",
      "Requirement already satisfied: tqdm>=4.27 in c:\\users\\turbo\\appdata\\local\\programs\\python\\python312\\lib\\site-packages (from transformers) (4.66.2)\n",
      "Requirement already satisfied: fsspec>=2023.5.0 in c:\\users\\turbo\\appdata\\local\\programs\\python\\python312\\lib\\site-packages (from huggingface-hub<1.0,>=0.19.3->transformers) (2024.2.0)\n",
      "Requirement already satisfied: typing-extensions>=3.7.4.3 in c:\\users\\turbo\\appdata\\local\\programs\\python\\python312\\lib\\site-packages (from huggingface-hub<1.0,>=0.19.3->transformers) (4.8.0)\n",
      "Requirement already satisfied: colorama in c:\\users\\turbo\\appdata\\local\\programs\\python\\python312\\lib\\site-packages (from tqdm>=4.27->transformers) (0.4.6)\n",
      "Requirement already satisfied: charset-normalizer<4,>=2 in c:\\users\\turbo\\appdata\\local\\programs\\python\\python312\\lib\\site-packages (from requests->transformers) (3.3.2)\n",
      "Requirement already satisfied: idna<4,>=2.5 in c:\\users\\turbo\\appdata\\local\\programs\\python\\python312\\lib\\site-packages (from requests->transformers) (3.6)\n",
      "Requirement already satisfied: urllib3<3,>=1.21.1 in c:\\users\\turbo\\appdata\\local\\programs\\python\\python312\\lib\\site-packages (from requests->transformers) (2.2.1)\n",
      "Requirement already satisfied: certifi>=2017.4.17 in c:\\users\\turbo\\appdata\\local\\programs\\python\\python312\\lib\\site-packages (from requests->transformers) (2024.2.2)\n",
      "Note: you may need to restart the kernel to use updated packages.\n"
     ]
    }
   ],
   "source": [
    "pip install transformers"
   ]
  },
  {
   "cell_type": "code",
   "execution_count": 7,
   "metadata": {
    "id": "Jc-ET4hFbO6D"
   },
   "outputs": [],
   "source": [
    "import torch\n",
    "from torch.utils.data import Dataset, DataLoader\n",
    "from torchtext import vocab as Vocab\n",
    "import collections\n",
    "from torch.nn.utils.rnn import pad_sequence\n",
    "from transformers import AutoTokenizer\n",
    "\n",
    "\n",
    "class processed_dataset(Dataset):\n",
    "    def __init__(self, data, vocab):\n",
    "        self.tokenized_data = [[vocab.stoi[word.lower()] for word in self.tokenize_sent(data_tuple[0])] for data_tuple in data]\n",
    "        self.labels = [data_tuple[1] for data_tuple in data]\n",
    "        assert len(self.labels) == len(self.tokenized_data)\n",
    "\n",
    "    def tokenize_sent(self, sent):\n",
    "        return [word for word in sent.split(' ')]\n",
    "\n",
    "\n",
    "\n",
    "    def __len__(self):\n",
    "        return len(self.labels)\n",
    "\n",
    "    def __getitem__(self, idx):\n",
    "        return self.tokenized_data[idx], self.labels[idx]\n",
    "\n",
    "\n",
    "class processed_dataset_bert(Dataset):\n",
    "    def __init__(self, data, bert_type):\n",
    "        tokenizer = AutoTokenizer.from_pretrained(bert_type)\n",
    "        self.texts = []\n",
    "        self.labels = []\n",
    "        for text, label in data:\n",
    "            self.texts.append(torch.tensor(tokenizer.encode(text, max_length=128, truncation=True)))\n",
    "            self.labels.append(label)\n",
    "        assert len(self.texts) == len(self.labels)\n",
    "\n",
    "    def __len__(self):\n",
    "        return len(self.texts)\n",
    "\n",
    "    def __getitem__(self, idx):\n",
    "        return self.texts[idx], self.labels[idx]\n",
    "\n",
    "\n",
    "class packDataset_util():\n",
    "    def __init__(self, vocab_target_set):\n",
    "        self.vocab = self.get_vocab(vocab_target_set)\n",
    "\n",
    "    def fn(self, data):\n",
    "        labels = torch.tensor([item[1] for item in data])\n",
    "        lengths = [len(item[0]) for item in data]\n",
    "        texts = [torch.tensor(item[0]) for item in data]\n",
    "        padded_texts = pad_sequence(texts, batch_first=True, padding_value=0)\n",
    "\n",
    "        return padded_texts, lengths, labels\n",
    "\n",
    "    def get_loader(self, data, shuffle=True, batch_size=32):\n",
    "        dataset = processed_dataset(data, self.vocab)\n",
    "        loader = DataLoader(dataset=dataset, shuffle=shuffle, batch_size=batch_size, collate_fn=self.fn)\n",
    "        return loader\n",
    "\n",
    "    def tokenize_sent(self, sent):\n",
    "        return [word for word in sent.split(' ')]\n",
    "\n",
    "\n",
    "    def get_vocab(self, target_set):\n",
    "        tokenized_data = [[word.lower() for word in self.tokenize_sent(data_tuple[0])] for data_tuple in target_set]\n",
    "        counter = collections.Counter([word for review in tokenized_data for word in review])\n",
    "        vocab = Vocab.Vocab(counter, min_freq=3)\n",
    "        return vocab\n",
    "\n",
    "\n",
    "class packDataset_util_bert():\n",
    "    def __init__(self, bert_type):\n",
    "        self.bert_type = bert_type\n",
    "\n",
    "    def fn(self, data):\n",
    "        texts = []\n",
    "        labels = []\n",
    "        for text, label in data:\n",
    "            texts.append(text)\n",
    "            labels.append(label)\n",
    "        labels = torch.tensor(labels)\n",
    "        padded_texts = pad_sequence(texts, batch_first=True, padding_value=0)\n",
    "        attention_masks = torch.zeros_like(padded_texts).masked_fill(padded_texts != 0, 1)\n",
    "        return padded_texts, attention_masks, labels\n",
    "\n",
    "\n",
    "    def get_loader(self, data, shuffle=True, batch_size=32):\n",
    "        dataset = processed_dataset_bert(data, self.bert_type)\n",
    "        loader = DataLoader(dataset=dataset, shuffle=shuffle, batch_size=batch_size, collate_fn=self.fn)\n",
    "        return loader"
   ]
  },
  {
   "cell_type": "code",
   "execution_count": 8,
   "metadata": {
    "id": "GO8pWQJ3bO4N"
   },
   "outputs": [],
   "source": [
    "packDataset_util = packDataset_util_bert(\"bert-base-uncased\")"
   ]
  },
  {
   "cell_type": "code",
   "execution_count": 9,
   "metadata": {
    "id": "cFNC-cQWMOKz"
   },
   "outputs": [
    {
     "data": {
      "text/plain": [
       "34354"
      ]
     },
     "execution_count": 9,
     "metadata": {},
     "output_type": "execute_result"
    }
   ],
   "source": [
    "import math\n",
    "train=[]\n",
    "for i in range(0, math.floor(records * 0.8)):\n",
    "  train.append((bsmp[\"VERSE1_phoneme\"][i], bsmp[\"PROSODY_ID\"][i]))\n",
    "  train.append((bsmp[\"VERSE2_phoneme\"][i], bsmp[\"PROSODY_ID\"][i]))\n",
    "len(train)\n"
   ]
  },
  {
   "cell_type": "code",
   "execution_count": 10,
   "metadata": {
    "id": "4c79306b"
   },
   "outputs": [
    {
     "data": {
      "text/plain": [
       "8590"
      ]
     },
     "execution_count": 10,
     "metadata": {},
     "output_type": "execute_result"
    }
   ],
   "source": [
    "test=[]\n",
    "for i in range(math.floor(records * 0.8), records):\n",
    "  test.append((bsmp[\"VERSE1_phoneme\"][i],bsmp[\"PROSODY_ID\"][i]))\n",
    "  test.append((bsmp[\"VERSE2_phoneme\"][i],bsmp[\"PROSODY_ID\"][i]))\n",
    "len(test)"
   ]
  },
  {
   "cell_type": "code",
   "execution_count": 11,
   "metadata": {
    "id": "jxqQYt9NbO2N"
   },
   "outputs": [],
   "source": [
    "train_loader = packDataset_util.get_loader(train, shuffle=False, batch_size=128)\n",
    "test_loader = packDataset_util.get_loader(test, shuffle=False, batch_size=128)"
   ]
  },
  {
   "cell_type": "code",
   "execution_count": 12,
   "metadata": {
    "id": "VpVtOoe2bOyb"
   },
   "outputs": [],
   "source": [
    "import torch\n",
    "import torch.nn as nn\n",
    "import transformers\n",
    "import os\n",
    "from torch.nn.utils import clip_grad_norm_"
   ]
  },
  {
   "cell_type": "code",
   "execution_count": 13,
   "metadata": {
    "id": "2mx6e4FnbqZD"
   },
   "outputs": [
    {
     "data": {
      "text/plain": [
       "device(type='cuda')"
      ]
     },
     "execution_count": 13,
     "metadata": {},
     "output_type": "execute_result"
    }
   ],
   "source": [
    "device = torch.device('cuda' if torch.cuda.is_available() else 'cpu')\n",
    "device"
   ]
  },
  {
   "cell_type": "code",
   "execution_count": 14,
   "metadata": {
    "id": "hCLqfcpZbqWv"
   },
   "outputs": [
    {
     "name": "stderr",
     "output_type": "stream",
     "text": [
      "Some weights of BertForSequenceClassification were not initialized from the model checkpoint at HooshvareLab/bert-base-parsbert-uncased and are newly initialized: ['classifier.bias', 'classifier.weight']\n",
      "You should probably TRAIN this model on a down-stream task to be able to use it for predictions and inference.\n"
     ]
    }
   ],
   "source": [
    "from transformers import AutoModelForSequenceClassification\n",
    "model = AutoModelForSequenceClassification.from_pretrained(\"HooshvareLab/bert-base-parsbert-uncased\"\n",
    "                                                     , num_labels=176).to(device) # because we have 11 classes"
   ]
  },
  {
   "cell_type": "markdown",
   "metadata": {
    "id": "IwRs7yKjEp55"
   },
   "source": [
    "#Optional\n",
    "if you load a trained model"
   ]
  },
  {
   "cell_type": "code",
   "execution_count": 15,
   "metadata": {
    "id": "JRJzdKp9EuL_"
   },
   "outputs": [],
   "source": [
    "# Only if you want to resume your previous epochs\n",
    "# model.load_state_dict(torch.load(\"your_checkpoint.pth\"))"
   ]
  },
  {
   "cell_type": "code",
   "execution_count": 16,
   "metadata": {
    "id": "Nkz9lkk9bqUk"
   },
   "outputs": [],
   "source": [
    "criterion = nn.CrossEntropyLoss()"
   ]
  },
  {
   "cell_type": "code",
   "execution_count": 17,
   "metadata": {
    "id": "SYonxMkMbqSr"
   },
   "outputs": [],
   "source": [
    "BATCH_SIZE = 128\n",
    "weight_decay = float(0)\n",
    "lr = 1e-5\n",
    "EPOCHS = 10\n",
    "warm_up_epochs = 3"
   ]
  },
  {
   "cell_type": "code",
   "execution_count": 18,
   "metadata": {
    "id": "2vc7FVmCbqQv"
   },
   "outputs": [],
   "source": [
    "optimizer = torch.optim.AdamW(model.parameters(), lr=lr, weight_decay=weight_decay)"
   ]
  },
  {
   "cell_type": "code",
   "execution_count": 19,
   "metadata": {
    "id": "yG10vNiMbqOs"
   },
   "outputs": [],
   "source": [
    "scheduler = transformers.get_linear_schedule_with_warmup(optimizer,\n",
    "                                        num_warmup_steps=warm_up_epochs * len(train_loader),\n",
    "                                        num_training_steps=(warm_up_epochs + EPOCHS) * len(train_loader))\n"
   ]
  },
  {
   "cell_type": "code",
   "execution_count": 20,
   "metadata": {
    "id": "aip_VRXJbqMi"
   },
   "outputs": [],
   "source": [
    "from sklearn.metrics import accuracy_score, f1_score, precision_score, recall_score, confusion_matrix\n",
    "import warnings\n",
    "def evaluaion(loader):\n",
    "    warnings.filterwarnings('ignore')\n",
    "    model.eval()\n",
    "    y_true = []\n",
    "    y_pred = []\n",
    "    with torch.no_grad():\n",
    "        for padded_text, attention_masks, labels in loader:\n",
    "            padded_text = padded_text.to(device)\n",
    "            attention_masks = attention_masks.to(device)\n",
    "            labels = labels.to(device)\n",
    "            output = model(padded_text, attention_masks)[0]  # batch_size, 2\n",
    "            _, flag = torch.max(output, dim=1)\n",
    "\n",
    "            # add true and predicted labels for calculating F1 score\n",
    "            y_true += labels.cpu().numpy().tolist()\n",
    "            y_pred += flag.cpu().numpy().tolist()\n",
    "\n",
    "        acc = accuracy_score(y_true, y_pred)\n",
    "        f1 = f1_score(y_true, y_pred, average='weighted')\n",
    "        precision = precision_score(y_true, y_pred, average='weighted')\n",
    "        recall = recall_score(y_true, y_pred, average='weighted')\n",
    "        cm = confusion_matrix(y_true, y_pred)\n",
    "        return acc, f1, precision, recall, cm"
   ]
  },
  {
   "cell_type": "code",
   "execution_count": 21,
   "metadata": {
    "id": "GHhPPgiQgo_z"
   },
   "outputs": [
    {
     "name": "stdout",
     "output_type": "stream",
     "text": [
      " Volume in drive C has no label.\n",
      " Volume Serial Number is 3A20-2AB6\n",
      "\n",
      " Directory of C:\\Users\\Turbo\\Desktop\\persian_poem_prosody_research\\RES\\g2p_parsbert\n",
      "\n",
      "03/18/2024  04:20 PM    <DIR>          .\n",
      "03/18/2024  04:20 PM    <DIR>          ..\n",
      "03/15/2024  07:06 PM    <DIR>          .ipynb_checkpoints\n",
      "03/17/2024  04:25 PM           368,025 g2p_parsbert-1336930.html\n",
      "03/17/2024  04:10 PM       651,991,049 g2p_parsbert-1336930.pth\n",
      "03/18/2024  03:58 PM           364,450 g2p_parsbert-138520.html\n",
      "03/18/2024  03:56 PM       651,990,844 g2p_parsbert-138520.pth\n",
      "03/18/2024  02:57 PM           364,705 g2p_parsbert-243686.html\n",
      "03/18/2024  02:41 PM       651,990,844 g2p_parsbert-243686.pth\n",
      "03/18/2024  04:16 PM           363,312 g2p_parsbert-38293.html\n",
      "03/18/2024  04:15 PM       651,990,639 g2p_parsbert-38293.pth\n",
      "03/16/2024  02:26 AM           360,940 g2p_parsbert-5500.html\n",
      "03/16/2024  02:26 AM       651,990,434 g2p_parsbert-5500.pth\n",
      "03/18/2024  01:09 PM           365,381 g2p_parsbert-726511.html\n",
      "03/18/2024  10:24 AM       651,990,844 g2p_parsbert-726511.pth\n",
      "03/18/2024  04:20 PM            53,217 g2p_parsbertmodel.ipynb\n",
      "              13 File(s)  3,914,184,684 bytes\n",
      "               3 Dir(s)  339,439,820,800 bytes free\n"
     ]
    }
   ],
   "source": [
    "ls"
   ]
  },
  {
   "cell_type": "code",
   "execution_count": 22,
   "metadata": {
    "id": "jo1hoFwueRmC",
    "scrolled": true
   },
   "outputs": [
    {
     "name": "stdout",
     "output_type": "stream",
     "text": [
      "finish training, avg loss: 4.955842838854594/100000, begin to evaluate:\n",
      "test accuracy: 0.026542491268917345, Epoch time = 36.32189359999029\n",
      "*****************************************************************************************\n",
      "finish training, avg loss: 4.303193256314359/4.955842838854594, begin to evaluate:\n",
      "test accuracy: 0.04458672875436554, Epoch time = 35.23728100000881\n",
      "*****************************************************************************************\n",
      "finish training, avg loss: 3.7402093206639626/4.303193256314359, begin to evaluate:\n",
      "test accuracy: 0.06670547147846333, Epoch time = 35.66925400000764\n",
      "*****************************************************************************************\n",
      "finish training, avg loss: 3.4308645095967005/3.7402093206639626, begin to evaluate:\n",
      "test accuracy: 0.08649592549476134, Epoch time = 35.94617660000222\n",
      "*****************************************************************************************\n",
      "finish training, avg loss: 3.2742706417594256/3.4308645095967005, begin to evaluate:\n",
      "test accuracy: 0.09790454016298021, Epoch time = 35.94352549998439\n",
      "*****************************************************************************************\n",
      "finish training, avg loss: 3.176068146432643/3.2742706417594256, begin to evaluate:\n",
      "test accuracy: 0.09860302677532014, Epoch time = 36.03543749998789\n",
      "*****************************************************************************************\n",
      "finish training, avg loss: 3.107702163072324/3.176068146432643, begin to evaluate:\n",
      "test accuracy: 0.1089639115250291, Epoch time = 36.05618910002522\n",
      "*****************************************************************************************\n",
      "finish training, avg loss: 3.0534529393490364/3.107702163072324, begin to evaluate:\n",
      "test accuracy: 0.1149010477299185, Epoch time = 36.09165889999713\n",
      "*****************************************************************************************\n",
      "finish training, avg loss: 3.0064782192272768/3.0534529393490364, begin to evaluate:\n",
      "test accuracy: 0.11641443538998836, Epoch time = 36.10818169999402\n",
      "*****************************************************************************************\n",
      "finish training, avg loss: 2.965486134738284/3.0064782192272768, begin to evaluate:\n",
      "test accuracy: 0.11979045401629802, Epoch time = 36.14158729999326\n",
      "*****************************************************************************************\n",
      "finish training, avg loss: 2.9264069782313804/2.965486134738284, begin to evaluate:\n",
      "test accuracy: 0.12724097788125727, Epoch time = 36.14583260001382\n",
      "*****************************************************************************************\n",
      "finish training, avg loss: 2.8998088003534366/2.9264069782313804, begin to evaluate:\n",
      "test accuracy: 0.12968568102444702, Epoch time = 36.165838999993866\n",
      "*****************************************************************************************\n",
      "finish training, avg loss: 2.879589922809246/2.8998088003534366, begin to evaluate:\n",
      "test accuracy: 0.13655413271245634, Epoch time = 36.270784299995285\n",
      "*****************************************************************************************\n",
      "*****************************************************************************************\n",
      "train time = 468.13364109999384\n",
      "finish all, final test accuracy: 0.13655413271245634, F1 score: 0.1116475727631848, Precision: 0.11824943956282369, Recall: 0.13655413271245634, Confusion Matrix: [[ 0  0  0 ...  0  0  0]\n",
      " [ 0 20  0 ...  1  3  1]\n",
      " [ 0  0 44 ...  0  2  9]\n",
      " ...\n",
      " [ 0  6  0 ...  6  1  0]\n",
      " [ 0  6  1 ...  6 11 12]\n",
      " [ 0  2  1 ...  0 15 28]]\n",
      "finish all, final train accuracy: 0.1793095418291902, F1 score: 0.14848466519749343, Precision: 0.19134673319908913, Recall: 0.1793095418291902, Confusion Matrix: [[  0   0   0 ...   0   0   0]\n",
      " [  0  98   0 ...  20   6   1]\n",
      " [  0   0 217 ...   0   2  11]\n",
      " ...\n",
      " [  0  41   0 ...  30   3   1]\n",
      " [  0  21   0 ...   4  67  18]\n",
      " [  0   9   3 ...   0  82 127]]\n"
     ]
    }
   ],
   "source": [
    "from timeit import default_timer as timer\n",
    "\n",
    "last_train_avg_loss = 100000\n",
    "epoch_times = []\n",
    "for epoch in range(warm_up_epochs + EPOCHS): # you can change number of epochs\n",
    "    start_time = timer()\n",
    "    model.train()\n",
    "    total_loss = 0\n",
    "    for padded_text, attention_masks, labels in train_loader:\n",
    "        padded_text = padded_text.to(device)\n",
    "        attention_masks = attention_masks.to(device)\n",
    "        labels = labels.to(device)\n",
    "        output = model(padded_text, attention_masks)[0]\n",
    "        loss = criterion(output, labels)\n",
    "        optimizer.zero_grad()\n",
    "        loss.backward()\n",
    "        clip_grad_norm_(model.parameters(), max_norm=1)\n",
    "        optimizer.step()\n",
    "        scheduler.step()\n",
    "        total_loss += loss.item()\n",
    "    end_time = timer()\n",
    "\n",
    "    avg_loss = total_loss / len(train_loader)\n",
    "    print(f'finish training, avg loss: {avg_loss}/{last_train_avg_loss}, begin to evaluate:')\n",
    "    test_acc, _, _, _, _ = evaluaion(test_loader)\n",
    "    et = end_time - start_time\n",
    "    epoch_times.append(et)\n",
    "    print(f'test accuracy: {test_acc}, Epoch time = {et}')\n",
    "    last_train_avg_loss = avg_loss\n",
    "    print('*' * 89)\n",
    "\n",
    "torch.save(model.state_dict(), f\"g2p_parsbert-{records}.pth\")\n",
    "acc, f1, precision, recall, cm = evaluaion(test_loader)\n",
    "train_acc, train_f1, train_precision, train_recall, train_cm = evaluaion(train_loader)\n",
    "print('*' * 89)\n",
    "print(f'train time = {sum(epoch_times)}')\n",
    "print(f'finish all, final test accuracy: {acc}, F1 score: {f1}, Precision: {precision}, Recall: {recall}, Confusion Matrix: {cm}')\n",
    "print(f'finish all, final train accuracy: {train_acc}, F1 score: {train_f1}, Precision: {train_precision}, Recall: {train_recall}, Confusion Matrix: {train_cm}')"
   ]
  },
  {
   "cell_type": "code",
   "execution_count": null,
   "metadata": {},
   "outputs": [],
   "source": []
  }
 ],
 "metadata": {
  "accelerator": "GPU",
  "colab": {
   "authorship_tag": "ABX9TyOY5EqFvt002SmQhE5jQZni",
   "provenance": []
  },
  "gpuClass": "standard",
  "kernelspec": {
   "display_name": "Python 3 (ipykernel)",
   "language": "python",
   "name": "python3"
  },
  "language_info": {
   "codemirror_mode": {
    "name": "ipython",
    "version": 3
   },
   "file_extension": ".py",
   "mimetype": "text/x-python",
   "name": "python",
   "nbconvert_exporter": "python",
   "pygments_lexer": "ipython3",
   "version": "3.12.2"
  }
 },
 "nbformat": 4,
 "nbformat_minor": 4
}
