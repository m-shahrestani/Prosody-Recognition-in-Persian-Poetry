{
 "cells": [
  {
   "cell_type": "code",
   "execution_count": 23,
   "metadata": {
    "colab": {
     "base_uri": "https://localhost:8080/"
    },
    "executionInfo": {
     "elapsed": 58133,
     "status": "ok",
     "timestamp": 1710337030927,
     "user": {
      "displayName": "Mohammad Reza Shahrestani",
      "userId": "10693113313433738905"
     },
     "user_tz": -210
    },
    "id": "WA_C0axGlhQz",
    "outputId": "9df7f237-f58d-48ce-93ab-8c4af8c60730"
   },
   "outputs": [],
   "source": [
    "# from google.colab import drive\n",
    "# drive.mount(\"/content/drive/\")"
   ]
  },
  {
   "cell_type": "code",
   "execution_count": 24,
   "metadata": {
    "colab": {
     "base_uri": "https://localhost:8080/",
     "height": 424
    },
    "executionInfo": {
     "elapsed": 8271,
     "status": "ok",
     "timestamp": 1710337039181,
     "user": {
      "displayName": "Mohammad Reza Shahrestani",
      "userId": "10693113313433738905"
     },
     "user_tz": -210
    },
    "id": "e1JMhm5xlhcL",
    "outputId": "09de6340-e2bf-4759-8495-21232ec5e7c6"
   },
   "outputs": [
    {
     "data": {
      "text/html": [
       "<div>\n",
       "<style scoped>\n",
       "    .dataframe tbody tr th:only-of-type {\n",
       "        vertical-align: middle;\n",
       "    }\n",
       "\n",
       "    .dataframe tbody tr th {\n",
       "        vertical-align: top;\n",
       "    }\n",
       "\n",
       "    .dataframe thead th {\n",
       "        text-align: right;\n",
       "    }\n",
       "</style>\n",
       "<table border=\"1\" class=\"dataframe\">\n",
       "  <thead>\n",
       "    <tr style=\"text-align: right;\">\n",
       "      <th></th>\n",
       "      <th>VERSE1</th>\n",
       "      <th>VERSE2</th>\n",
       "      <th>PROSODY</th>\n",
       "      <th>PROSODY_ID</th>\n",
       "    </tr>\n",
       "  </thead>\n",
       "  <tbody>\n",
       "    <tr>\n",
       "      <th>0</th>\n",
       "      <td>‏ آتش آهم ز بس گلزار بی نم می شود</td>\n",
       "      <td>برگ گل سنگ ته دندان شبنم می شود</td>\n",
       "      <td>فاعلاتن فاعلاتن فاعلاتن فاعلن</td>\n",
       "      <td>12</td>\n",
       "    </tr>\n",
       "    <tr>\n",
       "      <th>1</th>\n",
       "      <td>‏ بهیچوجه نیارم برید ازو که مرا</td>\n",
       "      <td>به دل محبت او چون صفاست با گوهر</td>\n",
       "      <td>مفاعلن فعلاتن مفاعلن فعلن</td>\n",
       "      <td>92</td>\n",
       "    </tr>\n",
       "    <tr>\n",
       "      <th>2</th>\n",
       "      <td>‏ بی تکلف ز شکر ریزی صائب جویا</td>\n",
       "      <td>طوطی نطق تو طرز سخن آموخته است</td>\n",
       "      <td>فعلاتن فعلاتن فعلاتن فعلن</td>\n",
       "      <td>45</td>\n",
       "    </tr>\n",
       "    <tr>\n",
       "      <th>3</th>\n",
       "      <td>‏ چنان کز شهد و شکر نقل نوشین می‌شود پیدا</td>\n",
       "      <td>چو لب بر لب گذاری جان شیرین می‌شود پیدا</td>\n",
       "      <td>مفاعیلن مفاعیلن مفاعیلن مفاعیلن</td>\n",
       "      <td>114</td>\n",
       "    </tr>\n",
       "    <tr>\n",
       "      <th>4</th>\n",
       "      <td>‏ خواهم که خدا روی به دولت بگشاید</td>\n",
       "      <td>زین درگه امید عرب را و عجم را</td>\n",
       "      <td>مفعول مفاعیل مفاعیل فعولن</td>\n",
       "      <td>163</td>\n",
       "    </tr>\n",
       "    <tr>\n",
       "      <th>...</th>\n",
       "      <td>...</td>\n",
       "      <td>...</td>\n",
       "      <td>...</td>\n",
       "      <td>...</td>\n",
       "    </tr>\n",
       "    <tr>\n",
       "      <th>1339684</th>\n",
       "      <td>ییشش بخوانده ‌غاصب کالیسی‌‌</td>\n",
       "      <td>مستد برانه آیت ولّو را‌</td>\n",
       "      <td>مفعول فاعلات مفاعیلن</td>\n",
       "      <td>143</td>\n",
       "    </tr>\n",
       "    <tr>\n",
       "      <th>1339685</th>\n",
       "      <td>ییش‌هر تختی یکی خوان ظریف</td>\n",
       "      <td>وندر آن گسترده دیبایی لطیف</td>\n",
       "      <td>فاعلاتن فاعلاتن فاعلن</td>\n",
       "      <td>16</td>\n",
       "    </tr>\n",
       "    <tr>\n",
       "      <th>1339686</th>\n",
       "      <td>ییشوایان بهر فردا گرم شور</td>\n",
       "      <td>هریکی گوبا به دیگرگونه طور</td>\n",
       "      <td>فاعلاتن فاعلاتن فاعلن</td>\n",
       "      <td>16</td>\n",
       "    </tr>\n",
       "    <tr>\n",
       "      <th>1339687</th>\n",
       "      <td>ییک باره‌ای برنشسته سمند</td>\n",
       "      <td>بفتراک بربسته دارد کمند</td>\n",
       "      <td>فعولن فعولن فعولن فعل</td>\n",
       "      <td>54</td>\n",
       "    </tr>\n",
       "    <tr>\n",
       "      <th>1339688</th>\n",
       "      <td>یین حق بود کین گفت از نهانی</td>\n",
       "      <td>نشان خود ز عین بی نشانی</td>\n",
       "      <td>مفاعیلن مفاعیلن فعولن</td>\n",
       "      <td>109</td>\n",
       "    </tr>\n",
       "  </tbody>\n",
       "</table>\n",
       "<p>1339689 rows × 4 columns</p>\n",
       "</div>"
      ],
      "text/plain": [
       "                                            VERSE1  \\\n",
       "0                ‏ آتش آهم ز بس گلزار بی نم می شود   \n",
       "1                  ‏ بهیچوجه نیارم برید ازو که مرا   \n",
       "2                   ‏ بی تکلف ز شکر ریزی صائب جویا   \n",
       "3        ‏ چنان کز شهد و شکر نقل نوشین می‌شود پیدا   \n",
       "4                ‏ خواهم که خدا روی به دولت بگشاید   \n",
       "...                                            ...   \n",
       "1339684                ییشش بخوانده ‌غاصب کالیسی‌‌   \n",
       "1339685                  ییش‌هر تختی یکی خوان ظریف   \n",
       "1339686                  ییشوایان بهر فردا گرم شور   \n",
       "1339687                   ییک باره‌ای برنشسته سمند   \n",
       "1339688                یین حق بود کین گفت از نهانی   \n",
       "\n",
       "                                          VERSE2  \\\n",
       "0                برگ گل سنگ ته دندان شبنم می شود   \n",
       "1                به دل محبت او چون صفاست با گوهر   \n",
       "2                 طوطی نطق تو طرز سخن آموخته است   \n",
       "3        چو لب بر لب گذاری جان شیرین می‌شود پیدا   \n",
       "4                  زین درگه امید عرب را و عجم را   \n",
       "...                                          ...   \n",
       "1339684                  مستد برانه آیت ولّو را‌   \n",
       "1339685               وندر آن گسترده دیبایی لطیف   \n",
       "1339686               هریکی گوبا به دیگرگونه طور   \n",
       "1339687                  بفتراک بربسته دارد کمند   \n",
       "1339688                  نشان خود ز عین بی نشانی   \n",
       "\n",
       "                                  PROSODY  PROSODY_ID  \n",
       "0          فاعلاتن فاعلاتن فاعلاتن فاعلن           12  \n",
       "1              مفاعلن فعلاتن مفاعلن فعلن           92  \n",
       "2              فعلاتن فعلاتن فعلاتن فعلن           45  \n",
       "3        مفاعیلن مفاعیلن مفاعیلن مفاعیلن          114  \n",
       "4              مفعول مفاعیل مفاعیل فعولن          163  \n",
       "...                                   ...         ...  \n",
       "1339684             مفعول فاعلات مفاعیلن          143  \n",
       "1339685            فاعلاتن فاعلاتن فاعلن           16  \n",
       "1339686            فاعلاتن فاعلاتن فاعلن           16  \n",
       "1339687            فعولن فعولن فعولن فعل           54  \n",
       "1339688            مفاعیلن مفاعیلن فعولن          109  \n",
       "\n",
       "[1339689 rows x 4 columns]"
      ]
     },
     "execution_count": 24,
     "metadata": {},
     "output_type": "execute_result"
    }
   ],
   "source": [
    "import pandas as pd\n",
    "wp = pd.read_csv('../weighted.csv')\n",
    "wp.drop('Unnamed: 0', inplace=True, axis=1)\n",
    "wp"
   ]
  },
  {
   "cell_type": "markdown",
   "metadata": {
    "id": "r3x3Sxz8uHzW"
   },
   "source": [
    "# **Balance Sample**  \n",
    "2000 records  from each 55 popular prosodies."
   ]
  },
  {
   "cell_type": "code",
   "execution_count": 25,
   "metadata": {
    "colab": {
     "base_uri": "https://localhost:8080/"
    },
    "executionInfo": {
     "elapsed": 436,
     "status": "ok",
     "timestamp": 1710337039593,
     "user": {
      "displayName": "Mohammad Reza Shahrestani",
      "userId": "10693113313433738905"
     },
     "user_tz": -210
    },
    "id": "C1Uf06AC5tIs",
    "outputId": "783e4bd4-874f-4b7e-f0d1-be3f40121420"
   },
   "outputs": [
    {
     "data": {
      "text/plain": [
       "55"
      ]
     },
     "execution_count": 25,
     "metadata": {},
     "output_type": "execute_result"
    }
   ],
   "source": [
    "id_counts = wp.groupby('PROSODY_ID').size()\n",
    "filtered_ids = id_counts[id_counts >= 100]\n",
    "result = wp[wp['PROSODY_ID'].isin(filtered_ids.index)]\n",
    "\n",
    "def select_random_rows(group):\n",
    "    n = min(500, len(group))\n",
    "    return group.sample(n=n)\n",
    "bsmp = result.groupby('PROSODY_ID').apply(select_random_rows).reset_index(drop=True)\n",
    "numberclass = len(set(bsmp[\"PROSODY_ID\"]))\n",
    "numberclass"
   ]
  },
  {
   "cell_type": "markdown",
   "metadata": {
    "id": "DTswDk2quZqk"
   },
   "source": [
    "shuffling"
   ]
  },
  {
   "cell_type": "code",
   "execution_count": 26,
   "metadata": {
    "colab": {
     "base_uri": "https://localhost:8080/",
     "height": 424
    },
    "executionInfo": {
     "elapsed": 313,
     "status": "ok",
     "timestamp": 1710337041953,
     "user": {
      "displayName": "Mohammad Reza Shahrestani",
      "userId": "10693113313433738905"
     },
     "user_tz": -210
    },
    "id": "aJ89ZHLGDQPg",
    "outputId": "ba2ad1c6-8200-449f-ca6e-11a3dc8461f5"
   },
   "outputs": [
    {
     "data": {
      "text/html": [
       "<div>\n",
       "<style scoped>\n",
       "    .dataframe tbody tr th:only-of-type {\n",
       "        vertical-align: middle;\n",
       "    }\n",
       "\n",
       "    .dataframe tbody tr th {\n",
       "        vertical-align: top;\n",
       "    }\n",
       "\n",
       "    .dataframe thead th {\n",
       "        text-align: right;\n",
       "    }\n",
       "</style>\n",
       "<table border=\"1\" class=\"dataframe\">\n",
       "  <thead>\n",
       "    <tr style=\"text-align: right;\">\n",
       "      <th></th>\n",
       "      <th>VERSE1</th>\n",
       "      <th>VERSE2</th>\n",
       "      <th>PROSODY</th>\n",
       "      <th>PROSODY_ID</th>\n",
       "    </tr>\n",
       "  </thead>\n",
       "  <tbody>\n",
       "    <tr>\n",
       "      <th>0</th>\n",
       "      <td>که به خسرو آورد این خبر که به یاد یار تو کوهکن</td>\n",
       "      <td>لب بیستون مکد از هوس دم تیشه بوسد و جان دهد</td>\n",
       "      <td>متفاعلن متفاعلن متفاعلن متفاعلن</td>\n",
       "      <td>68</td>\n",
       "    </tr>\n",
       "    <tr>\n",
       "      <th>1</th>\n",
       "      <td>کرد ز خانه مرا برون و به خانه</td>\n",
       "      <td>حضرتِ ذی قدرِ اوستادیم آمد</td>\n",
       "      <td>مفتعلن فاعلات مفتعلن فع</td>\n",
       "      <td>117</td>\n",
       "    </tr>\n",
       "    <tr>\n",
       "      <th>2</th>\n",
       "      <td>گوئی انر پی خوبان جهان چندروی</td>\n",
       "      <td>به خدا در شکن طره تو پا بستم</td>\n",
       "      <td>فعلاتن فعلاتن فعلاتن فعلن</td>\n",
       "      <td>45</td>\n",
       "    </tr>\n",
       "    <tr>\n",
       "      <th>3</th>\n",
       "      <td>روز قیامت ز خاک، سر به چه رو برکنم</td>\n",
       "      <td>گر نکنم این زمان، پیش تو جان را فدا</td>\n",
       "      <td>مفتعلن فاعلن مفتعلن فاعلن</td>\n",
       "      <td>118</td>\n",
       "    </tr>\n",
       "    <tr>\n",
       "      <th>4</th>\n",
       "      <td>عزمش آنگاه که بر خصم همی تازد</td>\n",
       "      <td>هست سیلی که روان از کهسار آید</td>\n",
       "      <td>فعلاتن فعلاتن فعلاتن فع</td>\n",
       "      <td>43</td>\n",
       "    </tr>\n",
       "    <tr>\n",
       "      <th>...</th>\n",
       "      <td>...</td>\n",
       "      <td>...</td>\n",
       "      <td>...</td>\n",
       "      <td>...</td>\n",
       "    </tr>\n",
       "    <tr>\n",
       "      <th>21467</th>\n",
       "      <td>لعل شکربار یار من نمکین است</td>\n",
       "      <td>من نستانم شکر اگر نمک این است</td>\n",
       "      <td>مفتعلن فاعلات مفتعلن فع</td>\n",
       "      <td>117</td>\n",
       "    </tr>\n",
       "    <tr>\n",
       "      <th>21468</th>\n",
       "      <td>مکن راز ما را کنون آشکار</td>\n",
       "      <td>که تا بینم آغاز و انجام کار</td>\n",
       "      <td>فعولن فعولن فعولن فعل</td>\n",
       "      <td>54</td>\n",
       "    </tr>\n",
       "    <tr>\n",
       "      <th>21469</th>\n",
       "      <td>گفتا که کیست محیی گفتم همان که دانی</td>\n",
       "      <td>گفتا نشان چه داری گفتم که صد علامت</td>\n",
       "      <td>مفعول فاعلاتن مفعول فاعلاتن</td>\n",
       "      <td>147</td>\n",
       "    </tr>\n",
       "    <tr>\n",
       "      <th>21470</th>\n",
       "      <td>گر درین ماتم نبارد بر به روی از مخزن دل</td>\n",
       "      <td>چیست اشک بسدین در خاک خواری گنج قارون</td>\n",
       "      <td>فاعلاتن فاعلاتن فاعلاتن فاعلاتن</td>\n",
       "      <td>11</td>\n",
       "    </tr>\n",
       "    <tr>\n",
       "      <th>21471</th>\n",
       "      <td>گردیده بمن ز عشق آن شوخ</td>\n",
       "      <td>کور است ز نام عاشقان ننگ</td>\n",
       "      <td>مفعول مفاعلن فعولن</td>\n",
       "      <td>154</td>\n",
       "    </tr>\n",
       "  </tbody>\n",
       "</table>\n",
       "<p>21472 rows × 4 columns</p>\n",
       "</div>"
      ],
      "text/plain": [
       "                                               VERSE1  \\\n",
       "0      که به خسرو آورد این خبر که به یاد یار تو کوهکن   \n",
       "1                       کرد ز خانه مرا برون و به خانه   \n",
       "2                       گوئی انر پی خوبان جهان چندروی   \n",
       "3                  روز قیامت ز خاک، سر به چه رو برکنم   \n",
       "4                       عزمش آنگاه که بر خصم همی تازد   \n",
       "...                                               ...   \n",
       "21467                     لعل شکربار یار من نمکین است   \n",
       "21468                        مکن راز ما را کنون آشکار   \n",
       "21469             گفتا که کیست محیی گفتم همان که دانی   \n",
       "21470         گر درین ماتم نبارد بر به روی از مخزن دل   \n",
       "21471                         گردیده بمن ز عشق آن شوخ   \n",
       "\n",
       "                                            VERSE2  \\\n",
       "0      لب بیستون مکد از هوس دم تیشه بوسد و جان دهد   \n",
       "1                       حضرتِ ذی قدرِ اوستادیم آمد   \n",
       "2                     به خدا در شکن طره تو پا بستم   \n",
       "3              گر نکنم این زمان، پیش تو جان را فدا   \n",
       "4                    هست سیلی که روان از کهسار آید   \n",
       "...                                            ...   \n",
       "21467                من نستانم شکر اگر نمک این است   \n",
       "21468                  که تا بینم آغاز و انجام کار   \n",
       "21469           گفتا نشان چه داری گفتم که صد علامت   \n",
       "21470        چیست اشک بسدین در خاک خواری گنج قارون   \n",
       "21471                     کور است ز نام عاشقان ننگ   \n",
       "\n",
       "                                PROSODY  PROSODY_ID  \n",
       "0       متفاعلن متفاعلن متفاعلن متفاعلن          68  \n",
       "1              مفتعلن فاعلات مفتعلن فع          117  \n",
       "2            فعلاتن فعلاتن فعلاتن فعلن           45  \n",
       "3            مفتعلن فاعلن مفتعلن فاعلن          118  \n",
       "4               فعلاتن فعلاتن فعلاتن فع          43  \n",
       "...                                 ...         ...  \n",
       "21467          مفتعلن فاعلات مفتعلن فع          117  \n",
       "21468            فعولن فعولن فعولن فعل           54  \n",
       "21469      مفعول فاعلاتن مفعول فاعلاتن          147  \n",
       "21470  فاعلاتن فاعلاتن فاعلاتن فاعلاتن           11  \n",
       "21471               مفعول مفاعلن فعولن          154  \n",
       "\n",
       "[21472 rows x 4 columns]"
      ]
     },
     "execution_count": 26,
     "metadata": {},
     "output_type": "execute_result"
    }
   ],
   "source": [
    "from random import shuffle\n",
    "\n",
    "row_indices = bsmp.index.tolist()\n",
    "shuffle(row_indices)\n",
    "bsmp = bsmp.iloc[row_indices]\n",
    "bsmp = bsmp.reset_index(drop=True)\n",
    "bsmp"
   ]
  },
  {
   "cell_type": "code",
   "execution_count": 27,
   "metadata": {
    "colab": {
     "base_uri": "https://localhost:8080/",
     "height": 447
    },
    "executionInfo": {
     "elapsed": 541,
     "status": "ok",
     "timestamp": 1710337045738,
     "user": {
      "displayName": "Mohammad Reza Shahrestani",
      "userId": "10693113313433738905"
     },
     "user_tz": -210
    },
    "id": "wiY8_YexL8yK",
    "outputId": "d29299d0-d770-47ba-d426-5fb090818a69"
   },
   "outputs": [
    {
     "data": {
      "image/png": "[encoded data removed]",
      "text/plain": [
       "<Figure size 640x480 with 1 Axes>"
      ]
     },
     "metadata": {},
     "output_type": "display_data"
    },
    {
     "data": {
      "text/plain": [
       "21472"
      ]
     },
     "execution_count": 27,
     "metadata": {},
     "output_type": "execute_result"
    }
   ],
   "source": [
    "import matplotlib.pyplot as plt\n",
    "\n",
    "id_counts = bsmp['PROSODY_ID'].value_counts()\n",
    "id_counts_sorted = id_counts.sort_index()\n",
    "\n",
    "plt.bar(id_counts_sorted.index, id_counts_sorted)\n",
    "plt.show()\n",
    "records = len(bsmp)\n",
    "records"
   ]
  },
  {
   "cell_type": "markdown",
   "metadata": {
    "id": "vTXKXcatbQTZ"
   },
   "source": [
    "#Model"
   ]
  },
  {
   "cell_type": "code",
   "execution_count": 28,
   "metadata": {
    "colab": {
     "base_uri": "https://localhost:8080/"
    },
    "executionInfo": {
     "elapsed": 5796,
     "status": "ok",
     "timestamp": 1710337054283,
     "user": {
      "displayName": "Mohammad Reza Shahrestani",
      "userId": "10693113313433738905"
     },
     "user_tz": -210
    },
    "id": "nCyukmNkbO8C",
    "outputId": "78779190-dc4c-4057-9fb3-536c61d53c5c"
   },
   "outputs": [
    {
     "name": "stdout",
     "output_type": "stream",
     "text": [
      "Requirement already satisfied: transformers in c:\\users\\turbo\\appdata\\local\\programs\\python\\python312\\lib\\site-packages (4.38.2)\n",
      "Requirement already satisfied: filelock in c:\\users\\turbo\\appdata\\local\\programs\\python\\python312\\lib\\site-packages (from transformers) (3.9.0)\n",
      "Requirement already satisfied: huggingface-hub<1.0,>=0.19.3 in c:\\users\\turbo\\appdata\\local\\programs\\python\\python312\\lib\\site-packages (from transformers) (0.21.4)\n",
      "Requirement already satisfied: numpy>=1.17 in c:\\users\\turbo\\appdata\\local\\programs\\python\\python312\\lib\\site-packages (from transformers) (1.26.3)\n",
      "Requirement already satisfied: packaging>=20.0 in c:\\users\\turbo\\appdata\\local\\programs\\python\\python312\\lib\\site-packages (from transformers) (24.0)\n",
      "Requirement already satisfied: pyyaml>=5.1 in c:\\users\\turbo\\appdata\\local\\programs\\python\\python312\\lib\\site-packages (from transformers) (6.0.1)\n",
      "Requirement already satisfied: regex!=2019.12.17 in c:\\users\\turbo\\appdata\\local\\programs\\python\\python312\\lib\\site-packages (from transformers) (2023.12.25)\n",
      "Requirement already satisfied: requests in c:\\users\\turbo\\appdata\\local\\programs\\python\\python312\\lib\\site-packages (from transformers) (2.31.0)\n",
      "Requirement already satisfied: tokenizers<0.19,>=0.14 in c:\\users\\turbo\\appdata\\local\\programs\\python\\python312\\lib\\site-packages (from transformers) (0.15.2)\n",
      "Requirement already satisfied: safetensors>=0.4.1 in c:\\users\\turbo\\appdata\\local\\programs\\python\\python312\\lib\\site-packages (from transformers) (0.4.2)\n",
      "Requirement already satisfied: tqdm>=4.27 in c:\\users\\turbo\\appdata\\local\\programs\\python\\python312\\lib\\site-packages (from transformers) (4.66.2)\n",
      "Requirement already satisfied: fsspec>=2023.5.0 in c:\\users\\turbo\\appdata\\local\\programs\\python\\python312\\lib\\site-packages (from huggingface-hub<1.0,>=0.19.3->transformers) (2024.2.0)\n",
      "Requirement already satisfied: typing-extensions>=3.7.4.3 in c:\\users\\turbo\\appdata\\local\\programs\\python\\python312\\lib\\site-packages (from huggingface-hub<1.0,>=0.19.3->transformers) (4.8.0)\n",
      "Requirement already satisfied: colorama in c:\\users\\turbo\\appdata\\local\\programs\\python\\python312\\lib\\site-packages (from tqdm>=4.27->transformers) (0.4.6)\n",
      "Requirement already satisfied: charset-normalizer<4,>=2 in c:\\users\\turbo\\appdata\\local\\programs\\python\\python312\\lib\\site-packages (from requests->transformers) (3.3.2)\n",
      "Requirement already satisfied: idna<4,>=2.5 in c:\\users\\turbo\\appdata\\local\\programs\\python\\python312\\lib\\site-packages (from requests->transformers) (3.6)\n",
      "Requirement already satisfied: urllib3<3,>=1.21.1 in c:\\users\\turbo\\appdata\\local\\programs\\python\\python312\\lib\\site-packages (from requests->transformers) (2.2.1)\n",
      "Requirement already satisfied: certifi>=2017.4.17 in c:\\users\\turbo\\appdata\\local\\programs\\python\\python312\\lib\\site-packages (from requests->transformers) (2024.2.2)\n",
      "Note: you may need to restart the kernel to use updated packages.\n"
     ]
    }
   ],
   "source": [
    "pip install transformers"
   ]
  },
  {
   "cell_type": "code",
   "execution_count": 29,
   "metadata": {
    "executionInfo": {
     "elapsed": 6380,
     "status": "ok",
     "timestamp": 1710337060648,
     "user": {
      "displayName": "Mohammad Reza Shahrestani",
      "userId": "10693113313433738905"
     },
     "user_tz": -210
    },
    "id": "Jc-ET4hFbO6D"
   },
   "outputs": [],
   "source": [
    "import torch\n",
    "from torch.utils.data import Dataset, DataLoader\n",
    "from torchtext import vocab as Vocab\n",
    "import collections\n",
    "from torch.nn.utils.rnn import pad_sequence\n",
    "from transformers import AutoTokenizer\n",
    "\n",
    "\n",
    "class processed_dataset(Dataset):\n",
    "    def __init__(self, data, vocab):\n",
    "        self.tokenized_data = [[vocab.stoi[word.lower()] for word in self.tokenize_sent(data_tuple[0])] for data_tuple in data]\n",
    "        self.labels = [data_tuple[1] for data_tuple in data]\n",
    "        assert len(self.labels) == len(self.tokenized_data)\n",
    "\n",
    "    def tokenize_sent(self, sent):\n",
    "        return [word for word in sent.split(' ')]\n",
    "\n",
    "\n",
    "\n",
    "    def __len__(self):\n",
    "        return len(self.labels)\n",
    "\n",
    "    def __getitem__(self, idx):\n",
    "        return self.tokenized_data[idx], self.labels[idx]\n",
    "\n",
    "\n",
    "class processed_dataset_bert(Dataset):\n",
    "    def __init__(self, data, bert_type):\n",
    "        tokenizer = AutoTokenizer.from_pretrained(bert_type)\n",
    "        self.texts = []\n",
    "        self.labels = []\n",
    "        for text, label in data:\n",
    "            self.texts.append(torch.tensor(tokenizer.encode(text, max_length=128, truncation=True)))\n",
    "            self.labels.append(label)\n",
    "        assert len(self.texts) == len(self.labels)\n",
    "\n",
    "    def __len__(self):\n",
    "        return len(self.texts)\n",
    "\n",
    "    def __getitem__(self, idx):\n",
    "        return self.texts[idx], self.labels[idx]\n",
    "\n",
    "\n",
    "class packDataset_util():\n",
    "    def __init__(self, vocab_target_set):\n",
    "        self.vocab = self.get_vocab(vocab_target_set)\n",
    "\n",
    "    def fn(self, data):\n",
    "        labels = torch.tensor([item[1] for item in data])\n",
    "        lengths = [len(item[0]) for item in data]\n",
    "        texts = [torch.tensor(item[0]) for item in data]\n",
    "        padded_texts = pad_sequence(texts, batch_first=True, padding_value=0)\n",
    "\n",
    "        return padded_texts, lengths, labels\n",
    "\n",
    "    def get_loader(self, data, shuffle=True, batch_size=32):\n",
    "        dataset = processed_dataset(data, self.vocab)\n",
    "        loader = DataLoader(dataset=dataset, shuffle=shuffle, batch_size=batch_size, collate_fn=self.fn)\n",
    "        return loader\n",
    "\n",
    "    def tokenize_sent(self, sent):\n",
    "        return [word for word in sent.split(' ')]\n",
    "\n",
    "\n",
    "    def get_vocab(self, target_set):\n",
    "        tokenized_data = [[word.lower() for word in self.tokenize_sent(data_tuple[0])] for data_tuple in target_set]\n",
    "        counter = collections.Counter([word for review in tokenized_data for word in review])\n",
    "        vocab = Vocab.Vocab(counter, min_freq=3)\n",
    "        return vocab\n",
    "\n",
    "\n",
    "class packDataset_util_bert():\n",
    "    def __init__(self, bert_type):\n",
    "        self.bert_type = bert_type\n",
    "\n",
    "    def fn(self, data):\n",
    "        texts = []\n",
    "        labels = []\n",
    "        for text, label in data:\n",
    "            texts.append(text)\n",
    "            labels.append(label)\n",
    "        labels = torch.tensor(labels)\n",
    "        padded_texts = pad_sequence(texts, batch_first=True, padding_value=0)\n",
    "        attention_masks = torch.zeros_like(padded_texts).masked_fill(padded_texts != 0, 1)\n",
    "        return padded_texts, attention_masks, labels\n",
    "\n",
    "\n",
    "    def get_loader(self, data, shuffle=True, batch_size=32):\n",
    "        dataset = processed_dataset_bert(data, self.bert_type)\n",
    "        loader = DataLoader(dataset=dataset, shuffle=shuffle, batch_size=batch_size, collate_fn=self.fn)\n",
    "        return loader"
   ]
  },
  {
   "cell_type": "code",
   "execution_count": 30,
   "metadata": {
    "executionInfo": {
     "elapsed": 0,
     "status": "ok",
     "timestamp": 1710337060648,
     "user": {
      "displayName": "Mohammad Reza Shahrestani",
      "userId": "10693113313433738905"
     },
     "user_tz": -210
    },
    "id": "GO8pWQJ3bO4N"
   },
   "outputs": [],
   "source": [
    "packDataset_util = packDataset_util_bert(\"HooshvareLab/bert-base-parsbert-uncased\")"
   ]
  },
  {
   "cell_type": "code",
   "execution_count": 31,
   "metadata": {
    "colab": {
     "base_uri": "https://localhost:8080/"
    },
    "executionInfo": {
     "elapsed": 505,
     "status": "ok",
     "timestamp": 1710337061153,
     "user": {
      "displayName": "Mohammad Reza Shahrestani",
      "userId": "10693113313433738905"
     },
     "user_tz": -210
    },
    "id": "cFNC-cQWMOKz",
    "outputId": "31bae5d3-5e27-40f7-f5e3-9fc184bab4d5"
   },
   "outputs": [
    {
     "data": {
      "text/plain": [
       "34354"
      ]
     },
     "execution_count": 31,
     "metadata": {},
     "output_type": "execute_result"
    }
   ],
   "source": [
    "import math\n",
    "train=[]\n",
    "for i in range(0, math.floor(records * 0.8)):\n",
    "  train.append((bsmp[\"VERSE1\"][i], bsmp[\"PROSODY_ID\"][i]))\n",
    "  train.append((bsmp[\"VERSE2\"][i], bsmp[\"PROSODY_ID\"][i]))\n",
    "len(train)\n"
   ]
  },
  {
   "cell_type": "code",
   "execution_count": 32,
   "metadata": {
    "colab": {
     "base_uri": "https://localhost:8080/"
    },
    "executionInfo": {
     "elapsed": 18,
     "status": "ok",
     "timestamp": 1710337065099,
     "user": {
      "displayName": "Mohammad Reza Shahrestani",
      "userId": "10693113313433738905"
     },
     "user_tz": -210
    },
    "id": "4c79306b",
    "outputId": "ff5b65bd-5a50-4cd2-dbdb-451850f56ef0"
   },
   "outputs": [
    {
     "data": {
      "text/plain": [
       "8590"
      ]
     },
     "execution_count": 32,
     "metadata": {},
     "output_type": "execute_result"
    }
   ],
   "source": [
    "test=[]\n",
    "for i in range(math.floor(records * 0.8), records):\n",
    "  test.append((bsmp[\"VERSE1\"][i],bsmp[\"PROSODY_ID\"][i]))\n",
    "  test.append((bsmp[\"VERSE2\"][i],bsmp[\"PROSODY_ID\"][i]))\n",
    "len(test)"
   ]
  },
  {
   "cell_type": "code",
   "execution_count": 33,
   "metadata": {
    "colab": {
     "base_uri": "https://localhost:8080/",
     "height": 205,
     "referenced_widgets": [
      "36c80aad74bc40e6b5e3ef886d80ff38",
      "e546fecd1054485bbc47565e106d1990",
      "47798170744342059afbde8f9488b902",
      "793e4347ec82448286579ed2909d8445",
      "08991f4d4363484caf72ff7f1ece2443",
      "c0eeccfe303a4b61a12c673e65ed37b8",
      "be72e46ed9ba4a9cadf2145088f61508",
      "2570452e8a1747b7b878f90af15280e0",
      "6a8c2fc4b94a4c6fabe24c22810eded3",
      "1d4b8b7dfa4c426b8c33050868818d2a",
      "fe0831ce83f644cc8eab12636ccceb75",
      "bcece751a260465db3ded1e3cde64209",
      "24fbfbdea95e4eabbc1a718ef78660a3",
      "3e9053eddad04eaa9dd31a5c01cf614b",
      "0f747f295f9d422e83877aacb41d1ce5",
      "fc0bfe08a1c4436b91afd09e8b85f71a",
      "dcec1abf12834813ad9184c912f05dde",
      "411031e8a7a6402684cb58267c6834cf",
      "045b99555bd24126900d6d413caced2b",
      "97eda28c423b4a67a648fd3b1ac3abc9",
      "4aff13497b2949aa80bc91afa35f804b",
      "076dcb9d9216483daa5055e75910ff5f"
     ]
    },
    "executionInfo": {
     "elapsed": 5762,
     "status": "ok",
     "timestamp": 1710337071428,
     "user": {
      "displayName": "Mohammad Reza Shahrestani",
      "userId": "10693113313433738905"
     },
     "user_tz": -210
    },
    "id": "jxqQYt9NbO2N",
    "outputId": "c93e8dd5-f01f-4ba7-fe6b-1b45efdded84"
   },
   "outputs": [],
   "source": [
    "train_loader = packDataset_util.get_loader(train, shuffle=False, batch_size=128)\n",
    "test_loader = packDataset_util.get_loader(test, shuffle=False, batch_size=128)"
   ]
  },
  {
   "cell_type": "code",
   "execution_count": 34,
   "metadata": {
    "executionInfo": {
     "elapsed": 16,
     "status": "ok",
     "timestamp": 1710337071428,
     "user": {
      "displayName": "Mohammad Reza Shahrestani",
      "userId": "10693113313433738905"
     },
     "user_tz": -210
    },
    "id": "VpVtOoe2bOyb"
   },
   "outputs": [],
   "source": [
    "import torch\n",
    "import torch.nn as nn\n",
    "import transformers\n",
    "import os\n",
    "from torch.nn.utils import clip_grad_norm_"
   ]
  },
  {
   "cell_type": "code",
   "execution_count": 35,
   "metadata": {
    "colab": {
     "base_uri": "https://localhost:8080/"
    },
    "executionInfo": {
     "elapsed": 0,
     "status": "ok",
     "timestamp": 1710337071428,
     "user": {
      "displayName": "Mohammad Reza Shahrestani",
      "userId": "10693113313433738905"
     },
     "user_tz": -210
    },
    "id": "2mx6e4FnbqZD",
    "outputId": "f806c829-effa-4dba-fe3d-6c36815b7e44"
   },
   "outputs": [
    {
     "data": {
      "text/plain": [
       "device(type='cuda')"
      ]
     },
     "execution_count": 35,
     "metadata": {},
     "output_type": "execute_result"
    }
   ],
   "source": [
    "device = torch.device('cuda' if torch.cuda.is_available() else 'cpu')\n",
    "device"
   ]
  },
  {
   "cell_type": "code",
   "execution_count": 36,
   "metadata": {
    "colab": {
     "base_uri": "https://localhost:8080/",
     "height": 138,
     "referenced_widgets": [
      "30d042b9aaf84b369622930ab08ec5c3",
      "da366be39efa47738ae04574e434e186",
      "ac53c3878108433da5ec7ccde24fdb3b",
      "a6ac3009bbcf4e6db44147652c86be2e",
      "1c5c6336f80d485084fec302186df6aa",
      "ca0c0248fc5d41e68fa4bbf378462e30",
      "cff33e9fe8d24e94ac7b033fdbe31d51",
      "0522385c12df4f8aa6f91310e4e66e29",
      "43b371d4a32045d19cd03f8db2fc2357",
      "a720c615d6d44e3fbc62b8bbcf9f6dfd",
      "9f1c68417a844d93820add7d297c4d15"
     ]
    },
    "executionInfo": {
     "elapsed": 9988,
     "status": "ok",
     "timestamp": 1710337086459,
     "user": {
      "displayName": "Mohammad Reza Shahrestani",
      "userId": "10693113313433738905"
     },
     "user_tz": -210
    },
    "id": "hCLqfcpZbqWv",
    "outputId": "3793f1ca-bf48-48a1-ebf4-c4c4d4d07f96"
   },
   "outputs": [
    {
     "name": "stderr",
     "output_type": "stream",
     "text": [
      "Some weights of BertForSequenceClassification were not initialized from the model checkpoint at HooshvareLab/bert-base-parsbert-uncased and are newly initialized: ['classifier.bias', 'classifier.weight']\n",
      "You should probably TRAIN this model on a down-stream task to be able to use it for predictions and inference.\n"
     ]
    }
   ],
   "source": [
    "from transformers import AutoModelForSequenceClassification\n",
    "model = AutoModelForSequenceClassification.from_pretrained(\"HooshvareLab/bert-base-parsbert-uncased\"\n",
    "                                                     , num_labels=176).to(device) # because we have 11 classes"
   ]
  },
  {
   "cell_type": "markdown",
   "metadata": {
    "id": "IwRs7yKjEp55"
   },
   "source": [
    "#Optional\n",
    "if you load a trained model"
   ]
  },
  {
   "cell_type": "code",
   "execution_count": 37,
   "metadata": {
    "id": "JRJzdKp9EuL_"
   },
   "outputs": [],
   "source": [
    "# Only if you want to resume your previous epochs\n",
    "# model.load_state_dict(torch.load(\"your_checkpoint.pth\"))"
   ]
  },
  {
   "cell_type": "code",
   "execution_count": 38,
   "metadata": {
    "executionInfo": {
     "elapsed": 16,
     "status": "ok",
     "timestamp": 1710337086459,
     "user": {
      "displayName": "Mohammad Reza Shahrestani",
      "userId": "10693113313433738905"
     },
     "user_tz": -210
    },
    "id": "Nkz9lkk9bqUk"
   },
   "outputs": [],
   "source": [
    "criterion = nn.CrossEntropyLoss()"
   ]
  },
  {
   "cell_type": "code",
   "execution_count": 39,
   "metadata": {
    "executionInfo": {
     "elapsed": 16,
     "status": "ok",
     "timestamp": 1710337086459,
     "user": {
      "displayName": "Mohammad Reza Shahrestani",
      "userId": "10693113313433738905"
     },
     "user_tz": -210
    },
    "id": "SYonxMkMbqSr"
   },
   "outputs": [],
   "source": [
    "BATCH_SIZE = 128\n",
    "weight_decay = float(0)\n",
    "lr = 1e-5\n",
    "EPOCHS = 10\n",
    "warm_up_epochs = 3"
   ]
  },
  {
   "cell_type": "code",
   "execution_count": 40,
   "metadata": {
    "executionInfo": {
     "elapsed": 1102,
     "status": "ok",
     "timestamp": 1710337088975,
     "user": {
      "displayName": "Mohammad Reza Shahrestani",
      "userId": "10693113313433738905"
     },
     "user_tz": -210
    },
    "id": "2vc7FVmCbqQv"
   },
   "outputs": [],
   "source": [
    "optimizer = torch.optim.AdamW(model.parameters(), lr=lr, weight_decay=weight_decay)"
   ]
  },
  {
   "cell_type": "code",
   "execution_count": 41,
   "metadata": {
    "executionInfo": {
     "elapsed": 16,
     "status": "ok",
     "timestamp": 1710337089341,
     "user": {
      "displayName": "Mohammad Reza Shahrestani",
      "userId": "10693113313433738905"
     },
     "user_tz": -210
    },
    "id": "yG10vNiMbqOs"
   },
   "outputs": [],
   "source": [
    "scheduler = transformers.get_linear_schedule_with_warmup(optimizer,\n",
    "                                        num_warmup_steps=warm_up_epochs * len(train_loader),\n",
    "                                        num_training_steps=(warm_up_epochs + EPOCHS) * len(train_loader))\n"
   ]
  },
  {
   "cell_type": "code",
   "execution_count": 42,
   "metadata": {
    "executionInfo": {
     "elapsed": 534,
     "status": "ok",
     "timestamp": 1710337137909,
     "user": {
      "displayName": "Mohammad Reza Shahrestani",
      "userId": "10693113313433738905"
     },
     "user_tz": -210
    },
    "id": "aip_VRXJbqMi"
   },
   "outputs": [],
   "source": [
    "from sklearn.metrics import accuracy_score, f1_score, precision_score, recall_score, confusion_matrix\n",
    "import warnings\n",
    "def evaluaion(loader):\n",
    "    warnings.filterwarnings('ignore')\n",
    "    model.eval()\n",
    "    y_true = []\n",
    "    y_pred = []\n",
    "    with torch.no_grad():\n",
    "        for padded_text, attention_masks, labels in loader:\n",
    "            padded_text = padded_text.to(device)\n",
    "            attention_masks = attention_masks.to(device)\n",
    "            labels = labels.to(device)\n",
    "            output = model(padded_text, attention_masks)[0]  # batch_size, 2\n",
    "            _, flag = torch.max(output, dim=1)\n",
    "\n",
    "            # add true and predicted labels for calculating F1 score\n",
    "            y_true += labels.cpu().numpy().tolist()\n",
    "            y_pred += flag.cpu().numpy().tolist()\n",
    "\n",
    "        acc = accuracy_score(y_true, y_pred)\n",
    "        f1 = f1_score(y_true, y_pred, average='weighted')\n",
    "        precision = precision_score(y_true, y_pred, average='weighted')\n",
    "        recall = recall_score(y_true, y_pred, average='weighted')\n",
    "        cm = confusion_matrix(y_true, y_pred)\n",
    "        return acc, f1, precision, recall, cm"
   ]
  },
  {
   "cell_type": "code",
   "execution_count": 43,
   "metadata": {
    "colab": {
     "base_uri": "https://localhost:8080/"
    },
    "executionInfo": {
     "elapsed": 319,
     "status": "ok",
     "timestamp": 1710337147941,
     "user": {
      "displayName": "Mohammad Reza Shahrestani",
      "userId": "10693113313433738905"
     },
     "user_tz": -210
    },
    "id": "GHhPPgiQgo_z",
    "outputId": "90fccc9b-ba3e-4698-9a68-dfc766b8e117"
   },
   "outputs": [
    {
     "name": "stdout",
     "output_type": "stream",
     "text": [
      " Volume in drive C has no label.\n",
      " Volume Serial Number is 3A20-2AB6\n",
      "\n",
      " Directory of C:\\Users\\Turbo\\Desktop\\persian_poem_prosody_research\\RES\\parsbert\n",
      "\n",
      "03/19/2024  03:34 AM    <DIR>          .\n",
      "03/19/2024  03:34 AM    <DIR>          ..\n",
      "03/15/2024  06:46 PM    <DIR>          .ipynb_checkpoints\n",
      "03/17/2024  01:30 AM           364,412 parsbert-1336930.html\n",
      "03/17/2024  01:15 AM       651,990,229 parsbert-1336930.pth\n",
      "03/19/2024  02:58 AM           360,791 parsbert-138520.html\n",
      "03/19/2024  02:56 AM       651,990,024 parsbert-138520.pth\n",
      "03/19/2024  02:18 AM           360,888 parsbert-243686.html\n",
      "03/19/2024  02:14 AM       651,990,024 parsbert-243686.pth\n",
      "03/19/2024  03:33 AM           359,601 parsbert-38293.html\n",
      "03/19/2024  03:33 AM       651,989,819 parsbert-38293.pth\n",
      "03/15/2024  07:54 PM           356,703 parsbert-5500.html\n",
      "03/15/2024  07:39 PM       651,989,614 parsbert-5500.pth\n",
      "03/19/2024  01:09 AM           361,692 parsbert-726511.html\n",
      "03/19/2024  12:59 AM       651,990,024 parsbert-726511.pth\n",
      "03/19/2024  03:33 AM            62,236 parsbertmodel.ipynb\n",
      "              13 File(s)  3,914,166,057 bytes\n",
      "               3 Dir(s)  334,627,127,296 bytes free\n"
     ]
    }
   ],
   "source": [
    "ls"
   ]
  },
  {
   "cell_type": "code",
   "execution_count": 44,
   "metadata": {
    "colab": {
     "base_uri": "https://localhost:8080/"
    },
    "executionInfo": {
     "elapsed": 360093,
     "status": "ok",
     "timestamp": 1710338332426,
     "user": {
      "displayName": "Mohammad Reza Shahrestani",
      "userId": "10693113313433738905"
     },
     "user_tz": -210
    },
    "id": "jo1hoFwueRmC",
    "outputId": "75b5796d-ee1d-4c35-fb52-ea5902821bf9",
    "scrolled": true
   },
   "outputs": [
    {
     "name": "stdout",
     "output_type": "stream",
     "text": [
      "finish training, avg loss: 4.9457078440925/100000, begin to evaluate:\n",
      "test accuracy: 0.03841676367869616, Epoch time = 24.06912719999673\n",
      "*****************************************************************************************\n",
      "finish training, avg loss: 4.2531723984998395/4.9457078440925, begin to evaluate:\n",
      "test accuracy: 0.06239813736903376, Epoch time = 24.483532199985348\n",
      "*****************************************************************************************\n",
      "finish training, avg loss: 3.7270074909947617/4.2531723984998395, begin to evaluate:\n",
      "test accuracy: 0.08928987194412107, Epoch time = 24.601136300014332\n",
      "*****************************************************************************************\n",
      "finish training, avg loss: 3.3863340735878644/3.7270074909947617, begin to evaluate:\n",
      "test accuracy: 0.11804423748544819, Epoch time = 24.966600899992045\n",
      "*****************************************************************************************\n",
      "finish training, avg loss: 3.186899279129993/3.3863340735878644, begin to evaluate:\n",
      "test accuracy: 0.15331781140861467, Epoch time = 24.715765699977055\n",
      "*****************************************************************************************\n",
      "finish training, avg loss: 3.0419518663980702/3.186899279129993, begin to evaluate:\n",
      "test accuracy: 0.16682188591385333, Epoch time = 25.260447999986354\n",
      "*****************************************************************************************\n",
      "finish training, avg loss: 2.929799011648809/3.0419518663980702, begin to evaluate:\n",
      "test accuracy: 0.18742724097788127, Epoch time = 25.190640999993775\n",
      "*****************************************************************************************\n",
      "finish training, avg loss: 2.8325935003925875/2.929799011648809, begin to evaluate:\n",
      "test accuracy: 0.18381839348079163, Epoch time = 24.84815009997692\n",
      "*****************************************************************************************\n",
      "finish training, avg loss: 2.7529596227695508/2.8325935003925875, begin to evaluate:\n",
      "test accuracy: 0.20069848661233994, Epoch time = 24.91195899999002\n",
      "*****************************************************************************************\n",
      "finish training, avg loss: 2.6806385295541757/2.7529596227695508, begin to evaluate:\n",
      "test accuracy: 0.21129220023282888, Epoch time = 24.890623799990863\n",
      "*****************************************************************************************\n",
      "finish training, avg loss: 2.6214875244296616/2.6806385295541757, begin to evaluate:\n",
      "test accuracy: 0.21420256111757857, Epoch time = 24.84237139998004\n",
      "*****************************************************************************************\n",
      "finish training, avg loss: 2.579680919647217/2.6214875244296616, begin to evaluate:\n",
      "test accuracy: 0.22246798603026777, Epoch time = 24.811235999979544\n",
      "*****************************************************************************************\n",
      "finish training, avg loss: 2.550204583703364/2.579680919647217, begin to evaluate:\n",
      "test accuracy: 0.22561117578579745, Epoch time = 24.843485199962743\n",
      "*****************************************************************************************\n",
      "*****************************************************************************************\n",
      "train time = 322.43507679982577\n",
      "finish all, final test accuracy: 0.22561117578579745, F1 score: 0.2001102740584934, Precision: 0.20197264619187377, Recall: 0.22561117578579745, Confusion Matrix: [[ 0  0  0 ...  0  0  0]\n",
      " [ 0  7  0 ... 11  0  0]\n",
      " [ 0  0 55 ...  0  1  6]\n",
      " ...\n",
      " [ 0  5  0 ... 78  4  1]\n",
      " [ 0  3  0 ... 26 20 23]\n",
      " [ 0  1  0 ...  6 10 71]]\n",
      "finish all, final train accuracy: 0.3292193048844385, F1 score: 0.29067529543583037, Precision: 0.31125103347756045, Recall: 0.3292193048844385, Confusion Matrix: [[  0   0   0 ...   0   0   0]\n",
      " [  0 126   0 ...  87   1   0]\n",
      " [  0   0 320 ...   0   1   2]\n",
      " ...\n",
      " [  0  14   0 ... 438   3   0]\n",
      " [  0   1   0 ...  65 122  36]\n",
      " [  0   0   0 ...   1  30 361]]\n"
     ]
    }
   ],
   "source": [
    "from timeit import default_timer as timer\n",
    "\n",
    "last_train_avg_loss = 100000\n",
    "epoch_times = []\n",
    "for epoch in range(warm_up_epochs + EPOCHS): # you can change number of epochs\n",
    "    start_time = timer()\n",
    "    model.train()\n",
    "    total_loss = 0\n",
    "    for padded_text, attention_masks, labels in train_loader:\n",
    "        padded_text = padded_text.to(device)\n",
    "        attention_masks = attention_masks.to(device)\n",
    "        labels = labels.to(device)\n",
    "        output = model(padded_text, attention_masks)[0]\n",
    "        loss = criterion(output, labels)\n",
    "        optimizer.zero_grad()\n",
    "        loss.backward()\n",
    "        clip_grad_norm_(model.parameters(), max_norm=1)\n",
    "        optimizer.step()\n",
    "        scheduler.step()\n",
    "        total_loss += loss.item()\n",
    "    end_time = timer()\n",
    "\n",
    "    avg_loss = total_loss / len(train_loader)\n",
    "    print(f'finish training, avg loss: {avg_loss}/{last_train_avg_loss}, begin to evaluate:')\n",
    "    test_acc, _, _, _, _ = evaluaion(test_loader)\n",
    "    et = end_time - start_time\n",
    "    epoch_times.append(et)\n",
    "    print(f'test accuracy: {test_acc}, Epoch time = {et}')\n",
    "    last_train_avg_loss = avg_loss\n",
    "    print('*' * 89)\n",
    "\n",
    "torch.save(model.state_dict(), f\"parsbert-{records}.pth\")\n",
    "acc, f1, precision, recall, cm = evaluaion(test_loader)\n",
    "train_acc, train_f1, train_precision, train_recall, train_cm = evaluaion(train_loader)\n",
    "print('*' * 89)\n",
    "print(f'train time = {sum(epoch_times)}')\n",
    "print(f'finish all, final test accuracy: {acc}, F1 score: {f1}, Precision: {precision}, Recall: {recall}, Confusion Matrix: {cm}')\n",
    "print(f'finish all, final train accuracy: {train_acc}, F1 score: {train_f1}, Precision: {train_precision}, Recall: {train_recall}, Confusion Matrix: {train_cm}')"
   ]
  }
 ],
 "metadata": {
  "accelerator": "GPU",
  "colab": {
   "authorship_tag": "ABX9TyP9sB/GgmPkoSc3DE4YBRTt",
   "provenance": []
  },
  "gpuClass": "standard",
  "kernelspec": {
   "display_name": "Python 3 (ipykernel)",
   "language": "python",
   "name": "python3"
  },
  "language_info": {
   "codemirror_mode": {
    "name": "ipython",
    "version": 3
   },
   "file_extension": ".py",
   "mimetype": "text/x-python",
   "name": "python",
   "nbconvert_exporter": "python",
   "pygments_lexer": "ipython3",
   "version": "3.12.2"
  }
 },
 "nbformat": 4,
 "nbformat_minor": 4
}
