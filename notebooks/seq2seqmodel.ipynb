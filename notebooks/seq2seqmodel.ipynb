{
 "cells": [
  {
   "cell_type": "markdown",
   "metadata": {
    "id": "n2UC5X0evaSC"
   },
   "source": [
    "# Loading data"
   ]
  },
  {
   "cell_type": "code",
   "execution_count": 1,
   "metadata": {
    "colab": {
     "base_uri": "https://localhost:8080/"
    },
    "executionInfo": {
     "elapsed": 34004,
     "status": "ok",
     "timestamp": 1710341258577,
     "user": {
      "displayName": "Mohammad Reza Shahrestani",
      "userId": "10693113313433738905"
     },
     "user_tz": -210
    },
    "id": "4Ql5c0Cgu3qQ",
    "outputId": "dea3f540-8848-4028-d4ea-3a42ee9efed4"
   },
   "outputs": [],
   "source": [
    "# from google.colab import drive\n",
    "# drive.mount(\"/content/drive/\")"
   ]
  },
  {
   "cell_type": "code",
   "execution_count": 2,
   "metadata": {
    "colab": {
     "base_uri": "https://localhost:8080/",
     "height": 424
    },
    "executionInfo": {
     "elapsed": 11366,
     "status": "ok",
     "timestamp": 1710341269943,
     "user": {
      "displayName": "Mohammad Reza Shahrestani",
      "userId": "10693113313433738905"
     },
     "user_tz": -210
    },
    "id": "yj6NUTpKv-Qe",
    "outputId": "d3f078fb-457d-4bc4-ee56-8f702727c4f6"
   },
   "outputs": [
    {
     "data": {
      "text/html": [
       "<div>\n",
       "<style scoped>\n",
       "    .dataframe tbody tr th:only-of-type {\n",
       "        vertical-align: middle;\n",
       "    }\n",
       "\n",
       "    .dataframe tbody tr th {\n",
       "        vertical-align: top;\n",
       "    }\n",
       "\n",
       "    .dataframe thead th {\n",
       "        text-align: right;\n",
       "    }\n",
       "</style>\n",
       "<table border=\"1\" class=\"dataframe\">\n",
       "  <thead>\n",
       "    <tr style=\"text-align: right;\">\n",
       "      <th></th>\n",
       "      <th>VERSE1</th>\n",
       "      <th>VERSE2</th>\n",
       "      <th>PROSODY</th>\n",
       "      <th>PROSODY_ID</th>\n",
       "    </tr>\n",
       "  </thead>\n",
       "  <tbody>\n",
       "    <tr>\n",
       "      <th>0</th>\n",
       "      <td>‏ آتش آهم ز بس گلزار بی نم می شود</td>\n",
       "      <td>برگ گل سنگ ته دندان شبنم می شود</td>\n",
       "      <td>فاعلاتن فاعلاتن فاعلاتن فاعلن</td>\n",
       "      <td>12</td>\n",
       "    </tr>\n",
       "    <tr>\n",
       "      <th>1</th>\n",
       "      <td>‏ بهیچوجه نیارم برید ازو که مرا</td>\n",
       "      <td>به دل محبت او چون صفاست با گوهر</td>\n",
       "      <td>مفاعلن فعلاتن مفاعلن فعلن</td>\n",
       "      <td>92</td>\n",
       "    </tr>\n",
       "    <tr>\n",
       "      <th>2</th>\n",
       "      <td>‏ بی تکلف ز شکر ریزی صائب جویا</td>\n",
       "      <td>طوطی نطق تو طرز سخن آموخته است</td>\n",
       "      <td>فعلاتن فعلاتن فعلاتن فعلن</td>\n",
       "      <td>45</td>\n",
       "    </tr>\n",
       "    <tr>\n",
       "      <th>3</th>\n",
       "      <td>‏ چنان کز شهد و شکر نقل نوشین می‌شود پیدا</td>\n",
       "      <td>چو لب بر لب گذاری جان شیرین می‌شود پیدا</td>\n",
       "      <td>مفاعیلن مفاعیلن مفاعیلن مفاعیلن</td>\n",
       "      <td>114</td>\n",
       "    </tr>\n",
       "    <tr>\n",
       "      <th>4</th>\n",
       "      <td>‏ خواهم که خدا روی به دولت بگشاید</td>\n",
       "      <td>زین درگه امید عرب را و عجم را</td>\n",
       "      <td>مفعول مفاعیل مفاعیل فعولن</td>\n",
       "      <td>163</td>\n",
       "    </tr>\n",
       "    <tr>\n",
       "      <th>...</th>\n",
       "      <td>...</td>\n",
       "      <td>...</td>\n",
       "      <td>...</td>\n",
       "      <td>...</td>\n",
       "    </tr>\n",
       "    <tr>\n",
       "      <th>1339684</th>\n",
       "      <td>ییشش بخوانده ‌غاصب کالیسی‌‌</td>\n",
       "      <td>مستد برانه آیت ولّو را‌</td>\n",
       "      <td>مفعول فاعلات مفاعیلن</td>\n",
       "      <td>143</td>\n",
       "    </tr>\n",
       "    <tr>\n",
       "      <th>1339685</th>\n",
       "      <td>ییش‌هر تختی یکی خوان ظریف</td>\n",
       "      <td>وندر آن گسترده دیبایی لطیف</td>\n",
       "      <td>فاعلاتن فاعلاتن فاعلن</td>\n",
       "      <td>16</td>\n",
       "    </tr>\n",
       "    <tr>\n",
       "      <th>1339686</th>\n",
       "      <td>ییشوایان بهر فردا گرم شور</td>\n",
       "      <td>هریکی گوبا به دیگرگونه طور</td>\n",
       "      <td>فاعلاتن فاعلاتن فاعلن</td>\n",
       "      <td>16</td>\n",
       "    </tr>\n",
       "    <tr>\n",
       "      <th>1339687</th>\n",
       "      <td>ییک باره‌ای برنشسته سمند</td>\n",
       "      <td>بفتراک بربسته دارد کمند</td>\n",
       "      <td>فعولن فعولن فعولن فعل</td>\n",
       "      <td>54</td>\n",
       "    </tr>\n",
       "    <tr>\n",
       "      <th>1339688</th>\n",
       "      <td>یین حق بود کین گفت از نهانی</td>\n",
       "      <td>نشان خود ز عین بی نشانی</td>\n",
       "      <td>مفاعیلن مفاعیلن فعولن</td>\n",
       "      <td>109</td>\n",
       "    </tr>\n",
       "  </tbody>\n",
       "</table>\n",
       "<p>1339689 rows × 4 columns</p>\n",
       "</div>"
      ],
      "text/plain": [
       "                                            VERSE1  \\\n",
       "0                ‏ آتش آهم ز بس گلزار بی نم می شود   \n",
       "1                  ‏ بهیچوجه نیارم برید ازو که مرا   \n",
       "2                   ‏ بی تکلف ز شکر ریزی صائب جویا   \n",
       "3        ‏ چنان کز شهد و شکر نقل نوشین می‌شود پیدا   \n",
       "4                ‏ خواهم که خدا روی به دولت بگشاید   \n",
       "...                                            ...   \n",
       "1339684                ییشش بخوانده ‌غاصب کالیسی‌‌   \n",
       "1339685                  ییش‌هر تختی یکی خوان ظریف   \n",
       "1339686                  ییشوایان بهر فردا گرم شور   \n",
       "1339687                   ییک باره‌ای برنشسته سمند   \n",
       "1339688                یین حق بود کین گفت از نهانی   \n",
       "\n",
       "                                          VERSE2  \\\n",
       "0                برگ گل سنگ ته دندان شبنم می شود   \n",
       "1                به دل محبت او چون صفاست با گوهر   \n",
       "2                 طوطی نطق تو طرز سخن آموخته است   \n",
       "3        چو لب بر لب گذاری جان شیرین می‌شود پیدا   \n",
       "4                  زین درگه امید عرب را و عجم را   \n",
       "...                                          ...   \n",
       "1339684                  مستد برانه آیت ولّو را‌   \n",
       "1339685               وندر آن گسترده دیبایی لطیف   \n",
       "1339686               هریکی گوبا به دیگرگونه طور   \n",
       "1339687                  بفتراک بربسته دارد کمند   \n",
       "1339688                  نشان خود ز عین بی نشانی   \n",
       "\n",
       "                                  PROSODY  PROSODY_ID  \n",
       "0          فاعلاتن فاعلاتن فاعلاتن فاعلن           12  \n",
       "1              مفاعلن فعلاتن مفاعلن فعلن           92  \n",
       "2              فعلاتن فعلاتن فعلاتن فعلن           45  \n",
       "3        مفاعیلن مفاعیلن مفاعیلن مفاعیلن          114  \n",
       "4              مفعول مفاعیل مفاعیل فعولن          163  \n",
       "...                                   ...         ...  \n",
       "1339684             مفعول فاعلات مفاعیلن          143  \n",
       "1339685            فاعلاتن فاعلاتن فاعلن           16  \n",
       "1339686            فاعلاتن فاعلاتن فاعلن           16  \n",
       "1339687            فعولن فعولن فعولن فعل           54  \n",
       "1339688            مفاعیلن مفاعیلن فعولن          109  \n",
       "\n",
       "[1339689 rows x 4 columns]"
      ]
     },
     "execution_count": 2,
     "metadata": {},
     "output_type": "execute_result"
    }
   ],
   "source": [
    "import pandas as pd\n",
    "wp = pd.read_csv('../weighted.csv', encoding=\"utf-8\")\n",
    "wp.drop('Unnamed: 0', inplace=True, axis=1)\n",
    "wp"
   ]
  },
  {
   "cell_type": "markdown",
   "metadata": {
    "id": "r3x3Sxz8uHzW"
   },
   "source": [
    "# **Balance Sample**  \n",
    "2000 records  from each 55 popular prosodies."
   ]
  },
  {
   "cell_type": "code",
   "execution_count": 3,
   "metadata": {
    "colab": {
     "base_uri": "https://localhost:8080/"
    },
    "executionInfo": {
     "elapsed": 585,
     "status": "ok",
     "timestamp": 1710341270528,
     "user": {
      "displayName": "Mohammad Reza Shahrestani",
      "userId": "10693113313433738905"
     },
     "user_tz": -210
    },
    "id": "C1Uf06AC5tIs",
    "outputId": "a9e37972-ff27-4b45-a5ad-3680fea5ad62"
   },
   "outputs": [
    {
     "name": "stderr",
     "output_type": "stream",
     "text": [
      "C:\\Users\\Turbo\\AppData\\Local\\Temp\\ipykernel_10128\\3966078360.py:8: DeprecationWarning: DataFrameGroupBy.apply operated on the grouping columns. This behavior is deprecated, and in a future version of pandas the grouping columns will be excluded from the operation. Either pass `include_groups=False` to exclude the groupings or explicitly select the grouping columns after groupby to silence this warning.\n",
      "  bsmp = result.groupby('PROSODY_ID').apply(select_random_rows).reset_index(drop=True)\n"
     ]
    },
    {
     "data": {
      "text/plain": [
       "55"
      ]
     },
     "execution_count": 3,
     "metadata": {},
     "output_type": "execute_result"
    }
   ],
   "source": [
    "id_counts = wp.groupby('PROSODY_ID').size()\n",
    "filtered_ids = id_counts[id_counts >= 100]\n",
    "result = wp[wp['PROSODY_ID'].isin(filtered_ids.index)]\n",
    "\n",
    "def select_random_rows(group):\n",
    "    n = min(100, len(group))\n",
    "    return group.sample(n=n)\n",
    "bsmp = result.groupby('PROSODY_ID').apply(select_random_rows).reset_index(drop=True)\n",
    "numberclass = len(set(bsmp[\"PROSODY_ID\"]))\n",
    "numberclass"
   ]
  },
  {
   "cell_type": "markdown",
   "metadata": {
    "id": "DTswDk2quZqk"
   },
   "source": [
    "shuffling"
   ]
  },
  {
   "cell_type": "code",
   "execution_count": 4,
   "metadata": {
    "colab": {
     "base_uri": "https://localhost:8080/",
     "height": 424
    },
    "executionInfo": {
     "elapsed": 21,
     "status": "ok",
     "timestamp": 1710341270529,
     "user": {
      "displayName": "Mohammad Reza Shahrestani",
      "userId": "10693113313433738905"
     },
     "user_tz": -210
    },
    "id": "aJ89ZHLGDQPg",
    "outputId": "26ec0519-7af6-44fa-bcd1-69592eacbe2c"
   },
   "outputs": [
    {
     "data": {
      "text/html": [
       "<div>\n",
       "<style scoped>\n",
       "    .dataframe tbody tr th:only-of-type {\n",
       "        vertical-align: middle;\n",
       "    }\n",
       "\n",
       "    .dataframe tbody tr th {\n",
       "        vertical-align: top;\n",
       "    }\n",
       "\n",
       "    .dataframe thead th {\n",
       "        text-align: right;\n",
       "    }\n",
       "</style>\n",
       "<table border=\"1\" class=\"dataframe\">\n",
       "  <thead>\n",
       "    <tr style=\"text-align: right;\">\n",
       "      <th></th>\n",
       "      <th>VERSE1</th>\n",
       "      <th>VERSE2</th>\n",
       "      <th>PROSODY</th>\n",
       "      <th>PROSODY_ID</th>\n",
       "    </tr>\n",
       "  </thead>\n",
       "  <tbody>\n",
       "    <tr>\n",
       "      <th>0</th>\n",
       "      <td>رقیمۀ محامد ادب محاسن شیم</td>\n",
       "      <td>کتاب محکم حدیث حسن لیلی قِدم</td>\n",
       "      <td>مفاعلن مفاعلن مفاعلن مفاعلن</td>\n",
       "      <td>95</td>\n",
       "    </tr>\n",
       "    <tr>\n",
       "      <th>1</th>\n",
       "      <td>غنای اوست اشگ چشم رنجبر</td>\n",
       "      <td>مبین به چشم ساده در غنای او</td>\n",
       "      <td>مفاعلن مفاعلن مفاعلن</td>\n",
       "      <td>94</td>\n",
       "    </tr>\n",
       "    <tr>\n",
       "      <th>2</th>\n",
       "      <td>بیش از این در غم هجران تو خون خورد نشاید</td>\n",
       "      <td>ای سفر کرده سفر کرده چنین دیر نیاید</td>\n",
       "      <td>فعلاتن فعلاتن فعلاتن فعلاتن</td>\n",
       "      <td>44</td>\n",
       "    </tr>\n",
       "    <tr>\n",
       "      <th>3</th>\n",
       "      <td>با سینه ی پر آتش در کوره ی فراقت</td>\n",
       "      <td>تا کی شود سِرشکم افسرده هم‌چو ژاله</td>\n",
       "      <td>مفعول فاعلاتن مفعول فاعلاتن</td>\n",
       "      <td>147</td>\n",
       "    </tr>\n",
       "    <tr>\n",
       "      <th>4</th>\n",
       "      <td>زندگی یک دو نفس‌، این همه پرواز هوس</td>\n",
       "      <td>کاغذ آتش زده‌ای سر خوش مست شرری</td>\n",
       "      <td>مفتعلن مفتعلن مفتعلن مفتعلن</td>\n",
       "      <td>134</td>\n",
       "    </tr>\n",
       "    <tr>\n",
       "      <th>...</th>\n",
       "      <td>...</td>\n",
       "      <td>...</td>\n",
       "      <td>...</td>\n",
       "      <td>...</td>\n",
       "    </tr>\n",
       "    <tr>\n",
       "      <th>5495</th>\n",
       "      <td>پیراهنکی بی‌آستین، لیکن</td>\n",
       "      <td>شلوار چو آستین بوعمری</td>\n",
       "      <td>مفعول مفاعلن مفاعیلن</td>\n",
       "      <td>156</td>\n",
       "    </tr>\n",
       "    <tr>\n",
       "      <th>5496</th>\n",
       "      <td>بسا دون بخیلا، که می بخورد</td>\n",
       "      <td>کریمی به جهان در پراگنید</td>\n",
       "      <td>مفعول مفاعیل فاعلن</td>\n",
       "      <td>160</td>\n",
       "    </tr>\n",
       "    <tr>\n",
       "      <th>5497</th>\n",
       "      <td>چون شمع به خواهش دل جمعی</td>\n",
       "      <td>از شعله جان خود بسوزانم</td>\n",
       "      <td>مفعول مفاعلن مفاعیلن</td>\n",
       "      <td>156</td>\n",
       "    </tr>\n",
       "    <tr>\n",
       "      <th>5498</th>\n",
       "      <td>زین منزل اکنون شد روان تا آن بت محمل‌نشین</td>\n",
       "      <td>دیگر کجا آید فرود از محمل و منزل کند</td>\n",
       "      <td>مستفعلن مستفعلن مستفعلن مستفعلن</td>\n",
       "      <td>83</td>\n",
       "    </tr>\n",
       "    <tr>\n",
       "      <th>5499</th>\n",
       "      <td>تو که لطیفی به جسم دون چه شوی</td>\n",
       "      <td>همت گردون دون اگر دون شد؟</td>\n",
       "      <td>مفتعلن فاعلات مفتعلن</td>\n",
       "      <td>116</td>\n",
       "    </tr>\n",
       "  </tbody>\n",
       "</table>\n",
       "<p>5500 rows × 4 columns</p>\n",
       "</div>"
      ],
      "text/plain": [
       "                                         VERSE1  \\\n",
       "0                     رقیمۀ محامد ادب محاسن شیم   \n",
       "1                       غنای اوست اشگ چشم رنجبر   \n",
       "2      بیش از این در غم هجران تو خون خورد نشاید   \n",
       "3              با سینه ی پر آتش در کوره ی فراقت   \n",
       "4           زندگی یک دو نفس‌، این همه پرواز هوس   \n",
       "...                                         ...   \n",
       "5495                    پیراهنکی بی‌آستین، لیکن   \n",
       "5496                 بسا دون بخیلا، که می بخورد   \n",
       "5497                   چون شمع به خواهش دل جمعی   \n",
       "5498  زین منزل اکنون شد روان تا آن بت محمل‌نشین   \n",
       "5499              تو که لطیفی به جسم دون چه شوی   \n",
       "\n",
       "                                    VERSE2                           PROSODY  \\\n",
       "0             کتاب محکم حدیث حسن لیلی قِدم       مفاعلن مفاعلن مفاعلن مفاعلن   \n",
       "1              مبین به چشم ساده در غنای او              مفاعلن مفاعلن مفاعلن   \n",
       "2      ای سفر کرده سفر کرده چنین دیر نیاید      فعلاتن فعلاتن فعلاتن فعلاتن    \n",
       "3       تا کی شود سِرشکم افسرده هم‌چو ژاله      مفعول فاعلاتن مفعول فاعلاتن    \n",
       "4          کاغذ آتش زده‌ای سر خوش مست شرری      مفتعلن مفتعلن مفتعلن مفتعلن    \n",
       "...                                    ...                               ...   \n",
       "5495                 شلوار چو آستین بوعمری             مفعول مفاعلن مفاعیلن    \n",
       "5496              کریمی به جهان در پراگنید                مفعول مفاعیل فاعلن   \n",
       "5497               از شعله جان خود بسوزانم             مفعول مفاعلن مفاعیلن    \n",
       "5498  دیگر کجا آید فرود از محمل و منزل کند  مستفعلن مستفعلن مستفعلن مستفعلن    \n",
       "5499             همت گردون دون اگر دون شد؟              مفتعلن فاعلات مفتعلن   \n",
       "\n",
       "      PROSODY_ID  \n",
       "0             95  \n",
       "1             94  \n",
       "2             44  \n",
       "3            147  \n",
       "4            134  \n",
       "...          ...  \n",
       "5495         156  \n",
       "5496         160  \n",
       "5497         156  \n",
       "5498          83  \n",
       "5499         116  \n",
       "\n",
       "[5500 rows x 4 columns]"
      ]
     },
     "execution_count": 4,
     "metadata": {},
     "output_type": "execute_result"
    }
   ],
   "source": [
    "from random import shuffle\n",
    "\n",
    "row_indices = bsmp.index.tolist()\n",
    "shuffle(row_indices)\n",
    "bsmp = bsmp.iloc[row_indices]\n",
    "bsmp = bsmp.reset_index(drop=True)\n",
    "bsmp"
   ]
  },
  {
   "cell_type": "code",
   "execution_count": 5,
   "metadata": {
    "colab": {
     "base_uri": "https://localhost:8080/",
     "height": 447
    },
    "executionInfo": {
     "elapsed": 504,
     "status": "ok",
     "timestamp": 1710341271012,
     "user": {
      "displayName": "Mohammad Reza Shahrestani",
      "userId": "10693113313433738905"
     },
     "user_tz": -210
    },
    "id": "wiY8_YexL8yK",
    "outputId": "9f8f3796-9627-450b-f946-ff36bd150127"
   },
   "outputs": [
    {
     "data": {
      "image/png": "[encoded data removed]",
      "text/plain": [
       "<Figure size 640x480 with 1 Axes>"
      ]
     },
     "metadata": {},
     "output_type": "display_data"
    },
    {
     "data": {
      "text/plain": [
       "5500"
      ]
     },
     "execution_count": 5,
     "metadata": {},
     "output_type": "execute_result"
    }
   ],
   "source": [
    "import matplotlib.pyplot as plt\n",
    "\n",
    "id_counts = bsmp['PROSODY_ID'].value_counts()\n",
    "id_counts_sorted = id_counts.sort_index()\n",
    "\n",
    "plt.bar(id_counts_sorted.index, id_counts_sorted)\n",
    "plt.show()\n",
    "records = len(bsmp)\n",
    "records"
   ]
  },
  {
   "cell_type": "markdown",
   "metadata": {
    "id": "OmqM_4ENxnid"
   },
   "source": [
    "## Splitting data to train,validation,test"
   ]
  },
  {
   "cell_type": "code",
   "execution_count": 6,
   "metadata": {
    "colab": {
     "base_uri": "https://localhost:8080/"
    },
    "executionInfo": {
     "elapsed": 34,
     "status": "ok",
     "timestamp": 1710341271012,
     "user": {
      "displayName": "Mohammad Reza Shahrestani",
      "userId": "10693113313433738905"
     },
     "user_tz": -210
    },
    "id": "yWiKfJLWw-j9",
    "outputId": "d3d3f443-19a9-4dfb-c7ef-6524a36342f1"
   },
   "outputs": [
    {
     "data": {
      "text/plain": [
       "(11000, 11000)"
      ]
     },
     "execution_count": 6,
     "metadata": {},
     "output_type": "execute_result"
    }
   ],
   "source": [
    "verse1 = list(bsmp[\"VERSE1\"])\n",
    "verse2 = list(bsmp[\"VERSE2\"])\n",
    "verse = verse1 + verse2\n",
    "prosody = list(bsmp[\"PROSODY\"]) + list(bsmp[\"PROSODY\"])\n",
    "len(verse),len(prosody)"
   ]
  },
  {
   "cell_type": "code",
   "execution_count": 7,
   "metadata": {
    "executionInfo": {
     "elapsed": 18,
     "status": "ok",
     "timestamp": 1710341271012,
     "user": {
      "displayName": "Mohammad Reza Shahrestani",
      "userId": "10693113313433738905"
     },
     "user_tz": -210
    },
    "id": "TCcKtJGSxe1k"
   },
   "outputs": [],
   "source": [
    "all_data=[]\n",
    "for i in range(len(verse)):\n",
    "  all_data.append((verse[i],prosody[i]))"
   ]
  },
  {
   "cell_type": "code",
   "execution_count": 8,
   "metadata": {
    "colab": {
     "base_uri": "https://localhost:8080/"
    },
    "executionInfo": {
     "elapsed": 18,
     "status": "ok",
     "timestamp": 1710341271012,
     "user": {
      "displayName": "Mohammad Reza Shahrestani",
      "userId": "10693113313433738905"
     },
     "user_tz": -210
    },
    "id": "xZGsj3AVx3Bn",
    "outputId": "29b3fc15-82c2-4162-dae0-bb987782112e"
   },
   "outputs": [
    {
     "data": {
      "text/plain": [
       "(11000, ('وقت فرخنده درختی است، هنر میوه', 'فعلاتن فعلاتن فعلاتن فع'))"
      ]
     },
     "execution_count": 8,
     "metadata": {},
     "output_type": "execute_result"
    }
   ],
   "source": [
    "len(all_data),all_data[500]"
   ]
  },
  {
   "cell_type": "code",
   "execution_count": 9,
   "metadata": {
    "executionInfo": {
     "elapsed": 1363,
     "status": "ok",
     "timestamp": 1710341272357,
     "user": {
      "displayName": "Mohammad Reza Shahrestani",
      "userId": "10693113313433738905"
     },
     "user_tz": -210
    },
    "id": "WNNHBzhfx4wf"
   },
   "outputs": [],
   "source": [
    "from sklearn.model_selection import train_test_split"
   ]
  },
  {
   "cell_type": "code",
   "execution_count": 10,
   "metadata": {
    "executionInfo": {
     "elapsed": 15,
     "status": "ok",
     "timestamp": 1710341272357,
     "user": {
      "displayName": "Mohammad Reza Shahrestani",
      "userId": "10693113313433738905"
     },
     "user_tz": -210
    },
    "id": "agJ7cV6lzOTw"
   },
   "outputs": [],
   "source": [
    "train_iter,test_iter=train_test_split(all_data,test_size=0.2,random_state=42,shuffle=True)"
   ]
  },
  {
   "cell_type": "code",
   "execution_count": 11,
   "metadata": {
    "colab": {
     "base_uri": "https://localhost:8080/"
    },
    "executionInfo": {
     "elapsed": 15,
     "status": "ok",
     "timestamp": 1710341272357,
     "user": {
      "displayName": "Mohammad Reza Shahrestani",
      "userId": "10693113313433738905"
     },
     "user_tz": -210
    },
    "id": "snc_SdNIzrKf",
    "outputId": "2d1f8a53-5484-451a-bc11-920591052854"
   },
   "outputs": [
    {
     "data": {
      "text/plain": [
       "(8800, 2200)"
      ]
     },
     "execution_count": 11,
     "metadata": {},
     "output_type": "execute_result"
    }
   ],
   "source": [
    "len(train_iter),len(test_iter)"
   ]
  },
  {
   "cell_type": "markdown",
   "metadata": {
    "id": "ENgi18T7z7YB"
   },
   "source": [
    "# Tokenizer:\n",
    "Since both verses and prosody have no space character we just list the string for tokenizer"
   ]
  },
  {
   "cell_type": "code",
   "execution_count": 12,
   "metadata": {
    "executionInfo": {
     "elapsed": 0,
     "status": "ok",
     "timestamp": 1710341272357,
     "user": {
      "displayName": "Mohammad Reza Shahrestani",
      "userId": "10693113313433738905"
     },
     "user_tz": -210
    },
    "id": "VZRJlGNrzzRS"
   },
   "outputs": [],
   "source": [
    "def my_tokenizer(word: str):\n",
    "    return word.split(\" \")"
   ]
  },
  {
   "cell_type": "markdown",
   "metadata": {
    "id": "kIV-Q01A0iiW"
   },
   "source": [
    "# Building vocab and token transform"
   ]
  },
  {
   "cell_type": "code",
   "execution_count": 13,
   "metadata": {
    "executionInfo": {
     "elapsed": 5770,
     "status": "ok",
     "timestamp": 1710341278127,
     "user": {
      "displayName": "Mohammad Reza Shahrestani",
      "userId": "10693113313433738905"
     },
     "user_tz": -210
    },
    "id": "1WrTkS5e0Nuy"
   },
   "outputs": [],
   "source": [
    "from torchtext.vocab import build_vocab_from_iterator\n",
    "from typing import Iterable, List\n",
    "\n",
    "token_transform = {}\n",
    "vocab_transform = {}\n",
    "\n",
    "SRC_LANGUAGE = 'verse'\n",
    "TGT_LANGUAGE = 'prosody'\n",
    "\n",
    "token_transform[SRC_LANGUAGE] = my_tokenizer\n",
    "token_transform[TGT_LANGUAGE] = my_tokenizer\n",
    "\n",
    "# yield token for build_vocab_from_iterator function\n",
    "def yield_tokens(data_iter: Iterable, language: str) -> List[str]:\n",
    "    language_index = {SRC_LANGUAGE: 0, TGT_LANGUAGE: 1}\n",
    "\n",
    "    for data_sample in data_iter:\n",
    "        yield token_transform[language](data_sample[language_index[language]])\n",
    "\n",
    "#special symbols and indices\n",
    "UNK_IDX, PAD_IDX, BOS_IDX, EOS_IDX = 0, 1, 2, 3\n",
    "special_symbols = ['<unk>', '<pad>', '<bos>', '<eos>']\n",
    "\n",
    "for ln in [SRC_LANGUAGE, TGT_LANGUAGE]:\n",
    "    # Training data Iterator\n",
    "    all_iter=all_data\n",
    "    # Create torchtext's Vocab object\n",
    "    vocab_transform[ln] = build_vocab_from_iterator(yield_tokens(all_data, ln),\n",
    "                                                    min_freq=1,\n",
    "                                                    specials=special_symbols,\n",
    "                                                    special_first=True)"
   ]
  },
  {
   "cell_type": "markdown",
   "metadata": {
    "id": "1SeiGMi72ds2"
   },
   "source": [
    "# Creating Transformer Model"
   ]
  },
  {
   "cell_type": "code",
   "execution_count": 14,
   "metadata": {
    "colab": {
     "base_uri": "https://localhost:8080/"
    },
    "executionInfo": {
     "elapsed": 17,
     "status": "ok",
     "timestamp": 1710341278127,
     "user": {
      "displayName": "Mohammad Reza Shahrestani",
      "userId": "10693113313433738905"
     },
     "user_tz": -210
    },
    "id": "k5pQfLYx2Up9",
    "outputId": "7f91cda1-2235-4b89-a69c-c63dc8369046"
   },
   "outputs": [
    {
     "data": {
      "text/plain": [
       "device(type='cuda')"
      ]
     },
     "execution_count": 14,
     "metadata": {},
     "output_type": "execute_result"
    }
   ],
   "source": [
    "from torch import Tensor\n",
    "import torch\n",
    "import torch.nn as nn\n",
    "from torch.nn import Transformer\n",
    "import math\n",
    "DEVICE = torch.device('cuda' if torch.cuda.is_available() else 'cpu')\n",
    "DEVICE"
   ]
  },
  {
   "cell_type": "markdown",
   "metadata": {
    "id": "FCjFGhSn2oQK"
   },
   "source": [
    "## PositionalEncoding"
   ]
  },
  {
   "cell_type": "code",
   "execution_count": 15,
   "metadata": {
    "executionInfo": {
     "elapsed": 5,
     "status": "ok",
     "timestamp": 1710341278127,
     "user": {
      "displayName": "Mohammad Reza Shahrestani",
      "userId": "10693113313433738905"
     },
     "user_tz": -210
    },
    "id": "9GvjQ0zS2ikk"
   },
   "outputs": [],
   "source": [
    "# helper Module that adds positional encoding to the token embedding to introduce a notion of word order.\n",
    "class PositionalEncoding(nn.Module):\n",
    "    def __init__(self,\n",
    "                 emb_size: int,\n",
    "                 dropout: float,\n",
    "                 maxlen: int = 5000):\n",
    "        super(PositionalEncoding, self).__init__()\n",
    "        den = torch.exp(- torch.arange(0, emb_size, 2)* math.log(10000) / emb_size)\n",
    "        pos = torch.arange(0, maxlen).reshape(maxlen, 1)\n",
    "        pos_embedding = torch.zeros((maxlen, emb_size))\n",
    "        pos_embedding[:, 0::2] = torch.sin(pos * den)\n",
    "        pos_embedding[:, 1::2] = torch.cos(pos * den)\n",
    "        pos_embedding = pos_embedding.unsqueeze(-2)\n",
    "\n",
    "        self.dropout = nn.Dropout(dropout)\n",
    "        self.register_buffer('pos_embedding', pos_embedding)\n",
    "\n",
    "    def forward(self, token_embedding: Tensor):\n",
    "        return self.dropout(token_embedding + self.pos_embedding[:token_embedding.size(0), :])\n"
   ]
  },
  {
   "cell_type": "markdown",
   "metadata": {
    "id": "rcWxTeAS2xF7"
   },
   "source": [
    "## TokenEmbedding"
   ]
  },
  {
   "cell_type": "code",
   "execution_count": 16,
   "metadata": {
    "executionInfo": {
     "elapsed": 4,
     "status": "ok",
     "timestamp": 1710341278127,
     "user": {
      "displayName": "Mohammad Reza Shahrestani",
      "userId": "10693113313433738905"
     },
     "user_tz": -210
    },
    "id": "6FiiR2912wfk"
   },
   "outputs": [],
   "source": [
    "# helper Module to convert tensor of input indices into corresponding tensor of token embeddings\n",
    "class TokenEmbedding(nn.Module):\n",
    "    def __init__(self, vocab_size: int, emb_size):\n",
    "        super(TokenEmbedding, self).__init__()\n",
    "        self.embedding = nn.Embedding(vocab_size, emb_size)\n",
    "        self.emb_size = emb_size\n",
    "\n",
    "    def forward(self, tokens: Tensor):\n",
    "        return self.embedding(tokens.long()) * math.sqrt(self.emb_size)\n"
   ]
  },
  {
   "cell_type": "markdown",
   "metadata": {
    "id": "jTukhlxU26KP"
   },
   "source": [
    "## Seq2Seq Transformer model"
   ]
  },
  {
   "cell_type": "code",
   "execution_count": 17,
   "metadata": {
    "executionInfo": {
     "elapsed": 4,
     "status": "ok",
     "timestamp": 1710341278127,
     "user": {
      "displayName": "Mohammad Reza Shahrestani",
      "userId": "10693113313433738905"
     },
     "user_tz": -210
    },
    "id": "d6T1y95v20Mj"
   },
   "outputs": [],
   "source": [
    "# Seq2Seq Network\n",
    "class Seq2SeqTransformer(nn.Module):\n",
    "    def __init__(self,\n",
    "                 num_encoder_layers: int,\n",
    "                 num_decoder_layers: int,\n",
    "                 emb_size: int,\n",
    "                 nhead: int,\n",
    "                 src_vocab_size: int,\n",
    "                 tgt_vocab_size: int,\n",
    "                 dim_feedforward: int = 512,\n",
    "                 dropout: float = 0.1):\n",
    "        super(Seq2SeqTransformer, self).__init__()\n",
    "        self.transformer = Transformer(d_model=emb_size,\n",
    "                                       nhead=nhead,\n",
    "                                       num_encoder_layers=num_encoder_layers,\n",
    "                                       num_decoder_layers=num_decoder_layers,\n",
    "                                       dim_feedforward=dim_feedforward,\n",
    "                                       dropout=dropout)\n",
    "        self.generator = nn.Linear(emb_size, tgt_vocab_size)\n",
    "        self.src_tok_emb = TokenEmbedding(src_vocab_size, emb_size)\n",
    "        self.tgt_tok_emb = TokenEmbedding(tgt_vocab_size, emb_size)\n",
    "        self.positional_encoding = PositionalEncoding(\n",
    "            emb_size, dropout=dropout)\n",
    "\n",
    "    def forward(self,\n",
    "                src: Tensor,\n",
    "                trg: Tensor,\n",
    "                src_mask: Tensor,\n",
    "                tgt_mask: Tensor,\n",
    "                src_padding_mask: Tensor,\n",
    "                tgt_padding_mask: Tensor,\n",
    "                memory_key_padding_mask: Tensor):\n",
    "        src_emb = self.positional_encoding(self.src_tok_emb(src))\n",
    "        tgt_emb = self.positional_encoding(self.tgt_tok_emb(trg))\n",
    "        outs = self.transformer(src_emb, tgt_emb, src_mask, tgt_mask, None,\n",
    "                                src_padding_mask, tgt_padding_mask, memory_key_padding_mask)\n",
    "        return self.generator(outs)\n",
    "\n",
    "    def encode(self, src: Tensor, src_mask: Tensor):\n",
    "        return self.transformer.encoder(self.positional_encoding(\n",
    "                            self.src_tok_emb(src)), src_mask)\n",
    "\n",
    "    def decode(self, tgt: Tensor, memory: Tensor, tgt_mask: Tensor):\n",
    "        return self.transformer.decoder(self.positional_encoding(\n",
    "                          self.tgt_tok_emb(tgt)), memory,\n",
    "                          tgt_mask)"
   ]
  },
  {
   "cell_type": "markdown",
   "metadata": {
    "id": "uhMLMRfP3Hjx"
   },
   "source": [
    "# Masking mechanism\n",
    "During training, we need a subsequent character mask that will prevent model to look into the future characters when making predictions. We will also need masks to hide source and target padding tokens. Below, let’s define a function that will take care of both.\n",
    "\n",
    "Reference : https://pytorch.org/tutorials/beginner/translation_transformer.html"
   ]
  },
  {
   "cell_type": "code",
   "execution_count": 18,
   "metadata": {
    "executionInfo": {
     "elapsed": 338,
     "status": "ok",
     "timestamp": 1710341278462,
     "user": {
      "displayName": "Mohammad Reza Shahrestani",
      "userId": "10693113313433738905"
     },
     "user_tz": -210
    },
    "id": "hMOIgPG93AW8"
   },
   "outputs": [],
   "source": [
    "def generate_square_subsequent_mask(sz):\n",
    "    mask = (torch.triu(torch.ones((sz, sz), device=DEVICE)) == 1).transpose(0, 1)\n",
    "    mask = mask.float().masked_fill(mask == 0, float('-inf')).masked_fill(mask == 1, float(0.0))\n",
    "    return mask\n",
    "\n",
    "\n",
    "def create_mask(src, tgt):\n",
    "    src_seq_len = src.shape[0]\n",
    "    tgt_seq_len = tgt.shape[0]\n",
    "\n",
    "    tgt_mask = generate_square_subsequent_mask(tgt_seq_len)\n",
    "    src_mask = torch.zeros((src_seq_len, src_seq_len),device=DEVICE).type(torch.bool)\n",
    "\n",
    "    src_padding_mask = (src == PAD_IDX).transpose(0, 1)\n",
    "    tgt_padding_mask = (tgt == PAD_IDX).transpose(0, 1)\n",
    "    return src_mask, tgt_mask, src_padding_mask, tgt_padding_mask"
   ]
  },
  {
   "cell_type": "markdown",
   "metadata": {
    "id": "lhYmlTCH3oLB"
   },
   "source": [
    "# Building Model"
   ]
  },
  {
   "cell_type": "code",
   "execution_count": 19,
   "metadata": {
    "colab": {
     "base_uri": "https://localhost:8080/"
    },
    "executionInfo": {
     "elapsed": 2793,
     "status": "ok",
     "timestamp": 1710341281255,
     "user": {
      "displayName": "Mohammad Reza Shahrestani",
      "userId": "10693113313433738905"
     },
     "user_tz": -210
    },
    "id": "koVESPMY3kWX",
    "outputId": "adfabe73-5d2c-4519-d62b-f0921c1f3d76"
   },
   "outputs": [
    {
     "name": "stderr",
     "output_type": "stream",
     "text": [
      "C:\\Users\\Turbo\\AppData\\Local\\Programs\\Python\\Python312\\Lib\\site-packages\\torch\\nn\\modules\\transformer.py:286: UserWarning: enable_nested_tensor is True, but self.use_nested_tensor is False because encoder_layer.self_attn.batch_first was not True(use batch_first for better inference performance)\n",
      "  warnings.warn(f\"enable_nested_tensor is True, but self.use_nested_tensor is False because {why_not_sparsity_fast_path}\")\n"
     ]
    }
   ],
   "source": [
    "torch.manual_seed(42)\n",
    "\n",
    "# Hyperparameters\n",
    "SRC_VOCAB_SIZE = len(vocab_transform[SRC_LANGUAGE])\n",
    "TGT_VOCAB_SIZE = len(vocab_transform[TGT_LANGUAGE])\n",
    "EMB_SIZE = 512\n",
    "NHEAD = 8\n",
    "FFN_HID_DIM = 512\n",
    "BATCH_SIZE = 128\n",
    "NUM_ENCODER_LAYERS = 5\n",
    "NUM_DECODER_LAYERS = 5\n",
    "\n",
    "weight_decay = float(0)\n",
    "lr = 1e-5\n",
    "\n",
    "# Instantiating Model\n",
    "s2s_model = Seq2SeqTransformer(NUM_ENCODER_LAYERS, NUM_DECODER_LAYERS, EMB_SIZE,\n",
    "                                 NHEAD, SRC_VOCAB_SIZE, TGT_VOCAB_SIZE, FFN_HID_DIM)\n",
    "\n",
    "# weights and biases initialization\n",
    "for p in s2s_model.parameters():\n",
    "    if p.dim() > 1:\n",
    "        nn.init.xavier_uniform_(p)\n",
    "\n",
    "s2s_model = s2s_model.to(DEVICE)\n",
    "\n",
    "# CrossEntropy Loss function\n",
    "loss_fn = torch.nn.CrossEntropyLoss(ignore_index=PAD_IDX)\n",
    "\n",
    "# AdamW optimizer\n",
    "optimizer = torch.optim.AdamW(s2s_model.parameters(), lr=lr, betas=(0.9, 0.98), eps=1e-9)"
   ]
  },
  {
   "cell_type": "markdown",
   "metadata": {
    "id": "S6gMpVjS4yvf"
   },
   "source": [
    "# Collation\n",
    "our data iterator yields a pair of raw strings. We need to convert these string pairs into the batched tensors that can be processed by our Seq2Seq network defined previously. Below we define our collate function that convert batch of raw strings into batch tensors that can be fed directly into our model.\n",
    "\n",
    "Reference : https://pytorch.org/tutorials/beginner/translation_transformer.html"
   ]
  },
  {
   "cell_type": "code",
   "execution_count": 20,
   "metadata": {
    "executionInfo": {
     "elapsed": 32,
     "status": "ok",
     "timestamp": 1710341281255,
     "user": {
      "displayName": "Mohammad Reza Shahrestani",
      "userId": "10693113313433738905"
     },
     "user_tz": -210
    },
    "id": "FUbvc6Sg4tb6"
   },
   "outputs": [],
   "source": [
    "from torch.nn.utils.rnn import pad_sequence\n",
    "\n",
    "# helper function to club together sequential operations\n",
    "def sequential_transforms(*transforms):\n",
    "    def func(txt_input):\n",
    "        for transform in transforms:\n",
    "            txt_input = transform(txt_input)\n",
    "        return txt_input\n",
    "    return func\n",
    "\n",
    "# function to add BOS/EOS and create tensor for input sequence indices\n",
    "def tensor_transform(token_ids: List[int]):\n",
    "    return torch.cat((torch.tensor([BOS_IDX]),\n",
    "                      torch.tensor(token_ids),\n",
    "                      torch.tensor([EOS_IDX])))\n",
    "\n",
    "# src and tgt language text transforms to convert raw strings into tensors indices\n",
    "text_transform = {}\n",
    "for ln in [SRC_LANGUAGE, TGT_LANGUAGE]:\n",
    "    text_transform[ln] = sequential_transforms(token_transform[ln], #Tokenization\n",
    "                                               vocab_transform[ln], #Numericalization\n",
    "                                               tensor_transform) # Add BOS/EOS and create tensor\n",
    "\n",
    "\n",
    "# function to collate data samples into batch tesors\n",
    "def collate_fn(batch):\n",
    "    src_batch, tgt_batch = [], []\n",
    "    for src_sample, tgt_sample in batch:\n",
    "        src_batch.append(text_transform[SRC_LANGUAGE](src_sample.rstrip(\"\\n\")))\n",
    "        tgt_batch.append(text_transform[TGT_LANGUAGE](tgt_sample.rstrip(\"\\n\")))\n",
    "\n",
    "    src_batch = pad_sequence(src_batch, padding_value=PAD_IDX)\n",
    "    tgt_batch = pad_sequence(tgt_batch, padding_value=PAD_IDX)\n",
    "    return src_batch, tgt_batch"
   ]
  },
  {
   "cell_type": "markdown",
   "metadata": {
    "id": "JWFor7mF50Rj"
   },
   "source": [
    "# Training"
   ]
  },
  {
   "cell_type": "code",
   "execution_count": 21,
   "metadata": {
    "executionInfo": {
     "elapsed": 16,
     "status": "ok",
     "timestamp": 1710341281255,
     "user": {
      "displayName": "Mohammad Reza Shahrestani",
      "userId": "10693113313433738905"
     },
     "user_tz": -210
    },
    "id": "u6FASGE56CGZ"
   },
   "outputs": [],
   "source": [
    "from torch.utils.data import DataLoader"
   ]
  },
  {
   "cell_type": "markdown",
   "metadata": {
    "id": "g2Q8x6k955wk"
   },
   "source": [
    "## Training function"
   ]
  },
  {
   "cell_type": "code",
   "execution_count": 22,
   "metadata": {
    "executionInfo": {
     "elapsed": 16,
     "status": "ok",
     "timestamp": 1710341281255,
     "user": {
      "displayName": "Mohammad Reza Shahrestani",
      "userId": "10693113313433738905"
     },
     "user_tz": -210
    },
    "id": "Yn6buel_5wKV"
   },
   "outputs": [],
   "source": [
    "\n",
    "def train_function(model, optimizer):\n",
    "    model.train()\n",
    "    losses = 0\n",
    "    train_dataloader = DataLoader(train_iter, batch_size=BATCH_SIZE, collate_fn=collate_fn)\n",
    "\n",
    "    for src, tgt in train_dataloader:\n",
    "        src = src.to(DEVICE)\n",
    "        tgt = tgt.to(DEVICE)\n",
    "\n",
    "        tgt_input = tgt[:-1, :]\n",
    "\n",
    "        src_mask, tgt_mask, src_padding_mask, tgt_padding_mask = create_mask(src, tgt_input)\n",
    "\n",
    "        logits = model(src, tgt_input, src_mask, tgt_mask,src_padding_mask, tgt_padding_mask, src_padding_mask)\n",
    "\n",
    "        optimizer.zero_grad()\n",
    "\n",
    "        tgt_out = tgt[1:, :]\n",
    "        loss = loss_fn(logits.reshape(-1, logits.shape[-1]), tgt_out.reshape(-1))\n",
    "        loss.backward()\n",
    "\n",
    "        optimizer.step()\n",
    "\n",
    "        losses += loss.item()\n",
    "\n",
    "    return losses / len(train_dataloader)"
   ]
  },
  {
   "cell_type": "markdown",
   "metadata": {
    "id": "7tu1KMvH6jSa"
   },
   "source": [
    "## Evaluating function"
   ]
  },
  {
   "cell_type": "code",
   "execution_count": 23,
   "metadata": {
    "executionInfo": {
     "elapsed": 16,
     "status": "ok",
     "timestamp": 1710341281255,
     "user": {
      "displayName": "Mohammad Reza Shahrestani",
      "userId": "10693113313433738905"
     },
     "user_tz": -210
    },
    "id": "4Uq5tsC16irJ"
   },
   "outputs": [],
   "source": [
    "def evaluate_function(model):\n",
    "    model.eval()\n",
    "    losses = 0\n",
    "\n",
    "    val_iter=test_iter\n",
    "    val_dataloader = DataLoader(val_iter, batch_size=BATCH_SIZE, collate_fn=collate_fn)\n",
    "\n",
    "    for src, tgt in val_dataloader:\n",
    "        src = src.to(DEVICE)\n",
    "        tgt = tgt.to(DEVICE)\n",
    "\n",
    "        tgt_input = tgt[:-1, :]\n",
    "\n",
    "        src_mask, tgt_mask, src_padding_mask, tgt_padding_mask = create_mask(src, tgt_input)\n",
    "\n",
    "        logits = model(src, tgt_input, src_mask, tgt_mask,src_padding_mask, tgt_padding_mask, src_padding_mask)\n",
    "\n",
    "        tgt_out = tgt[1:, :]\n",
    "        loss = loss_fn(logits.reshape(-1, logits.shape[-1]), tgt_out.reshape(-1))\n",
    "        losses += loss.item()\n",
    "\n",
    "    return losses / len(val_dataloader)"
   ]
  },
  {
   "cell_type": "markdown",
   "metadata": {
    "id": "i0QR4D2e648V"
   },
   "source": [
    "## Train model for N epochs"
   ]
  },
  {
   "cell_type": "code",
   "execution_count": 24,
   "metadata": {
    "colab": {
     "base_uri": "https://localhost:8080/"
    },
    "executionInfo": {
     "elapsed": 687629,
     "status": "ok",
     "timestamp": 1710344100830,
     "user": {
      "displayName": "Mohammad Reza Shahrestani",
      "userId": "10693113313433738905"
     },
     "user_tz": -210
    },
    "id": "u6vXLjQh61Xw",
    "outputId": "9ea3e2c3-2139-4038-ae86-e5ed0b23161b"
   },
   "outputs": [
    {
     "name": "stderr",
     "output_type": "stream",
     "text": [
      "C:\\Users\\Turbo\\AppData\\Local\\Programs\\Python\\Python312\\Lib\\site-packages\\torch\\nn\\functional.py:5476: UserWarning: 1Torch was not compiled with flash attention. (Triggered internally at ..\\aten\\src\\ATen\\native\\transformers\\cuda\\sdp_utils.cpp:263.)\n",
      "  attn_output = scaled_dot_product_attention(q, k, v, attn_mask, dropout_p, is_causal)\n",
      "C:\\Users\\Turbo\\AppData\\Local\\Programs\\Python\\Python312\\Lib\\site-packages\\torch\\nn\\functional.py:5109: UserWarning: Support for mismatched key_padding_mask and attn_mask is deprecated. Use same type for both instead.\n",
      "  warnings.warn(\n"
     ]
    },
    {
     "name": "stdout",
     "output_type": "stream",
     "text": [
      "Epoch: 0, Train loss: 2.632, Val loss: 1.634, Epoch time = 3.933s\n",
      "Epoch: 1, Train loss: 1.772, Val loss: 1.216, Epoch time = 2.487s\n",
      "Epoch: 2, Train loss: 1.434, Val loss: 1.018, Epoch time = 2.574s\n",
      "Epoch: 3, Train loss: 1.255, Val loss: 0.913, Epoch time = 2.474s\n",
      "Epoch: 4, Train loss: 1.148, Val loss: 0.864, Epoch time = 2.385s\n",
      "Epoch: 5, Train loss: 1.081, Val loss: 0.835, Epoch time = 2.520s\n",
      "Epoch: 6, Train loss: 1.033, Val loss: 0.809, Epoch time = 2.389s\n",
      "Epoch: 7, Train loss: 0.990, Val loss: 0.790, Epoch time = 2.393s\n",
      "Epoch: 8, Train loss: 0.953, Val loss: 0.777, Epoch time = 2.387s\n",
      "Epoch: 9, Train loss: 0.930, Val loss: 0.766, Epoch time = 2.372s\n",
      "Epoch: 10, Train loss: 0.907, Val loss: 0.758, Epoch time = 2.391s\n",
      "Epoch: 11, Train loss: 0.890, Val loss: 0.746, Epoch time = 2.409s\n",
      "Epoch: 12, Train loss: 0.874, Val loss: 0.737, Epoch time = 2.419s\n",
      "Epoch: 13, Train loss: 0.861, Val loss: 0.730, Epoch time = 2.415s\n",
      "Epoch: 14, Train loss: 0.837, Val loss: 0.731, Epoch time = 2.414s\n",
      "Epoch: 15, Train loss: 0.820, Val loss: 0.725, Epoch time = 2.392s\n",
      "Epoch: 16, Train loss: 0.808, Val loss: 0.720, Epoch time = 2.388s\n",
      "Epoch: 17, Train loss: 0.793, Val loss: 0.714, Epoch time = 2.431s\n",
      "Epoch: 18, Train loss: 0.779, Val loss: 0.721, Epoch time = 2.440s\n",
      "Epoch: 19, Train loss: 0.765, Val loss: 0.705, Epoch time = 2.433s\n"
     ]
    }
   ],
   "source": [
    "from timeit import default_timer as timer\n",
    "epoch_times = []\n",
    "NUM_EPOCHS = 20\n",
    "\n",
    "stats_for_plotting={\"train_losses\":[],\"test_losses\":[]}\n",
    "for epoch in range(NUM_EPOCHS):\n",
    "    start_time = timer()\n",
    "    train_loss = train_function(s2s_model, optimizer)\n",
    "    end_time = timer()\n",
    "    val_loss = evaluate_function(s2s_model)\n",
    "    et = end_time - start_time\n",
    "    epoch_times.append(et)\n",
    "    print((f\"Epoch: {epoch}, Train loss: {train_loss:.3f}, Val loss: {val_loss:.3f}, \"f\"Epoch time = {et:.3f}s\"))\n",
    "    stats_for_plotting[\"train_losses\"].append(train_loss)\n",
    "    stats_for_plotting[\"test_losses\"].append(val_loss)\n",
    "torch.save(s2s_model.state_dict(), f\"s2s-{records}-{NUM_EPOCHS}e.pth\")"
   ]
  },
  {
   "cell_type": "markdown",
   "metadata": {
    "id": "26iDyq_lL61Q"
   },
   "source": [
    "## Plotting stats"
   ]
  },
  {
   "cell_type": "code",
   "execution_count": 25,
   "metadata": {
    "executionInfo": {
     "elapsed": 16,
     "status": "ok",
     "timestamp": 1710344100830,
     "user": {
      "displayName": "Mohammad Reza Shahrestani",
      "userId": "10693113313433738905"
     },
     "user_tz": -210
    },
    "id": "JntFHyhBMTDN"
   },
   "outputs": [],
   "source": [
    "from matplotlib import pyplot as plt"
   ]
  },
  {
   "cell_type": "code",
   "execution_count": 26,
   "metadata": {
    "colab": {
     "base_uri": "https://localhost:8080/",
     "height": 449
    },
    "executionInfo": {
     "elapsed": 16,
     "status": "ok",
     "timestamp": 1710344100830,
     "user": {
      "displayName": "Mohammad Reza Shahrestani",
      "userId": "10693113313433738905"
     },
     "user_tz": -210
    },
    "id": "G4NKYn7TL9xI",
    "outputId": "176d32f4-70da-4921-aabf-8d89518894a1"
   },
   "outputs": [
    {
     "data": {
      "image/png": "[encoded data removed]",
      "text/plain": [
       "<Figure size 640x480 with 1 Axes>"
      ]
     },
     "metadata": {},
     "output_type": "display_data"
    }
   ],
   "source": [
    "plt.plot(stats_for_plotting[\"train_losses\"],label=\"train\")\n",
    "plt.plot(stats_for_plotting[\"test_losses\"],label=\"validation\")\n",
    "plt.legend(loc=\"upper right\")\n",
    "plt.xlabel(\"Epoch\")\n",
    "plt.ylabel(\"Loss\")\n",
    "plt.show()"
   ]
  },
  {
   "cell_type": "code",
   "execution_count": 27,
   "metadata": {
    "colab": {
     "base_uri": "https://localhost:8080/"
    },
    "executionInfo": {
     "elapsed": 6488,
     "status": "ok",
     "timestamp": 1710344107302,
     "user": {
      "displayName": "Mohammad Reza Shahrestani",
      "userId": "10693113313433738905"
     },
     "user_tz": -210
    },
    "id": "iPU63r-eGzkc",
    "outputId": "cfa47a2b-b715-493e-f293-bdfd8f463a31"
   },
   "outputs": [
    {
     "name": "stdout",
     "output_type": "stream",
     "text": [
      "Requirement already satisfied: jiwer in c:\\users\\turbo\\appdata\\local\\programs\\python\\python312\\lib\\site-packages (3.0.3)\n",
      "Requirement already satisfied: click<9.0.0,>=8.1.3 in c:\\users\\turbo\\appdata\\local\\programs\\python\\python312\\lib\\site-packages (from jiwer) (8.1.7)\n",
      "Requirement already satisfied: rapidfuzz<4,>=3 in c:\\users\\turbo\\appdata\\local\\programs\\python\\python312\\lib\\site-packages (from jiwer) (3.6.2)\n",
      "Requirement already satisfied: colorama in c:\\users\\turbo\\appdata\\local\\programs\\python\\python312\\lib\\site-packages (from click<9.0.0,>=8.1.3->jiwer) (0.4.6)\n"
     ]
    }
   ],
   "source": [
    "!pip install jiwer"
   ]
  },
  {
   "cell_type": "markdown",
   "metadata": {
    "id": "0nKRNNr37A7F"
   },
   "source": [
    "# Inference"
   ]
  },
  {
   "cell_type": "markdown",
   "metadata": {
    "id": "kPfQE_Hv7LV_"
   },
   "source": [
    "## decoder function\n",
    "it is called greedy decoder because we don't do any beam search for results"
   ]
  },
  {
   "cell_type": "code",
   "execution_count": 28,
   "metadata": {
    "executionInfo": {
     "elapsed": 31,
     "status": "ok",
     "timestamp": 1710344107302,
     "user": {
      "displayName": "Mohammad Reza Shahrestani",
      "userId": "10693113313433738905"
     },
     "user_tz": -210
    },
    "id": "z7LXAnFH7CCQ"
   },
   "outputs": [],
   "source": [
    "# function to generate output sequence\n",
    "def greedy_decode(model, src, src_mask, max_len, start_symbol):\n",
    "    src = src.to(DEVICE)\n",
    "    src_mask = src_mask.to(DEVICE)\n",
    "\n",
    "    memory = model.encode(src, src_mask)\n",
    "    ys = torch.ones(1, 1).fill_(start_symbol).type(torch.long).to(DEVICE)\n",
    "    for i in range(max_len-1):\n",
    "        memory = memory.to(DEVICE)\n",
    "        tgt_mask = (generate_square_subsequent_mask(ys.size(0))\n",
    "                    .type(torch.bool)).to(DEVICE)\n",
    "        out = model.decode(ys, memory, tgt_mask)\n",
    "        out = out.transpose(0, 1)\n",
    "        prob = model.generator(out[:, -1])\n",
    "        _, next_word = torch.max(prob, dim=1)\n",
    "        next_word = next_word.item()\n",
    "\n",
    "        ys = torch.cat([ys,\n",
    "                        torch.ones(1, 1).type_as(src.data).fill_(next_word)], dim=0)\n",
    "        if next_word == EOS_IDX:\n",
    "            break\n",
    "    return ys\n"
   ]
  },
  {
   "cell_type": "markdown",
   "metadata": {
    "id": "IxGW_FeW7iOc"
   },
   "source": [
    "## Inference function\n",
    "gives a grapheme and outputs the phoneme"
   ]
  },
  {
   "cell_type": "code",
   "execution_count": 29,
   "metadata": {
    "executionInfo": {
     "elapsed": 16,
     "status": "ok",
     "timestamp": 1710344107302,
     "user": {
      "displayName": "Mohammad Reza Shahrestani",
      "userId": "10693113313433738905"
     },
     "user_tz": -210
    },
    "id": "l1CcrIQE7c1E"
   },
   "outputs": [],
   "source": [
    "def inference(model: torch.nn.Module, src_sentence: str):\n",
    "    model.eval()\n",
    "    src = text_transform[SRC_LANGUAGE](src_sentence).view(-1, 1)\n",
    "    num_tokens = src.shape[0]\n",
    "    src_mask = (torch.zeros(num_tokens, num_tokens)).type(torch.bool)\n",
    "    tgt_tokens = greedy_decode(\n",
    "        model,  src, src_mask, max_len=num_tokens + 5, start_symbol=BOS_IDX).flatten()\n",
    "    return \" \".join(vocab_transform[TGT_LANGUAGE].lookup_tokens(list(tgt_tokens.cpu().numpy()))).replace(\"<bos>\", \"\").replace(\"<eos>\", \"\")"
   ]
  },
  {
   "cell_type": "markdown",
   "metadata": {
    "id": "iUYHHLFURoyb"
   },
   "source": [
    "# Evaluating model last checkpoint"
   ]
  },
  {
   "cell_type": "markdown",
   "metadata": {
    "id": "XFgpPuo2RvCW"
   },
   "source": [
    "## 1.Saving all predictions"
   ]
  },
  {
   "cell_type": "code",
   "execution_count": 30,
   "metadata": {
    "colab": {
     "background_save": true,
     "base_uri": "https://localhost:8080/"
    },
    "id": "h-ro0MFg-LQI"
   },
   "outputs": [
    {
     "name": "stderr",
     "output_type": "stream",
     "text": [
      "100%|██████████████████████████████████████████████████████████████████████████████| 2200/2200 [01:02<00:00, 35.23it/s]\n"
     ]
    }
   ],
   "source": [
    "from tqdm import tqdm\n",
    "all_preds=[]\n",
    "for gs,ps in tqdm(test_iter):\n",
    "  ground_truth=ps\n",
    "  myoutput=inference(s2s_model,gs)\n",
    "  all_preds.append(myoutput.replace(\" \",\"\"))"
   ]
  },
  {
   "cell_type": "markdown",
   "metadata": {
    "id": "9ErrVOkfR3cL"
   },
   "source": [
    "## 2.Calculating WER and PER\n",
    "WER : Word error rate\n",
    "\n",
    "PER : Phoneme error rate"
   ]
  },
  {
   "cell_type": "code",
   "execution_count": 31,
   "metadata": {
    "colab": {
     "background_save": true
    },
    "id": "T2JbrYTGG_Gh"
   },
   "outputs": [],
   "source": [
    "from jiwer import cer,wer"
   ]
  },
  {
   "cell_type": "code",
   "execution_count": 32,
   "metadata": {
    "colab": {
     "background_save": true
    },
    "id": "2xZhmT9M-LJJ"
   },
   "outputs": [
    {
     "name": "stdout",
     "output_type": "stream",
     "text": [
      "Exact Accuracy : 0.06727272727272728\n",
      "PER : 0.4305881528381391\n",
      "WER : 0.9327272727272727\n"
     ]
    }
   ],
   "source": [
    "trues=0\n",
    "all_num=0\n",
    "average_cer=0\n",
    "average_wer=0\n",
    "for i in range(len(all_preds)):\n",
    "  if all_preds[i]==test_iter[i][1].replace(\" \",\"\"):\n",
    "    trues+=1\n",
    "  all_num+=1\n",
    "  average_cer+=cer(test_iter[i][1].replace(\" \",\"\"),all_preds[i])\n",
    "  average_wer+=wer(test_iter[i][1].replace(\" \",\"\"),all_preds[i])\n",
    "average_cer/=len(all_preds)\n",
    "average_wer/=len(all_preds)\n",
    "exact_accuracy=trues/all_num\n",
    "print(f\"Exact Accuracy : {exact_accuracy}\")\n",
    "print(f\"PER : {average_cer}\")\n",
    "print(f\"WER : {average_wer}\")"
   ]
  },
  {
   "cell_type": "code",
   "execution_count": 33,
   "metadata": {
    "colab": {
     "background_save": true
    },
    "id": "g8cz9IOUmkWr"
   },
   "outputs": [
    {
     "name": "stdout",
     "output_type": "stream",
     "text": [
      "Epoch: 19, Train loss: 0.765, Val loss: 0.705, Epoch time = 2.433s\n",
      "train time = 50.04574190004496\n",
      "Accuracy : 0.06727272727272728\n",
      "PER : 0.4305881528381391\n",
      "WER : 0.9327272727272727\n",
      "F1 score : 0.03350914223797505\n",
      "Precision : 0.03966696890857715\n",
      "Recall : 0.06727272727272728\n",
      "Confusion Matrix :\n",
      "[[0 0 0 ... 2 0 0]\n",
      " [0 0 0 ... 4 0 0]\n",
      " [0 0 7 ... 2 0 0]\n",
      " ...\n",
      " [0 0 1 ... 8 0 0]\n",
      " [0 0 0 ... 7 1 0]\n",
      " [0 0 0 ... 3 0 0]]\n"
     ]
    },
    {
     "name": "stderr",
     "output_type": "stream",
     "text": [
      "C:\\Users\\Turbo\\AppData\\Local\\Programs\\Python\\Python312\\Lib\\site-packages\\sklearn\\metrics\\_classification.py:1509: UndefinedMetricWarning: Precision is ill-defined and being set to 0.0 in labels with no predicted samples. Use `zero_division` parameter to control this behavior.\n",
      "  _warn_prf(average, modifier, f\"{metric.capitalize()} is\", len(result))\n",
      "C:\\Users\\Turbo\\AppData\\Local\\Programs\\Python\\Python312\\Lib\\site-packages\\sklearn\\metrics\\_classification.py:1509: UndefinedMetricWarning: Recall is ill-defined and being set to 0.0 in labels with no true samples. Use `zero_division` parameter to control this behavior.\n",
      "  _warn_prf(average, modifier, f\"{metric.capitalize()} is\", len(result))\n"
     ]
    }
   ],
   "source": [
    "from sklearn.metrics import confusion_matrix, f1_score, precision_score, recall_score\n",
    "\n",
    "true_labels = [data[1].replace(\" \",\"\") for data in test_iter]\n",
    "\n",
    "# Calculate confusion matrix\n",
    "cm = confusion_matrix(true_labels, all_preds)\n",
    "\n",
    "# Calculate precision, recall, and f1-score\n",
    "precision = precision_score(true_labels, all_preds, average='weighted')\n",
    "recall = recall_score(true_labels, all_preds, average='weighted')\n",
    "f1 = f1_score(true_labels, all_preds, average='weighted')\n",
    "\n",
    "# Print the results\n",
    "print((f\"Epoch: {epoch}, Train loss: {train_loss:.3f}, Val loss: {val_loss:.3f}, \"f\"Epoch time = {(end_time - start_time):.3f}s\"))\n",
    "print(f'train time = {sum(epoch_times)}')\n",
    "print(f\"Accuracy : {exact_accuracy}\")\n",
    "print(f\"PER : {average_cer}\")\n",
    "print(f\"WER : {average_wer}\")\n",
    "print(f\"F1 score : {f1}\")\n",
    "print(f\"Precision : {precision}\")\n",
    "print(f\"Recall : {recall}\")\n",
    "print(\"Confusion Matrix :\")\n",
    "print(cm)"
   ]
  },
  {
   "cell_type": "markdown",
   "metadata": {
    "id": "C6aO6KBM8G9K"
   },
   "source": [
    "## Some examples:\n",
    "\n",
    "\n"
   ]
  },
  {
   "cell_type": "code",
   "execution_count": 34,
   "metadata": {
    "colab": {
     "background_save": true
    },
    "id": "EjQbOo10hDac"
   },
   "outputs": [],
   "source": [
    "some_example_df=pd.DataFrame(columns=['Verse','Predicted Prosody','Correct Prosody'])"
   ]
  },
  {
   "cell_type": "code",
   "execution_count": 35,
   "metadata": {
    "colab": {
     "background_save": true
    },
    "id": "xC1cACQr72dK"
   },
   "outputs": [
    {
     "data": {
      "text/html": [
       "<div>\n",
       "<style scoped>\n",
       "    .dataframe tbody tr th:only-of-type {\n",
       "        vertical-align: middle;\n",
       "    }\n",
       "\n",
       "    .dataframe tbody tr th {\n",
       "        vertical-align: top;\n",
       "    }\n",
       "\n",
       "    .dataframe thead th {\n",
       "        text-align: right;\n",
       "    }\n",
       "</style>\n",
       "<table border=\"1\" class=\"dataframe\">\n",
       "  <thead>\n",
       "    <tr style=\"text-align: right;\">\n",
       "      <th></th>\n",
       "      <th>Verse</th>\n",
       "      <th>Predicted Prosody</th>\n",
       "      <th>Correct Prosody</th>\n",
       "    </tr>\n",
       "  </thead>\n",
       "  <tbody>\n",
       "    <tr>\n",
       "      <th>0</th>\n",
       "      <td>در وادی صائم و صلی زد</td>\n",
       "      <td>مفعول فاعلات مفاعیلن</td>\n",
       "      <td>مستفعلتن مستفعلتن</td>\n",
       "    </tr>\n",
       "    <tr>\n",
       "      <th>1</th>\n",
       "      <td>همچو طنبور و رشته ی طنبور</td>\n",
       "      <td>مفعول فاعلات مفاعیلن</td>\n",
       "      <td>فعلاتن مفاعلن فعلن</td>\n",
       "    </tr>\n",
       "    <tr>\n",
       "      <th>2</th>\n",
       "      <td>می کند چشم تو تا بیخود ز ساغر گشته است</td>\n",
       "      <td>مفتعلن مفتعلن مفتعلن مفتعلن</td>\n",
       "      <td>مفتعلن مفتعلن فع مفتعلن مفتعلن فع</td>\n",
       "    </tr>\n",
       "    <tr>\n",
       "      <th>3</th>\n",
       "      <td>چون تیغ درین معرکه ماییم و زبانی</td>\n",
       "      <td>مفعول فاعلات مفاعیل فاعلاتن</td>\n",
       "      <td>مفعول مفاعیل مفاعیل فعولن</td>\n",
       "    </tr>\n",
       "    <tr>\n",
       "      <th>4</th>\n",
       "      <td>آتشی دارد دل سنگ از محبت در نهاد</td>\n",
       "      <td>فاعلاتن فاعلاتن فاعلاتن فاعلاتن</td>\n",
       "      <td>فعلاتن فعلاتن فعلاتن فعلاتن</td>\n",
       "    </tr>\n",
       "    <tr>\n",
       "      <th>5</th>\n",
       "      <td>بر جسم پردلان جوشن‌کنی قبا</td>\n",
       "      <td>مفعول فاعلات مفاعیلن</td>\n",
       "      <td>مفعول فاعلن مفعول فاعلن</td>\n",
       "    </tr>\n",
       "    <tr>\n",
       "      <th>6</th>\n",
       "      <td>کوری دیده خفاشان را</td>\n",
       "      <td>مفعول فاعلات مفاعیلن</td>\n",
       "      <td>فعلاتن فعلاتن فعلن</td>\n",
       "    </tr>\n",
       "    <tr>\n",
       "      <th>7</th>\n",
       "      <td>زاهد صومعه را گو بیکی ساغر</td>\n",
       "      <td>مفعول فاعلات مفاعیلن</td>\n",
       "      <td>فعلاتن فعلاتن فعلاتن فع</td>\n",
       "    </tr>\n",
       "    <tr>\n",
       "      <th>8</th>\n",
       "      <td>باد ببر پیروزی و شاهی قرارت</td>\n",
       "      <td>مفعول فاعلات مفاعیلن</td>\n",
       "      <td>فاعلاتن فاعلاتن فاعلاتن</td>\n",
       "    </tr>\n",
       "    <tr>\n",
       "      <th>9</th>\n",
       "      <td>نیلی ز سیلی رخ یتیمان</td>\n",
       "      <td>مفعول مفاعیل مفاعیل فعل</td>\n",
       "      <td>مفاعلن فع مفاعلن فع</td>\n",
       "    </tr>\n",
       "    <tr>\n",
       "      <th>10</th>\n",
       "      <td>لم یرضنی عبدا و بین عشیرتی</td>\n",
       "      <td>مفعول فاعلات مفاعیل فع</td>\n",
       "      <td>مستفعلتن مستفعلتن</td>\n",
       "    </tr>\n",
       "    <tr>\n",
       "      <th>11</th>\n",
       "      <td>چه شود گر کفی زنی که سلام علیکم</td>\n",
       "      <td>مفتعلن مفتعلن مفتعلن مفتعلن</td>\n",
       "      <td>فعلاتن مفاعلن فعلاتن مفاعلن</td>\n",
       "    </tr>\n",
       "    <tr>\n",
       "      <th>12</th>\n",
       "      <td>اینک اینک میوزد باد خزان ای نوبهار</td>\n",
       "      <td>مفتعلن مفتعلن مفتعلن مفتعلن</td>\n",
       "      <td>مفتعلن مفتعلن فع مفتعلن مفتعلن فع</td>\n",
       "    </tr>\n",
       "    <tr>\n",
       "      <th>13</th>\n",
       "      <td>گفتا که پیش آیی از لبم نوش</td>\n",
       "      <td>مفتعلن مفتعلن فاعلن</td>\n",
       "      <td>مستفعلن فع مستفعلن فع</td>\n",
       "    </tr>\n",
       "    <tr>\n",
       "      <th>14</th>\n",
       "      <td>گوشت همی سازند از بهر تو</td>\n",
       "      <td>مفعول فاعلات مفاعیلن</td>\n",
       "      <td>مفتعلن مفتعلن فاعلن</td>\n",
       "    </tr>\n",
       "    <tr>\n",
       "      <th>15</th>\n",
       "      <td>اگر بباید که نیست باکم شود پشیمان ز کشتن من</td>\n",
       "      <td>مفاعلن فع مفاعلن فع مفاعلن فع مفاعلن فع مفاعل...</td>\n",
       "      <td>مفاعلن فع مفاعلن فع مفاعلن فع مفاعلن فع</td>\n",
       "    </tr>\n",
       "    <tr>\n",
       "      <th>16</th>\n",
       "      <td>تو ماه و مکه ز روی تو آسمان برین</td>\n",
       "      <td>مفعول فاعلات مفاعیل فاعلاتن</td>\n",
       "      <td>مستفعلن فعلن مستفعلن فعلن</td>\n",
       "    </tr>\n",
       "    <tr>\n",
       "      <th>17</th>\n",
       "      <td>صفا به رندی کجا تواند دم از بیانات عاشقی زد</td>\n",
       "      <td>مفتعلن مفتعلن مفتعلن مفتعلن</td>\n",
       "      <td>مفاعلن فع مفاعلن فع مفاعلن فع مفاعلن فع</td>\n",
       "    </tr>\n",
       "    <tr>\n",
       "      <th>18</th>\n",
       "      <td>تا دل شب تیره نشکند</td>\n",
       "      <td>مفعول مفاعیل فاعلن</td>\n",
       "      <td>فاعلات فع فاعلات فع</td>\n",
       "    </tr>\n",
       "    <tr>\n",
       "      <th>19</th>\n",
       "      <td>اگر گفت شوگوشوم در برش گو</td>\n",
       "      <td>مفعول فاعلات مفاعیلن</td>\n",
       "      <td>مفاعیل فعولن مفاعیل فعولن</td>\n",
       "    </tr>\n",
       "  </tbody>\n",
       "</table>\n",
       "</div>"
      ],
      "text/plain": [
       "                                          Verse  \\\n",
       "0                         در وادی صائم و صلی زد   \n",
       "1                     همچو طنبور و رشته ی طنبور   \n",
       "2        می کند چشم تو تا بیخود ز ساغر گشته است   \n",
       "3              چون تیغ درین معرکه ماییم و زبانی   \n",
       "4              آتشی دارد دل سنگ از محبت در نهاد   \n",
       "5                    بر جسم پردلان جوشن‌کنی قبا   \n",
       "6                           کوری دیده خفاشان را   \n",
       "7                    زاهد صومعه را گو بیکی ساغر   \n",
       "8                   باد ببر پیروزی و شاهی قرارت   \n",
       "9                         نیلی ز سیلی رخ یتیمان   \n",
       "10                   لم یرضنی عبدا و بین عشیرتی   \n",
       "11              چه شود گر کفی زنی که سلام علیکم   \n",
       "12           اینک اینک میوزد باد خزان ای نوبهار   \n",
       "13                   گفتا که پیش آیی از لبم نوش   \n",
       "14                     گوشت همی سازند از بهر تو   \n",
       "15  اگر بباید که نیست باکم شود پشیمان ز کشتن من   \n",
       "16             تو ماه و مکه ز روی تو آسمان برین   \n",
       "17  صفا به رندی کجا تواند دم از بیانات عاشقی زد   \n",
       "18                          تا دل شب تیره نشکند   \n",
       "19                    اگر گفت شوگوشوم در برش گو   \n",
       "\n",
       "                                    Predicted Prosody  \\\n",
       "0                              مفعول فاعلات مفاعیلن     \n",
       "1                              مفعول فاعلات مفاعیلن     \n",
       "2                       مفتعلن مفتعلن مفتعلن مفتعلن     \n",
       "3                        مفعول فاعلات مفاعیل فاعلاتن    \n",
       "4                   فاعلاتن فاعلاتن فاعلاتن فاعلاتن     \n",
       "5                              مفعول فاعلات مفاعیلن     \n",
       "6                               مفعول فاعلات مفاعیلن    \n",
       "7                              مفعول فاعلات مفاعیلن     \n",
       "8                              مفعول فاعلات مفاعیلن     \n",
       "9                           مفعول مفاعیل مفاعیل فعل     \n",
       "10                            مفعول فاعلات مفاعیل فع    \n",
       "11                      مفتعلن مفتعلن مفتعلن مفتعلن     \n",
       "12                      مفتعلن مفتعلن مفتعلن مفتعلن     \n",
       "13                              مفتعلن مفتعلن فاعلن     \n",
       "14                             مفعول فاعلات مفاعیلن     \n",
       "15   مفاعلن فع مفاعلن فع مفاعلن فع مفاعلن فع مفاعل...   \n",
       "16                       مفعول فاعلات مفاعیل فاعلاتن    \n",
       "17                      مفتعلن مفتعلن مفتعلن مفتعلن     \n",
       "18                                مفعول مفاعیل فاعلن    \n",
       "19                             مفعول فاعلات مفاعیلن     \n",
       "\n",
       "                            Correct Prosody  \n",
       "0                         مستفعلتن مستفعلتن  \n",
       "1                       فعلاتن مفاعلن فعلن   \n",
       "2         مفتعلن مفتعلن فع مفتعلن مفتعلن فع  \n",
       "3                مفعول مفاعیل مفاعیل فعولن   \n",
       "4              فعلاتن فعلاتن فعلاتن فعلاتن   \n",
       "5                   مفعول فاعلن مفعول فاعلن  \n",
       "6                       فعلاتن فعلاتن فعلن   \n",
       "7                   فعلاتن فعلاتن فعلاتن فع  \n",
       "8                   فاعلاتن فاعلاتن فاعلاتن  \n",
       "9                       مفاعلن فع مفاعلن فع  \n",
       "10                        مستفعلتن مستفعلتن  \n",
       "11              فعلاتن مفاعلن فعلاتن مفاعلن  \n",
       "12        مفتعلن مفتعلن فع مفتعلن مفتعلن فع  \n",
       "13                   مستفعلن فع مستفعلن فع   \n",
       "14                     مفتعلن مفتعلن فاعلن   \n",
       "15  مفاعلن فع مفاعلن فع مفاعلن فع مفاعلن فع  \n",
       "16               مستفعلن فعلن مستفعلن فعلن   \n",
       "17  مفاعلن فع مفاعلن فع مفاعلن فع مفاعلن فع  \n",
       "18                      فاعلات فع فاعلات فع  \n",
       "19                مفاعیل فعولن مفاعیل فعولن  "
      ]
     },
     "execution_count": 35,
     "metadata": {},
     "output_type": "execute_result"
    }
   ],
   "source": [
    "import random\n",
    "some_examples=random.sample(test_iter, 20)\n",
    "example_gs=[]\n",
    "example_gt_prosody=[]\n",
    "example_pred_prosody=[]\n",
    "for example in some_examples:\n",
    "  example_gs.append(example[0])\n",
    "  example_gt_prosody.append(example[1])\n",
    "  example_pred_prosody.append(inference(s2s_model,example[0]))\n",
    "some_example_df[\"Verse\"]=example_gs\n",
    "some_example_df[\"Predicted Prosody\"]=example_pred_prosody\n",
    "some_example_df[\"Correct Prosody\"]=example_gt_prosody\n",
    "some_example_df"
   ]
  },
  {
   "cell_type": "markdown",
   "metadata": {
    "id": "Yc9ccPuApXpo"
   },
   "source": [
    "## Custom Verse"
   ]
  },
  {
   "cell_type": "code",
   "execution_count": 36,
   "metadata": {
    "colab": {
     "base_uri": "https://localhost:8080/",
     "height": 35
    },
    "executionInfo": {
     "elapsed": 30,
     "status": "ok",
     "timestamp": 1710342682963,
     "user": {
      "displayName": "Mohammad Reza Shahrestani",
      "userId": "10693113313433738905"
     },
     "user_tz": -210
    },
    "id": "kytNq8vig1oV",
    "outputId": "f9015cea-e4e2-4cdb-85e8-791260286c32"
   },
   "outputs": [
    {
     "data": {
      "text/plain": [
       "' مستفعلن مستفعلن مستفعلن مستفعلن فع '"
      ]
     },
     "execution_count": 36,
     "metadata": {},
     "output_type": "execute_result"
    }
   ],
   "source": [
    "inference(s2s_model,\"سلام\")"
   ]
  }
 ],
 "metadata": {
  "accelerator": "TPU",
  "colab": {
   "name": "",
   "version": ""
  },
  "kernelspec": {
   "display_name": "cuda-gpt",
   "language": "python",
   "name": "cuda"
  },
  "language_info": {
   "codemirror_mode": {
    "name": "ipython",
    "version": 3
   },
   "file_extension": ".py",
   "mimetype": "text/x-python",
   "name": "python",
   "nbconvert_exporter": "python",
   "pygments_lexer": "ipython3",
   "version": "3.12.2"
  }
 },
 "nbformat": 4,
 "nbformat_minor": 4
}
